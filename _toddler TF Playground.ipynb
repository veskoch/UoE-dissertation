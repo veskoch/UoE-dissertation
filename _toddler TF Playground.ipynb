{
 "cells": [
  {
   "cell_type": "code",
   "execution_count": 30,
   "metadata": {},
   "outputs": [],
   "source": [
    "# https://github.com/vahidk/EffectiveTensorflow#basics"
   ]
  },
  {
   "cell_type": "code",
   "execution_count": 1,
   "metadata": {},
   "outputs": [],
   "source": [
    "import sys\n",
    "import tensorflow as tf\n",
    "import glob\n",
    "import numpy as np\n",
    "import magenta\n",
    "\n",
    "tf.reset_default_graph()"
   ]
  },
  {
   "cell_type": "code",
   "execution_count": 37,
   "metadata": {},
   "outputs": [],
   "source": [
    "INPUT_DIRECTORY = \"/Users/vesko/Google Drive/Docs/Education/Edinburgh/Classes/DISS/Data/In-use\""
   ]
  },
  {
   "cell_type": "code",
   "execution_count": 38,
   "metadata": {},
   "outputs": [],
   "source": [
    "x = np.random.normal(size=[10,10])\n",
    "y = np.random.normal(size=[10,10])\n",
    "z = np.dot(x,y)"
   ]
  },
  {
   "cell_type": "code",
   "execution_count": 39,
   "metadata": {},
   "outputs": [],
   "source": [
    "x = tf.random_normal([10,10])\n",
    "y = tf.random_normal([10,10])\n",
    "z = tf.matmul(x,y)\n",
    "sess = tf.Session()\n",
    "z_val = sess.run(z)"
   ]
  },
  {
   "cell_type": "code",
   "execution_count": 69,
   "metadata": {},
   "outputs": [],
   "source": [
    "# tf.reset_default_graph() \n",
    "\n",
    "# # Placeholders are used to feed values from python to TensorFlow ops. We define\n",
    "# # two placeholders, one for input feature x, and one for output y.\n",
    "# x = tf.placeholder(tf.float32)\n",
    "# y = tf.placeholder(tf.float32)\n",
    "\n",
    "# # Assuming we know that the desired function is a polynomial of 2nd degree, we\n",
    "# # allocate a vector of size 3 to hold the coefficients. The variable will be\n",
    "# # automatically initialized with random noise.\n",
    "# w = tf.get_variable(\"w\", shape=[3, 1])\n",
    "\n",
    "# # We define yhat to be our estimate of y.\n",
    "# f = tf.stack([tf.square(x), x, tf.ones_like(x)], 1)\n",
    "# yhat = tf.squeeze(tf.matmul(f, w), 1)\n",
    "\n",
    "# # The loss is defined to be the l2 distance between our estimate of y and its\n",
    "# # true value. We also added a shrinkage term, to ensure the resulting weights\n",
    "# # would be small.\n",
    "# loss = tf.nn.l2_loss(yhat - y) + 0.1 * tf.nn.l2_loss(w)\n",
    "\n",
    "# # We use the Adam optimizer with learning rate set to 0.1 to minimize the loss.\n",
    "# train_op = tf.train.AdamOptimizer(0.1).minimize(loss)\n",
    "\n",
    "# def generate_data():\n",
    "#     x_val = np.random.uniform(-10.0, 10.0, size=100)\n",
    "#     y_val = 5 * np.square(x_val) + 3\n",
    "#     return x_val, y_val\n",
    "\n",
    "# sess = tf.Session()\n",
    "# # Since we are using variables we first need to initialize them.\n",
    "# sess.run(tf.global_variables_initializer())\n",
    "# for _ in range(1000):\n",
    "#     x_val, y_val = generate_data()\n",
    "#     _, loss_val = sess.run([train_op, loss], {x: x_val, y: y_val})\n",
    "#     print(loss_val)\n",
    "# print(sess.run([w]))"
   ]
  },
  {
   "cell_type": "code",
   "execution_count": 64,
   "metadata": {},
   "outputs": [
    {
     "data": {
      "text/plain": [
       "<tf.Tensor 'Const_1:0' shape=(2, 1) dtype=float32>"
      ]
     },
     "execution_count": 64,
     "metadata": {},
     "output_type": "execute_result"
    }
   ],
   "source": [
    "a = tf.random_uniform([5,3,5]) # 5,3,5\n",
    "b = tf.random_uniform([5,1,6])\n",
    "tiled_b = tf.tile(b, [1,3,1]) # 5,3,6\n",
    "c = tf.concat([a,tiled_b], 2) # 5,3,11\n",
    "\n",
    "tf.constant([[1.], [2.]])"
   ]
  },
  {
   "cell_type": "code",
   "execution_count": null,
   "metadata": {},
   "outputs": [],
   "source": []
  },
  {
   "cell_type": "code",
   "execution_count": null,
   "metadata": {},
   "outputs": [],
   "source": []
  },
  {
   "cell_type": "code",
   "execution_count": null,
   "metadata": {},
   "outputs": [],
   "source": []
  }
 ],
 "metadata": {
  "kernelspec": {
   "display_name": "Python 3",
   "language": "python",
   "name": "python3"
  },
  "language_info": {
   "codemirror_mode": {
    "name": "ipython",
    "version": 3
   },
   "file_extension": ".py",
   "mimetype": "text/x-python",
   "name": "python",
   "nbconvert_exporter": "python",
   "pygments_lexer": "ipython3",
   "version": "3.6.3"
  }
 },
 "nbformat": 4,
 "nbformat_minor": 2
}
