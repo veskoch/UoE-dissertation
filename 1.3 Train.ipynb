{
 "cells": [
  {
   "cell_type": "markdown",
   "metadata": {},
   "source": [
    "This notebook will help you define your seq2seq model and train it. \n",
    "\n",
    "**POINTERS**\n",
    "\n",
    "Configurations for this model are stored in 3 places. In order of hierarchy those are:\n",
    "* **Execution Parameters** Holds highest-level of settings for a particular run. Here we choose, for example, whether to train, evaluate or infer. This file loads configurations from the files below.\n",
    "    * `run_config.yml`\n",
    "* **Models** Holds classe(s) which define model architecture(s). Exactly one of those is constructed and used at runtime. See `model_type` variable inside `run_config.yml`.\n",
    "    * `catalog.py`\n",
    "* **Model Hyperparameters** Holds hyperparameters (i.e. optimizer, learning rate, beam width) for use on the chosen model architecture. What is interesting is that we can provide a set of different hyperparameters and test them all at once during a single run. See `config` variable inside `run_config.yml`.\n",
    "    * [`model_config.yml`]\n",
    "    \n",
    "    \n",
    "The model is based on Open-NMT-tf: [API Refernce](http://opennmt.net/OpenNMT-tf/package/opennmt.html) | [GitHub](https://github.com/OpenNMT/OpenNMT-tf). Most of the core is untouched. Think of this Jupyter Notebook as a thin wrapper.\n"
   ]
  },
  {
   "cell_type": "markdown",
   "metadata": {},
   "source": [
    "# Run Model\n",
    "\n",
    "Execute cell bellow to run."
   ]
  },
  {
   "cell_type": "code",
   "execution_count": 6,
   "metadata": {},
   "outputs": [],
   "source": [
    "import train\n",
    "train.run()"
   ]
  }
 ],
 "metadata": {
  "kernelspec": {
   "display_name": "Python 3",
   "language": "python",
   "name": "python3"
  },
  "language_info": {
   "codemirror_mode": {
    "name": "ipython",
    "version": 3
   },
   "file_extension": ".py",
   "mimetype": "text/x-python",
   "name": "python",
   "nbconvert_exporter": "python",
   "pygments_lexer": "ipython3",
   "version": "3.6.3"
  }
 },
 "nbformat": 4,
 "nbformat_minor": 2
}
