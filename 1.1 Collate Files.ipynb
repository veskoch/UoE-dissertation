{
 "cells": [
  {
   "cell_type": "markdown",
   "metadata": {},
   "source": [
    "This notebook will help you manage your dataset folder and convert the source `.xml` files to NoteSequence protos for further processing."
   ]
  },
  {
   "cell_type": "markdown",
   "metadata": {},
   "source": [
    "**INSTRUCTIONS**\n",
    "\n",
    "* Put all song `.xml` files in a single folder.\n",
    "    * Each song must have at least two peforming levels of difficulty.\n",
    "    * Files must follow the naming convention:\n",
    "    \n",
    "    `[Song Name]_[Performance Level]-[Song Segment]-[Hand].xml`\n",
    "        * Song Name uses only `A-Z`, `a-z` and `0-9`, no spaces or any other characters. This is a unique identifier, so make sure it is unique and it is spelled exactly the same in each file.\n",
    "        * Performance Level is one of `['_beg', '_int', '_adv']`.\n",
    "        * Song Segment is a unique string for given a Song Name and a Performance Level. Song Segments must match exactly across the Performance Levels of a song.\n",
    "        * Hand is one of `['lh', 'rh', 'bh']`.\n",
    "* `SourceFolderManager` can do the following for you: \n",
    "    * Traverse your chosen directory for `.xml` files, and build an index classifying the type of musical compositions which each `.xml` file holds.\n",
    "    * Collate files into `source -> target` pairs according to a set of criteria to your preference. This is done using the previously built index, so if anything changes in the meantime, rebuild the index.\n",
    "    * Convert the collated pairs (which are stored as `.xml` file paths) to NoteSequence protos, serialize and save them as `.tfrecord` files in a directory of your choice.\n",
    "\n",
    "The four cells below are all you need to execute to get started. See the comments in `preprocess.py` for insight what happens backstage."
   ]
  },
  {
   "cell_type": "markdown",
   "metadata": {},
   "source": [
    "**DEPENDENCIES**"
   ]
  },
  {
   "cell_type": "code",
   "execution_count": 62,
   "metadata": {},
   "outputs": [
    {
     "data": {
      "text/plain": [
       "<module 'utils.data_load' from '/Users/vesko/GitHub/UoE-dissertation/utils/data_load.py'>"
      ]
     },
     "execution_count": 62,
     "metadata": {},
     "output_type": "execute_result"
    }
   ],
   "source": [
    "from utils import data_load\n",
    "import os\n",
    "\n",
    "import importlib\n",
    "importlib.reload(data_load)"
   ]
  },
  {
   "cell_type": "markdown",
   "metadata": {},
   "source": [
    "**PARAMETERS**"
   ]
  },
  {
   "cell_type": "code",
   "execution_count": 63,
   "metadata": {},
   "outputs": [],
   "source": [
    "load_config = dict()\n",
    "\n",
    "load_config['source_xml_dir'] = \"./data/raw/\"\n",
    "load_config['out_collated_dir'] = \"./data/collated/C/\"\n",
    "\n",
    "load_config['ext_meta'] = \"./data/raw/_songs_metadata.csv\""
   ]
  },
  {
   "cell_type": "code",
   "execution_count": 64,
   "metadata": {},
   "outputs": [],
   "source": [
    "load_config['genres'] = ['Pop', 'Rock', 'Film', 'Religious', \n",
    "                         'Traditional', 'Musical', 'Country', 'Contemporary Piano']\n",
    "\n",
    "load_config['test_set'] = ['myfavoritethings', 'Something', 'WhereEverybodyKnowsYourName',\n",
    "                           'girlcrush', 'ImagineMe', 'withorwithoutyou', 'cantstopthefeeling', \n",
    "                           'SmellsLikeTeenSpirit', 'Itookapillinibiza', 'wethreekings', \n",
    "                           'whereareyouchristmas', 'AllThingsAreWorking', 'LikeImGonnaLoseYou', \n",
    "                           'RememberMe','letmeloveyou', 'WalkingInMemphis', 'WishYouWereHere', \n",
    "                           'neversaynever', 'WerewolvesOfLondon', 'RightHereWaiting']\n",
    "\n",
    "load_config['eval_set'] = ['yellow', 'whowantstoliveforever', 'Angie', 'aintNoSunshine',\n",
    "                           'everytimeyougoaway', 'MaybeImAmazed', 'Levon', 'AnotherDayInParadise', \n",
    "                           'AllOutOfLove', 'sweetemotion', 'circleoflife', 'CheapThrills', \n",
    "                           'californication', 'ochristmastree', 'aslongasyouremine', \n",
    "                           'ValseAmelie', 'sevenyears', 'BennieandtheJets', 'thecircleoflife',\n",
    "                           'partofyourworld']"
   ]
  },
  {
   "cell_type": "markdown",
   "metadata": {},
   "source": [
    "# Collate Files"
   ]
  },
  {
   "cell_type": "code",
   "execution_count": 65,
   "metadata": {},
   "outputs": [],
   "source": [
    "manager = data_load.SourceFolderManager()\n",
    "manager.build_index(src_folder = load_config['source_xml_dir'],\n",
    "                    ext_meta = load_config['ext_meta'])"
   ]
  },
  {
   "cell_type": "code",
   "execution_count": 67,
   "metadata": {},
   "outputs": [],
   "source": [
    "manager.files_index.to_csv(os.path.join(load_config['out_collated_dir'], 'filex_index.csv'))"
   ]
  },
  {
   "cell_type": "code",
   "execution_count": 66,
   "metadata": {},
   "outputs": [
    {
     "name": "stdout",
     "output_type": "stream",
     "text": [
      "INFO: Skipping \"MuyDentroDeMi\" because of mismatching segments or hand parts.\n",
      "Source:\n",
      "MuyDentroDeMi_beg-wholeSong-rh.xml    ./data/raw/Muy Dentro De Mi (Marc Anthony)/seg...\n",
      "Name: path, dtype: object\n",
      "Target:\n",
      "Series([], Name: path, dtype: object)\n",
      "INFO: Skipping \"MuyDentroDeMi\" because of mismatching segments or hand parts.\n",
      "Source:\n",
      "MuyDentroDeMi_int-wholeSong-rh.xml    ./data/raw/Muy Dentro De Mi (Marc Anthony)/seg...\n",
      "Name: path, dtype: object\n",
      "Target:\n",
      "Series([], Name: path, dtype: object)\n",
      "\n",
      "INFO: Successfully collated Train: 295 pairs from 129 unique songs.\n",
      "INFO: Successfully collated Eval: 36 pairs from 16 unique songs.\n",
      "INFO: Successfully collated Test: 34 pairs from 16 unique songs.\n",
      "\n",
      "Count of pairs by level:\n",
      "{'train': Counter({('beg', 'int'): 127, ('int', 'adv'): 85, ('beg', 'adv'): 83}), 'eval': Counter({('beg', 'int'): 16, ('beg', 'adv'): 10, ('int', 'adv'): 10}), 'test': Counter({('beg', 'int'): 15, ('int', 'adv'): 10, ('beg', 'adv'): 9})}\n",
      "\n",
      "Count of pairs by segment type:\n",
      "{'train': Counter({'wholeSong': 295}), 'eval': Counter({'wholeSong': 36}), 'test': Counter({'wholeSong': 34})}\n",
      "\n",
      "Count of pairs by song:\n",
      "{'train': Counter({'gameofthrones': 3, 'lovemelikeyoudo': 3, 'LoveSong': 3, 'ComeSailAway': 3, 'Changes': 3, 'BestThingINeverHad': 3, 'pinkpanther': 3, 'RiseUp': 3, 'wildestdreams': 3, 'RockWithYou': 3, 'lostboy': 3, 'Ghostbusters': 3, 'badday': 3, 'thechristmassong': 3, 'NeverBeTheSame': 3, 'everythingido': 3, 'MayBe': 3, 'NewRules': 3, 'Mercy': 3, 'NovemberRain': 3, 'BackAtOne': 3, 'thinkofme': 3, 'BodyandSoul': 3, 'CastleOnTheHill': 3, 'Delicate': 3, 'Creep': 3, 'TheWayWeWere': 3, 'workfromhome': 3, 'sugar': 3, 'Thunder': 3, 'KissFromARose': 3, 'ThisIsMe': 3, 'SaySomething': 3, 'YoungandBeautiful': 3, 'SavingAllMyLoveForYou': 3, 'Sangria': 3, 'marriedlife': 3, 'Happy': 3, 'edelweiss': 3, 'chariotsoffire': 3, 'frostythesnowman': 3, 'NuvoleBianche': 3, 'hesapirate': 3, 'EndlessLove': 3, 'Diamonds': 3, 'EyeOfTheTiger': 3, 'sheusedtobemine': 3, 'somewhereinmymemory': 3, 'DancingQueen': 3, 'jurassicpark': 3, 'Jolene': 3, 'DanceWithMyFather': 3, 'onlytime': 3, 'midnightrider': 3, 'HowFarIllGo': 3, 'GreatBallsOfFire': 3, 'primavera': 3, 'openarms': 3, 'AgainstAllOdds': 3, 'awholenewworld': 3, 'Wonderwall': 3, 'TheWeight': 3, 'Somewhere': 3, 'TaleAsOldAsTime': 3, 'harktheherald': 3, 'LivingOnAPrayer': 3, 'LadyMadonna': 3, 'MyTribute': 3, 'dingdongmerrily': 3, 'comptine': 3, 'faded': 3, 'BodyLikeABackRoad': 3, 'ComoLaFlor': 3, 'ChasingCars': 3, 'sweetchildomine': 3, 'AllMyLoving': 3, 'youraisemeup': 3, 'Bailando': 3, 'HouseOfTheRisingSun': 3, 'LaBamba': 3, 'TheAvengers': 3, 'GreenOnions': 3, 'OnlyYouAreHoly': 3, 'brothers': 1, 'brick': 1, 'Radioactive': 1, 'HOLY': 1, 'wonderfultonight': 1, 'Linger': 1, 'HereAndNow': 1, 'exsandohs': 1, 'MuyDentroDeMi': 1, 'treatyoubetter': 1, 'fixyou': 1, 'demons': 1, 'jump': 1, 'somenights': 1, 'seeyouagain': 1, 'ItsTime': 1, 'lifeisahighway': 1, 'hero': 1, 'YouveGotAFriendInMe': 1, 'silverbells': 1, 'themostwonderfultime': 1, 'letitsnow': 1, 'sexonfire': 1, 'sendmylove': 1, 'ItsTooLate': 1, 'shakeitout': 1, 'IBelieveICanFly': 1, 'loveyourself': 1, 'morethanafeeling': 1, 'ophelia': 1, 'freefallin': 1, 'YoureMyBestFriend': 1, 'SomewhereOnlyWeKnow': 1, 'happybirthdaytoyou': 1, 'happyxmas': 1, 'herecomessantaclaus': 1, 'illshowyou': 1, 'ihateuiloveu': 1, 'iwontgiveup': 1, 'throughtheyears': 1, 'thisiswhatyoucamefor': 1, 'threetimesalady': 1, 'twinklelittlestar': 1, 'youaresobeautiful': 1, 'CandleIntheWind': 1, 'takemehome': 1}), 'eval': Counter({'AnotherDayInParadise': 3, 'thecircleoflife': 3, 'CheapThrills': 3, 'AllOutOfLove': 3, 'circleoflife': 3, 'ValseAmelie': 3, 'Levon': 3, 'MaybeImAmazed': 3, 'whowantstoliveforever': 3, 'sevenyears': 3, 'aintNoSunshine': 1, 'ochristmastree': 1, 'partofyourworld': 1, 'aslongasyouremine': 1, 'californication': 1, 'yellow': 1}), 'test': Counter({'RightHereWaiting': 3, 'WalkingInMemphis': 3, 'AllThingsAreWorking': 3, 'ImagineMe': 3, 'SmellsLikeTeenSpirit': 3, 'RememberMe': 3, 'WishYouWereHere': 3, 'WerewolvesOfLondon': 3, 'LikeImGonnaLoseYou': 3, 'cantstopthefeeling': 1, 'Itookapillinibiza': 1, 'whereareyouchristmas': 1, 'letmeloveyou': 1, 'wethreekings': 1, 'Something': 1, 'WhereEverybodyKnowsYourName': 1})}\n"
     ]
    }
   ],
   "source": [
    "manager.collate(hand=('rh', 'bh'),\n",
    "                level=[('int', 'adv'), ('beg', 'adv'), ('beg', 'int')],\n",
    "                DoubleNoteVal=False,\n",
    "                WholeSong=True,\n",
    "                eval_set=load_config['eval_set'],\n",
    "                test_set=load_config['test_set'])"
   ]
  },
  {
   "cell_type": "code",
   "execution_count": 68,
   "metadata": {},
   "outputs": [
    {
     "name": "stdout",
     "output_type": "stream",
     "text": [
      "INFO: Saved ./data/collated/C/train_inputs.tfrecord.\n",
      "INFO: Saved ./data/collated/C/train_targets.tfrecord.\n",
      "INFO: Saved ./data/collated/C/eval_inputs.tfrecord.\n",
      "INFO: Saved ./data/collated/C/eval_targets.tfrecord.\n",
      "INFO: Saved ./data/collated/C/test_inputs.tfrecord.\n",
      "INFO: Saved ./data/collated/C/test_targets.tfrecord.\n"
     ]
    }
   ],
   "source": [
    "manager.serialize_collated(load_config['out_collated_dir']) # .xml files --> Protocol buffers in TensorFlow Record containers"
   ]
  },
  {
   "cell_type": "markdown",
   "metadata": {},
   "source": [
    "## Quick & Dirty Fix\n",
    "\n",
    "Update all `NoteSequence` in `.tfrecords` to show the key from the metadata `.csv` file. Make sure to first create a directory called `fixed`."
   ]
  },
  {
   "cell_type": "code",
   "execution_count": 69,
   "metadata": {},
   "outputs": [
    {
     "name": "stdout",
     "output_type": "stream",
     "text": [
      "INFO: Successfully updated train_inputs.tfrecord to match the tonal keys from songs_metadata.csv.\n",
      "INFO: Successfully updated train_targets.tfrecord to match the tonal keys from songs_metadata.csv.\n",
      "INFO: Successfully updated eval_targets.tfrecord to match the tonal keys from songs_metadata.csv.\n",
      "INFO: Successfully updated eval_inputs.tfrecord to match the tonal keys from songs_metadata.csv.\n",
      "INFO: Successfully updated test_targets.tfrecord to match the tonal keys from songs_metadata.csv.\n",
      "INFO: Successfully updated test_inputs.tfrecord to match the tonal keys from songs_metadata.csv.\n"
     ]
    }
   ],
   "source": [
    "from magenta.music import note_sequence_io\n",
    "\n",
    "# Iterate over .tfrecord files in a dir\n",
    "for src_file in os.listdir(load_config['out_collated_dir']):\n",
    "    if src_file.endswith('.tfrecord'):\n",
    "        src_file_path = os.path.join(load_config['out_collated_dir'], src_file)\n",
    "        target_path = os.path.join(load_config['out_collated_dir'], 'fixed', src_file)\n",
    "        \n",
    "        with note_sequence_io.NoteSequenceRecordWriter(target_path) as inputs_writer:\n",
    "        \n",
    "            # Iterate over the records in the .tfrecord file\n",
    "            for record in note_sequence_io.note_sequence_record_iterator(src_file_path):\n",
    "\n",
    "                key = int(manager.files_index.loc[record.id]['key_mag'])\n",
    "                record.key_signatures[0].key = key\n",
    "            \n",
    "                inputs_writer.write(record)\n",
    "                \n",
    "        print('INFO: Successfully updated {} to match the tonal keys from songs_metadata.csv.'.format(src_file))"
   ]
  },
  {
   "cell_type": "markdown",
   "metadata": {},
   "source": [
    "#### Test if working as expected"
   ]
  },
  {
   "cell_type": "code",
   "execution_count": null,
   "metadata": {},
   "outputs": [],
   "source": [
    "TFRECORD_FILE = './data/collated/B/eval_targets.tfrecord'\n",
    "\n",
    "note_seqs = []\n",
    "for record in note_sequence_io.note_sequence_record_iterator(TFRECORD_FILE):\n",
    "    note_seqs.append(record)\n",
    "\n",
    "# print(note_seqs[0].key_signatures[0].key)\n",
    "# note_seqs[0].total_time\n",
    "# note_seqs[0]"
   ]
  },
  {
   "cell_type": "markdown",
   "metadata": {},
   "source": [
    "### Debugging"
   ]
  },
  {
   "cell_type": "raw",
   "metadata": {},
   "source": [
    "# Hint: To take a peek at the files index, run `manager.files_index`\n",
    "#\n",
    "# Hint 2: Access the collated list with `manager.collated_index`\n",
    "#\n",
    "# Hint 3: You can slice the dataframe like this:\n",
    "# manager.files_index.loc[(manager.files_index['segment'] == 'wholeSong') \n",
    "#                       & (manager.files_index['hand'] == 'bh')]\n",
    "#\n",
    "# Hint 4: manager.files_index.to_csv('files_index.csv')"
   ]
  }
 ],
 "metadata": {
  "kernelspec": {
   "display_name": "Python 3",
   "language": "python",
   "name": "python3"
  },
  "language_info": {
   "codemirror_mode": {
    "name": "ipython",
    "version": 3
   },
   "file_extension": ".py",
   "mimetype": "text/x-python",
   "name": "python",
   "nbconvert_exporter": "python",
   "pygments_lexer": "ipython3",
   "version": "3.6.3"
  }
 },
 "nbformat": 4,
 "nbformat_minor": 2
}
