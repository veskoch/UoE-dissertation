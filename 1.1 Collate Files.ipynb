{
 "cells": [
  {
   "cell_type": "markdown",
   "metadata": {},
   "source": [
    "This notebook will help you manage your dataset folder and convert the source `.xml` files to NoteSequence protos for further processing."
   ]
  },
  {
   "cell_type": "markdown",
   "metadata": {},
   "source": [
    "**INSTRUCTIONS**\n",
    "\n",
    "* Put all song `.xml` files in a single folder.\n",
    "    * Each song must have at least two peforming levels of difficulty.\n",
    "    * Files must follow the naming convention:\n",
    "    \n",
    "    `[Song Name]_[Performance Level]-[Song Segment]-[Hand].xml`\n",
    "        * Song Name uses only `A-Z`, `a-z` and `0-9`, no spaces or any other characters. This is a unique identifier, so make sure it is unique and it is spelled exactly the same in each file.\n",
    "        * Performance Level is one of `['_beg', '_int', '_adv']`.\n",
    "        * Song Segment is a unique string for given a Song Name and a Performance Level. Song Segments must match exactly across the Performance Levels of a song.\n",
    "        * Hand is one of `['lh', 'rh', 'bh']`.\n",
    "* `SourceFolderManager` can do the following for you: \n",
    "    * Traverse your chosen directory for `.xml` files, and build an index classifying the type of musical compositions which each `.xml` file holds.\n",
    "    * Collate files into `source -> target` pairs according to a set of criteria to your preference. This is done using the previously built index, so if anything changes in the meantime, rebuild the index.\n",
    "    * Convert the collated pairs (which are stored as `.xml` file paths) to NoteSequence protos, serialize and save them as `.tfrecord` files in a directory of your choice.\n",
    "\n",
    "The four cells below are all you need to execute to get started. See the comments in `preprocess.py` for insight what happens backstage."
   ]
  },
  {
   "cell_type": "markdown",
   "metadata": {},
   "source": [
    "**DEPENDENCIES**"
   ]
  },
  {
   "cell_type": "code",
   "execution_count": 1,
   "metadata": {},
   "outputs": [],
   "source": [
    "import data_load"
   ]
  },
  {
   "cell_type": "markdown",
   "metadata": {},
   "source": [
    "**PARAMETERS**"
   ]
  },
  {
   "cell_type": "code",
   "execution_count": 2,
   "metadata": {},
   "outputs": [],
   "source": [
    "load_config = dict()\n",
    "\n",
    "load_config['genres'] = ['Pop', 'Rock', 'Film', 'Religious', \n",
    "                         'Traditional', 'Musical', 'Country', 'Contemporary Piano']\n",
    "\n",
    "load_config['source_xml_dir'] = \"/Users/vesko/Google Drive/Docs/Education/Edinburgh/Classes/DISS/Data/MSc 2018 Research/Preprocessed Dataset\"\n",
    "load_config['out_protos_dir'] = \"./data/collated/B/\"\n",
    "\n",
    "# Do not include those files in the dataset \n",
    "# This still needs to be implemented\n",
    "load_config['test_set'] = ['']\n",
    "load_config['eval_set'] = ['']"
   ]
  },
  {
   "cell_type": "markdown",
   "metadata": {},
   "source": [
    "# Collate Files"
   ]
  },
  {
   "cell_type": "code",
   "execution_count": 3,
   "metadata": {},
   "outputs": [],
   "source": [
    "manager = data_load.SourceFolderManager()\n",
    "manager.build_index(load_config['source_xml_dir'])"
   ]
  },
  {
   "cell_type": "raw",
   "metadata": {},
   "source": [
    "# Hint: To take a peek at the index, run `manager.files_index`\n",
    "#\n",
    "# Hint 2: You can slice the dataframe like this:\n",
    "# manager.files_index.loc[(manager.files_index['segment'] == 'wholeSong') \n",
    "#                       & (manager.files_index['hand'] == 'bh')]\n",
    "#\n",
    "# Hint 3: manager.files_index.to_csv('files_index.csv')"
   ]
  },
  {
   "cell_type": "code",
   "execution_count": 5,
   "metadata": {},
   "outputs": [
    {
     "name": "stdout",
     "output_type": "stream",
     "text": [
      "INFO: Skipping \"Thunder\" because of mismatching segments or hand parts.\n",
      "INFO: Skipping \"chariotsoffire\" because of mismatching segments or hand parts.\n",
      "INFO: Skipping \"chariotsoffire\" because of mismatching segments or hand parts.\n",
      "\n",
      "INFO: Successfully collated 3239 pairs from 194 unique songs.\n",
      "\n",
      "Count of pairs by level:\n",
      "Counter({('beg', 'int'): 1400, ('int', 'adv'): 928, ('beg', 'adv'): 914})\n",
      "\n",
      "Count of pairs by segment type:\n",
      "Counter({'chorus1': 411, 'chorus2': 397, 'verse1': 338, 'verse2': 336, 'intro': 315, 'chorus3': 279, 'bridge': 171, 'verse3': 138, 'outro': 132, 'prechorus1': 123, 'prechorus2': 115, 'instrumental': 66, 'chorus4': 51, 'verse4': 49, 'postchorus1': 48, 'bridge1': 36, 'bridge2': 33, 'postchorus2': 27, 'prechorus3': 21, 'verse5': 13, 'section1': 12, 'section2': 12, 'section3': 12, 'section4': 12, 'chorus5': 10, 'section5': 9, 'postchorus3': 7, 'bridge3': 7, 'chorus6': 6, 'instrumental1': 6, 'section6': 6, 'verse6': 4, 'instrumental2': 4, 'intro1': 3, 'intro2': 3, 'outro1': 3, 'outro2': 3, 'rap': 3, 'section10': 3, 'section11': 3, 'section12': 3, 'section13': 3, 'section7': 3, 'section8': 3, 'section9': 3})\n",
      "\n",
      "Count of pairs by song:\n",
      "Counter({'sevenyears': 42, 'lostboy': 36, 'RightHereWaiting': 36, 'Sangria': 36, 'NuvoleBianche': 36, 'tearsinheaven': 33, 'AnotherDayInParadise': 33, 'KissFromARose': 33, 'ComeSailAway': 33, 'TheWeight': 33, 'SmellsLikeTeenSpirit': 33, 'sugar': 30, 'BestThingINeverHad': 30, 'LoveSong': 30, 'Ghostbusters': 30, 'ThisIsMe': 30, 'wildestdreams': 30, 'lovemelikeyoudo': 30, 'NewRules': 30, 'CheapThrills': 30, 'badday': 30, 'ImagineMe': 30, 'LivingOnAPrayer': 30, 'Angie': 30, 'CastleOnTheHill': 27, 'NeverBeTheSame': 27, 'BodyandSoul': 27, 'WalkingInMemphis': 27, 'Delicate': 27, 'workfromhome': 27, 'TimeAfterTime': 27, 'MuyDentroDeMi': 27, 'AllThingsAreWorking': 27, 'YoungandBeautiful': 27, 'thinkofme': 27, 'RockWithYou': 27, 'RiseUp': 27, 'marriedlife': 27, 'ComoLaFlor': 27, 'openarms': 27, 'primavera': 27, 'Bailando': 27, 'BennieandtheJets': 27, 'WerewolvesOfLondon': 27, 'AlltheStars': 27, 'HouseOfTheRisingSun': 27, 'Easy': 24, 'everythingido': 24, 'SaySomething': 24, 'BackAtOne': 24, 'Changes': 24, 'Creep': 24, 'NovemberRain': 24, 'Mercy': 24, 'Happy': 24, 'DanceWithMyFather': 24, 'LadyMadonna': 24, 'sheusedtobemine': 24, 'Levon': 24, 'LikeImGonnaLoseYou': 24, 'EndlessLove': 24, 'sweetchildomine': 24, 'MaybeImAmazed': 24, 'EyeOfTheTiger': 24, 'Diamonds': 24, 'BodyLikeABackRoad': 24, 'Wonderwall': 24, 'faded': 24, 'GreenOnions': 24, 'TheWayWeWere': 21, 'Thunder': 21, 'BacktoBlack': 21, 'AllOutOfLove': 21, 'AgainstAllOdds': 21, 'HowFarIllGo': 21, 'Jolene': 21, 'GreatBallsOfFire': 21, 'WakeMeUp': 21, 'WishYouWereHere': 21, 'SavingAllMyLoveForYou': 18, 'thecircleoflife': 18, 'MayBe': 18, 'frostythesnowman': 18, 'hesapirate': 18, 'chariotsoffire': 18, 'DancingQueen': 18, 'MyTribute': 18, 'circleoflife': 18, 'whowantstoliveforever': 18, 'ChasingCars': 18, 'LaBamba': 18, 'wonderfulworld': 15, 'raidersMarch': 15, 'edelweiss': 15, 'jurassicpark': 15, 'KnockinOnHeavensDoor': 15, 'midnightrider': 15, 'comptine': 15, 'TimeToSayGoodbye': 15, 'ValseAmelie': 15, 'AllMyLoving': 15, 'youraisemeup': 15, 'awholenewworld': 15, 'Something': 15, 'girlcrush': 15, 'TheAvengers': 15, 'OnlyYouAreHoly': 15, 'brick': 13, 'gameofthrones': 12, 'cantstopthefeeling': 12, 'myfavoritethings': 12, 'UnchainedMelody': 12, 'RememberMe': 12, 'onlytime': 12, 'somewhereinmymemory': 12, 'Somewhere': 12, 'letmeloveyou': 11, 'treatyoubetter': 11, 'seeyouagain': 11, 'morethanafeeling': 11, 'HOLY': 10, 'somenights': 10, 'exsandohs': 10, 'Itookapillinibiza': 10, 'ItsTooLate': 10, 'californication': 10, 'thechristmassong': 9, 'lifeisahighway': 9, 'jump': 9, 'HereAndNow': 9, 'pinkpanther': 9, 'humbleandkind': 9, 'thegambler': 9, 'illshowyou': 9, 'partofyourworld': 9, 'withorwithoutyou': 9, 'dingdongmerrily': 9, 'TaleAsOldAsTime': 9, 'yellow': 9, 'thisiswhatyoucamefor': 9, 'SomewhereOnlyWeKnow': 9, 'storyofmylife': 8, 'Linger': 8, 'demons': 8, 'ItsTime': 8, 'IBelieveICanFly': 8, 'sendmylove': 8, 'sweetemotion': 8, 'YoureMyBestFriend': 8, 'yourbodyisawonderland': 8, 'threetimesalady': 8, 'throughtheyears': 8, 'Radioactive': 7, 'wonderfultonight': 7, 'fixyou': 7, 'ihateuiloveu': 7, 'neversaynever': 7, 'shakeitout': 7, 'takemehome': 7, 'allthesmallthings': 7, 'CandleIntheWind': 7, 'YouveGotAFriendInMe': 6, 'wethreekings': 6, 'themostwonderfultime': 6, 'canthelpfallinginlove': 6, 'startrekTNG': 6, 'sexonfire': 6, 'style': 6, 'loveyourself': 6, 'everytimeyougoaway': 6, 'aslongasyouremine': 6, 'harktheherald': 6, 'forrestgump': 6, 'letitsnow': 5, 'silverbells': 5, 'ophelia': 5, 'AnotherOneBitesTheDust': 5, 'youaresobeautiful': 5, 'WhereEverybodyKnowsYourName': 5, 'freefallin': 5, 'whereareyouchristmas': 4, 'aintNoSunshine': 4, 'brothers': 4, 'hero': 4, 'ochristmastree': 4, 'iwontgiveup': 4, 'dontyouforgetaboutme': 4, 'happyxmas': 4, 'istillhaventfound': 3, 'herecomessantaclaus': 3, 'happybirthdaytoyou': 3, 'twinklelittlestar': 3, 'photograph': 3, 'home': 3})\n"
     ]
    }
   ],
   "source": [
    "manager.collate(hand=('rh', 'bh'),\n",
    "                includeWholeSong=False,\n",
    "                level=[('int', 'adv'), ('beg', 'adv'), ('beg', 'int')],\n",
    "                limit=None\n",
    "               )\n",
    "\n",
    "# Hint: You can access the collated list with `manager.collated_index`"
   ]
  },
  {
   "cell_type": "code",
   "execution_count": 6,
   "metadata": {},
   "outputs": [
    {
     "name": "stdout",
     "output_type": "stream",
     "text": [
      "INFO: Created ./data/collated/B/ directory.\n"
     ]
    },
    {
     "ename": "TypeError",
     "evalue": "'NoneType' object is not iterable",
     "output_type": "error",
     "traceback": [
      "\u001b[0;31m---------------------------------------------------------------------------\u001b[0m",
      "\u001b[0;31mTypeError\u001b[0m                                 Traceback (most recent call last)",
      "\u001b[0;32m<ipython-input-6-318e871083e5>\u001b[0m in \u001b[0;36m<module>\u001b[0;34m()\u001b[0m\n\u001b[0;32m----> 1\u001b[0;31m \u001b[0mmanager\u001b[0m\u001b[0;34m.\u001b[0m\u001b[0mserialize_collated\u001b[0m\u001b[0;34m(\u001b[0m\u001b[0mtarget_dir\u001b[0m \u001b[0;34m=\u001b[0m \u001b[0mload_config\u001b[0m\u001b[0;34m[\u001b[0m\u001b[0;34m'out_protos_dir'\u001b[0m\u001b[0;34m]\u001b[0m\u001b[0;34m)\u001b[0m\u001b[0;34m\u001b[0m\u001b[0m\n\u001b[0m",
      "\u001b[0;32m~/GitHub/UoE-dissertation/data_load.py\u001b[0m in \u001b[0;36mserialize_collated\u001b[0;34m(self, target_dir)\u001b[0m\n\u001b[1;32m    198\u001b[0m         \u001b[0;32mwith\u001b[0m \u001b[0mnote_sequence_io\u001b[0m\u001b[0;34m.\u001b[0m\u001b[0mNoteSequenceRecordWriter\u001b[0m\u001b[0;34m(\u001b[0m\u001b[0minputs_path\u001b[0m\u001b[0;34m)\u001b[0m \u001b[0;32mas\u001b[0m \u001b[0minputs_writer\u001b[0m\u001b[0;34m,\u001b[0m\u001b[0;31m \u001b[0m\u001b[0;31m\\\u001b[0m\u001b[0;34m\u001b[0m\u001b[0m\n\u001b[1;32m    199\u001b[0m         \u001b[0mnote_sequence_io\u001b[0m\u001b[0;34m.\u001b[0m\u001b[0mNoteSequenceRecordWriter\u001b[0m\u001b[0;34m(\u001b[0m\u001b[0mtargets_path\u001b[0m\u001b[0;34m)\u001b[0m \u001b[0;32mas\u001b[0m \u001b[0mtargets_writer\u001b[0m\u001b[0;34m:\u001b[0m\u001b[0;34m\u001b[0m\u001b[0m\n\u001b[0;32m--> 200\u001b[0;31m             \u001b[0;32mfor\u001b[0m \u001b[0mi\u001b[0m\u001b[0;34m,\u001b[0m \u001b[0mpair\u001b[0m \u001b[0;32min\u001b[0m \u001b[0menumerate\u001b[0m\u001b[0;34m(\u001b[0m\u001b[0mself\u001b[0m\u001b[0;34m.\u001b[0m\u001b[0mcollated_index\u001b[0m\u001b[0;34m)\u001b[0m\u001b[0;34m:\u001b[0m\u001b[0;34m\u001b[0m\u001b[0m\n\u001b[0m\u001b[1;32m    201\u001b[0m                 \u001b[0minput_proto\u001b[0m \u001b[0;34m=\u001b[0m \u001b[0mself\u001b[0m\u001b[0;34m.\u001b[0m\u001b[0m_xml_to_seq_proto\u001b[0m\u001b[0;34m(\u001b[0m\u001b[0mpair\u001b[0m\u001b[0;34m[\u001b[0m\u001b[0;36m0\u001b[0m\u001b[0;34m]\u001b[0m\u001b[0;34m,\u001b[0m \u001b[0;34m'inputs'\u001b[0m\u001b[0;34m)\u001b[0m\u001b[0;34m\u001b[0m\u001b[0m\n\u001b[1;32m    202\u001b[0m                 \u001b[0mtarget_proto\u001b[0m \u001b[0;34m=\u001b[0m \u001b[0mself\u001b[0m\u001b[0;34m.\u001b[0m\u001b[0m_xml_to_seq_proto\u001b[0m\u001b[0;34m(\u001b[0m\u001b[0mpair\u001b[0m\u001b[0;34m[\u001b[0m\u001b[0;36m1\u001b[0m\u001b[0;34m]\u001b[0m\u001b[0;34m,\u001b[0m \u001b[0;34m'targets'\u001b[0m\u001b[0;34m)\u001b[0m\u001b[0;34m\u001b[0m\u001b[0m\n",
      "\u001b[0;31mTypeError\u001b[0m: 'NoneType' object is not iterable"
     ]
    }
   ],
   "source": [
    "manager.serialize_collated(target_dir = load_config['out_protos_dir'])"
   ]
  }
 ],
 "metadata": {
  "kernelspec": {
   "display_name": "Python 3",
   "language": "python",
   "name": "python3"
  },
  "language_info": {
   "codemirror_mode": {
    "name": "ipython",
    "version": 3
   },
   "file_extension": ".py",
   "mimetype": "text/x-python",
   "name": "python",
   "nbconvert_exporter": "python",
   "pygments_lexer": "ipython3",
   "version": "3.6.3"
  }
 },
 "nbformat": 4,
 "nbformat_minor": 2
}
