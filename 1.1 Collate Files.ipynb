{
 "cells": [
  {
   "cell_type": "markdown",
   "metadata": {},
   "source": [
    "This notebook will help you manage your dataset folder and convert the source `.xml` files to NoteSequence protos for further processing."
   ]
  },
  {
   "cell_type": "markdown",
   "metadata": {},
   "source": [
    "**INSTRUCTIONS**\n",
    "\n",
    "* Put all song `.xml` files in a single folder.\n",
    "    * Each song must have at least two peforming levels of difficulty.\n",
    "    * Files must follow the naming convention:\n",
    "    \n",
    "    `[Song Name]_[Performance Level]-[Song Segment]-[Hand].xml`\n",
    "        * Song Name uses only `A-Z`, `a-z` and `0-9`, no spaces or any other characters. This is a unique identifier, so make sure it is unique and it is spelled exactly the same in each file.\n",
    "        * Performance Level is one of `['_beg', '_int', '_adv']`.\n",
    "        * Song Segment is a unique string for given a Song Name and a Performance Level. Song Segments must match exactly across the Performance Levels of a song.\n",
    "        * Hand is one of `['lh', 'rh', 'bh']`.\n",
    "* `SourceFolderManager` can do the following for you: \n",
    "    * Traverse your chosen directory for `.xml` files, and build an index classifying the type of musical compositions which each `.xml` file holds.\n",
    "    * Collate files into `source -> target` pairs according to a set of criteria to your preference. This is done using the previously built index, so if anything changes in the meantime, rebuild the index.\n",
    "    * Convert the collated pairs (which are stored as `.xml` file paths) to NoteSequence protos, serialize and save them as `.tfrecord` files in a directory of your choice.\n",
    "\n",
    "The four cells below are all you need to execute to get started. See the comments in `preprocess.py` for insight what happens backstage."
   ]
  },
  {
   "cell_type": "markdown",
   "metadata": {},
   "source": [
    "**DEPENDENCIES**"
   ]
  },
  {
   "cell_type": "code",
   "execution_count": 2,
   "metadata": {},
   "outputs": [],
   "source": [
    "import load_data"
   ]
  },
  {
   "cell_type": "markdown",
   "metadata": {},
   "source": [
    "**PARAMETERS**"
   ]
  },
  {
   "cell_type": "code",
   "execution_count": 1,
   "metadata": {},
   "outputs": [],
   "source": [
    "load_config = dict()\n",
    "\n",
    "load_config['source_xml_dir'] = \"/Users/vesko/Google Drive/Docs/Education/Edinburgh/Classes/DISS/Data/MSc 2018 Research/Preprocessed Dataset\"\n",
    "load_config['out_protos_dir'] = \"./data/note_seq_proto/\"\n",
    "\n",
    "load_config['test_set'] = ['']"
   ]
  },
  {
   "cell_type": "markdown",
   "metadata": {},
   "source": [
    "# Collate Files"
   ]
  },
  {
   "cell_type": "code",
   "execution_count": 4,
   "metadata": {},
   "outputs": [],
   "source": [
    "manager = load_data.SourceFolderManager(src_folder = load_config['source_xml_dir'])"
   ]
  },
  {
   "cell_type": "code",
   "execution_count": 5,
   "metadata": {},
   "outputs": [],
   "source": [
    "manager.build_index()\n",
    "\n",
    "# Hint: To take a peek at the index, run `manager.files_index`\n",
    "#\n",
    "# Hint 2: You can slice the dataframe like this:\n",
    "# manager.files_index.loc[(manager.files_index['segment'] == 'wholeSong') \n",
    "#                       & (manager.files_index['hand'] == 'bh')]"
   ]
  },
  {
   "cell_type": "code",
   "execution_count": 6,
   "metadata": {},
   "outputs": [
    {
     "name": "stdout",
     "output_type": "stream",
     "text": [
      "INFO: Skipping \"Thunder\" because of mismatching segments.\n",
      "INFO: Skipping \"Thunder\" because of mismatching segments.\n",
      "INFO: Exported 88 collated pairs.\n"
     ]
    }
   ],
   "source": [
    "manager.collate(hand='bh', \n",
    "                includeWholeSong=False,\n",
    "                level=[('int', 'adv'), ('beg', 'adv'), ('beg', 'int')],\n",
    "                limit=3\n",
    "               )\n",
    "\n",
    "# Hint: You can access the collated list with `manager.collated_index`"
   ]
  },
  {
   "cell_type": "code",
   "execution_count": 7,
   "metadata": {},
   "outputs": [
    {
     "name": "stdout",
     "output_type": "stream",
     "text": [
      "INFO: Created ./data/note_seq_proto/ directory.\n"
     ]
    }
   ],
   "source": [
    "manager.serialize_collated(target_dir = load_config['out_protos_dir'])"
   ]
  }
 ],
 "metadata": {
  "kernelspec": {
   "display_name": "Python 3",
   "language": "python",
   "name": "python3"
  },
  "language_info": {
   "codemirror_mode": {
    "name": "ipython",
    "version": 3
   },
   "file_extension": ".py",
   "mimetype": "text/x-python",
   "name": "python",
   "nbconvert_exporter": "python",
   "pygments_lexer": "ipython3",
   "version": "3.6.3"
  }
 },
 "nbformat": 4,
 "nbformat_minor": 2
}
