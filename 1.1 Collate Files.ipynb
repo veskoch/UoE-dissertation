{
 "cells": [
  {
   "cell_type": "markdown",
   "metadata": {},
   "source": [
    "This notebook will help you manage your dataset folder and convert the source `.xml` files to NoteSequence protos for further processing."
   ]
  },
  {
   "cell_type": "markdown",
   "metadata": {},
   "source": [
    "**INSTRUCTIONS**\n",
    "\n",
    "* Put all song `.xml` files in a single folder.\n",
    "    * Each song must have at least two peforming levels of difficulty.\n",
    "    * Files must follow the naming convention:\n",
    "    \n",
    "    `[Song Name]_[Performance Level]-[Song Segment]-[Hand].xml`\n",
    "        * Song Name uses only `A-Z`, `a-z` and `0-9`, no spaces or any other characters. This is a unique identifier, so make sure it is unique and it is spelled exactly the same in each file.\n",
    "        * Performance Level is one of `['_beg', '_int', '_adv']`.\n",
    "        * Song Segment is a unique string for given a Song Name and a Performance Level. Song Segments must match exactly across the Performance Levels of a song.\n",
    "        * Hand is one of `['lh', 'rh', 'bh']`.\n",
    "* `SourceFolderManager` can do the following for you: \n",
    "    * Traverse your chosen directory for `.xml` files, and build an index classifying the type of musical compositions which each `.xml` file holds.\n",
    "    * Collate files into `source -> target` pairs according to a set of criteria to your preference. This is done using the previously built index, so if anything changes in the meantime, rebuild the index.\n",
    "    * Convert the collated pairs (which are stored as `.xml` file paths) to NoteSequence protos, serialize and save them as `.tfrecord` files in a directory of your choice.\n",
    "\n",
    "The four cells below are all you need to execute to get started. See the comments in `preprocess.py` for insight what happens backstage."
   ]
  },
  {
   "cell_type": "markdown",
   "metadata": {},
   "source": [
    "**DEPENDENCIES**"
   ]
  },
  {
   "cell_type": "code",
   "execution_count": 1,
   "metadata": {},
   "outputs": [],
   "source": [
    "from utils import data_load\n",
    "import os\n",
    "\n",
    "# import importlib\n",
    "# importlib.reload(data_load)"
   ]
  },
  {
   "cell_type": "markdown",
   "metadata": {},
   "source": [
    "**PARAMETERS**"
   ]
  },
  {
   "cell_type": "code",
   "execution_count": 2,
   "metadata": {},
   "outputs": [],
   "source": [
    "load_config = dict()\n",
    "\n",
    "load_config['source_xml_dir'] = \"./data/raw/\"\n",
    "load_config['out_collated_dir'] = \"./data/collated/B/\"\n",
    "\n",
    "load_config['ext_meta'] = \"./data/raw/_songs_metadata.csv\""
   ]
  },
  {
   "cell_type": "code",
   "execution_count": 3,
   "metadata": {},
   "outputs": [],
   "source": [
    "load_config['genres'] = ['Pop', 'Rock', 'Film', 'Religious', \n",
    "                         'Traditional', 'Musical', 'Country', 'Contemporary Piano']\n",
    "\n",
    "load_config['test_set'] = ['myfavoritethings', 'Something', 'WhereEverybodyKnowsYourName',\n",
    "                           'girlcrush', 'ImagineMe', 'withorwithoutyou', 'cantstopthefeeling', \n",
    "                           'SmellsLikeTeenSpirit', 'Itookapillinibiza', 'wethreekings', \n",
    "                           'whereareyouchristmas', 'AllThingsAreWorking', 'LikeImGonnaLoseYou', \n",
    "                           'RememberMe','letmeloveyou', 'WalkingInMemphis', 'WishYouWereHere', \n",
    "                           'neversaynever', 'WerewolvesOfLondon', 'RightHereWaiting']\n",
    "\n",
    "load_config['eval_set'] = ['yellow', 'whowantstoliveforever', 'Angie', 'aintNoSunshine',\n",
    "                           'everytimeyougoaway', 'MaybeImAmazed', 'Levon', 'AnotherDayInParadise', \n",
    "                           'AllOutOfLove', 'sweetemotion', 'circleoflife', 'CheapThrills', \n",
    "                           'californication', 'ochristmastree', 'aslongasyouremine', \n",
    "                           'ValseAmelie', 'sevenyears', 'BennieandtheJets', 'thecircleoflife',\n",
    "                           'partofyourworld']"
   ]
  },
  {
   "cell_type": "markdown",
   "metadata": {},
   "source": [
    "# Collate Files"
   ]
  },
  {
   "cell_type": "code",
   "execution_count": 4,
   "metadata": {},
   "outputs": [],
   "source": [
    "manager = data_load.SourceFolderManager()\n",
    "manager.build_index(src_folder = load_config['source_xml_dir'],\n",
    "                    ext_meta = load_config['ext_meta'])"
   ]
  },
  {
   "cell_type": "code",
   "execution_count": 5,
   "metadata": {},
   "outputs": [],
   "source": [
    "manager.files_index.to_csv(os.path.join(load_config['out_collated_dir'], 'filex_index.csv'))"
   ]
  },
  {
   "cell_type": "code",
   "execution_count": 6,
   "metadata": {},
   "outputs": [
    {
     "name": "stdout",
     "output_type": "stream",
     "text": [
      "INFO: Skipping \"Thunder\" because of mismatching segments or hand parts.\n",
      "Source:\n",
      "Thunder_beg-bridge-rh.xml     ./data/raw/Thunder (Imagine Dragons)/segments/...\n",
      "Thunder_beg-chorus1-rh.xml    ./data/raw/Thunder (Imagine Dragons)/segments/...\n",
      "Thunder_beg-chorus2-rh.xml    ./data/raw/Thunder (Imagine Dragons)/segments/...\n",
      "Thunder_beg-chorus3-rh.xml    ./data/raw/Thunder (Imagine Dragons)/segments/...\n",
      "Thunder_beg-outro-rh.xml      ./data/raw/Thunder (Imagine Dragons)/segments/...\n",
      "Thunder_beg-verse1-rh.xml     ./data/raw/Thunder (Imagine Dragons)/segments/...\n",
      "Thunder_beg-verse2-rh.xml     ./data/raw/Thunder (Imagine Dragons)/segments/...\n",
      "Name: path, dtype: object\n",
      "Target:\n",
      "Thunder_int-bridge-bh.xml     ./data/raw/Thunder (Imagine Dragons)/segments/...\n",
      "Thunder_int-chorus2-bh.xml    ./data/raw/Thunder (Imagine Dragons)/segments/...\n",
      "Thunder_int-chorus3-bh.xml    ./data/raw/Thunder (Imagine Dragons)/segments/...\n",
      "Thunder_int-outro-bh.xml      ./data/raw/Thunder (Imagine Dragons)/segments/...\n",
      "Thunder_int-verse1-bh.xml     ./data/raw/Thunder (Imagine Dragons)/segments/...\n",
      "Thunder_int-verse2-bh.xml     ./data/raw/Thunder (Imagine Dragons)/segments/...\n",
      "Name: path, dtype: object\n",
      "INFO: Skipping \"chariotsoffire\" because of mismatching segments or hand parts.\n",
      "Source:\n",
      "chariotsoffire_beg-bridge1-rh.xml    ./data/raw/Chariots of Fire (Vangelis)/segment...\n",
      "chariotsoffire_beg-bridge2-rh.xml    ./data/raw/Chariots of Fire (Vangelis)/segment...\n",
      "chariotsoffire_beg-chorus1-rh.xml    ./data/raw/Chariots of Fire (Vangelis)/segment...\n",
      "chariotsoffire_beg-chorus2-rh.xml    ./data/raw/Chariots of Fire (Vangelis)/segment...\n",
      "chariotsoffire_beg-chorus3-rh.xml    ./data/raw/Chariots of Fire (Vangelis)/segment...\n",
      "chariotsoffire_beg-intro-rh.xml      ./data/raw/Chariots of Fire (Vangelis)/segment...\n",
      "Name: path, dtype: object\n",
      "Target:\n",
      "chariotsoffire_adv-bridge1-bh.xml    ./data/raw/Chariots of Fire (Vangelis)/segment...\n",
      "chariotsoffire_adv-bridge2-bh.xml    ./data/raw/Chariots of Fire (Vangelis)/segment...\n",
      "chariotsoffire_adv-chorus1-bh.xml    ./data/raw/Chariots of Fire (Vangelis)/segment...\n",
      "chariotsoffire_adv-chorus2-bh.xml    ./data/raw/Chariots of Fire (Vangelis)/segment...\n",
      "chariotsoffire_adv-intro-bh.xml      ./data/raw/Chariots of Fire (Vangelis)/segment...\n",
      "Name: path, dtype: object\n",
      "INFO: Skipping \"chariotsoffire\" because of mismatching segments or hand parts.\n",
      "Source:\n",
      "chariotsoffire_int-bridge1-rh.xml    ./data/raw/Chariots of Fire (Vangelis)/segment...\n",
      "chariotsoffire_int-bridge2-rh.xml    ./data/raw/Chariots of Fire (Vangelis)/segment...\n",
      "chariotsoffire_int-chorus1-rh.xml    ./data/raw/Chariots of Fire (Vangelis)/segment...\n",
      "chariotsoffire_int-chorus2-rh.xml    ./data/raw/Chariots of Fire (Vangelis)/segment...\n",
      "chariotsoffire_int-chorus3-rh.xml    ./data/raw/Chariots of Fire (Vangelis)/segment...\n",
      "chariotsoffire_int-intro-rh.xml      ./data/raw/Chariots of Fire (Vangelis)/segment...\n",
      "Name: path, dtype: object\n",
      "Target:\n",
      "chariotsoffire_adv-bridge1-bh.xml    ./data/raw/Chariots of Fire (Vangelis)/segment...\n",
      "chariotsoffire_adv-bridge2-bh.xml    ./data/raw/Chariots of Fire (Vangelis)/segment...\n",
      "chariotsoffire_adv-chorus1-bh.xml    ./data/raw/Chariots of Fire (Vangelis)/segment...\n",
      "chariotsoffire_adv-chorus2-bh.xml    ./data/raw/Chariots of Fire (Vangelis)/segment...\n",
      "chariotsoffire_adv-intro-bh.xml      ./data/raw/Chariots of Fire (Vangelis)/segment...\n",
      "Name: path, dtype: object\n",
      "\n",
      "INFO: Successfully collated Train: 2540 pairs from 154 unique songs.\n",
      "INFO: Successfully collated Eval: 356 pairs from 20 unique songs.\n",
      "INFO: Successfully collated Test: 343 pairs from 20 unique songs.\n",
      "\n",
      "Count of pairs by level:\n",
      "{'train': Counter({('beg', 'int'): 1087, ('int', 'adv'): 735, ('beg', 'adv'): 721}), 'eval': Counter({('beg', 'int'): 156, ('beg', 'adv'): 100, ('int', 'adv'): 100}), 'test': Counter({('beg', 'int'): 157, ('beg', 'adv'): 93, ('int', 'adv'): 93})}\n",
      "\n",
      "Count of pairs by segment type:\n",
      "{'train': Counter({'chorus1': 329, 'chorus2': 317, 'verse2': 267, 'verse1': 266, 'intro': 250, 'chorus3': 217, 'bridge': 145, 'verse3': 114, 'outro': 103, 'prechorus1': 94, 'prechorus2': 86, 'instrumental': 42, 'postchorus1': 41, 'chorus4': 41, 'verse4': 40, 'bridge1': 31, 'bridge2': 28, 'postchorus2': 21, 'prechorus3': 14, 'verse5': 10, 'chorus5': 10, 'section1': 9, 'section2': 9, 'section3': 9, 'section4': 9, 'postchorus3': 6, 'bridge3': 6, 'chorus6': 6, 'section5': 6, 'verse6': 4, 'intro1': 3, 'intro2': 3, 'rap': 3, 'section6': 3, 'instrumental2': 1}), 'eval': Counter({'chorus1': 41, 'chorus2': 40, 'verse1': 36, 'intro': 34, 'verse2': 33, 'chorus3': 31, 'outro': 19, 'bridge': 13, 'verse3': 12, 'prechorus1': 9, 'prechorus2': 9, 'chorus4': 7, 'postchorus1': 6, 'instrumental1': 6, 'postchorus2': 5, 'verse4': 4, 'instrumental2': 3, 'instrumental': 3, 'verse5': 3, 'section1': 3, 'section10': 3, 'section11': 3, 'section12': 3, 'section13': 3, 'section2': 3, 'section3': 3, 'section4': 3, 'section5': 3, 'section6': 3, 'section7': 3, 'section8': 3, 'section9': 3, 'bridge1': 1, 'bridge2': 1, 'postchorus3': 1}), 'test': Counter({'chorus1': 41, 'chorus2': 40, 'verse1': 36, 'verse2': 36, 'chorus3': 31, 'intro': 31, 'instrumental': 21, 'prechorus1': 20, 'prechorus2': 20, 'bridge': 13, 'verse3': 12, 'outro': 10, 'prechorus3': 7, 'verse4': 5, 'bridge1': 4, 'bridge2': 4, 'chorus4': 3, 'outro1': 3, 'outro2': 3, 'postchorus1': 1, 'postchorus2': 1, 'bridge3': 1})}\n",
      "\n",
      "Count of pairs by song:\n",
      "{'train': Counter({'lostboy': 36, 'NuvoleBianche': 36, 'Sangria': 36, 'tearsinheaven': 33, 'KissFromARose': 33, 'ComeSailAway': 33, 'TheWeight': 33, 'BestThingINeverHad': 30, 'sugar': 30, 'badday': 30, 'ThisIsMe': 30, 'lovemelikeyoudo': 30, 'Ghostbusters': 30, 'LoveSong': 30, 'NewRules': 30, 'wildestdreams': 30, 'LivingOnAPrayer': 30, 'YoungandBeautiful': 27, 'thinkofme': 27, 'TimeAfterTime': 27, 'Delicate': 27, 'BodyandSoul': 27, 'CastleOnTheHill': 27, 'workfromhome': 27, 'RockWithYou': 27, 'NeverBeTheSame': 27, 'RiseUp': 27, 'MuyDentroDeMi': 27, 'marriedlife': 27, 'ComoLaFlor': 27, 'Bailando': 27, 'primavera': 27, 'openarms': 27, 'AlltheStars': 27, 'HouseOfTheRisingSun': 27, 'Mercy': 24, 'SaySomething': 24, 'BackAtOne': 24, 'Changes': 24, 'Easy': 24, 'Creep': 24, 'everythingido': 24, 'NovemberRain': 24, 'Happy': 24, 'Diamonds': 24, 'LadyMadonna': 24, 'EndlessLove': 24, 'EyeOfTheTiger': 24, 'DanceWithMyFather': 24, 'Wonderwall': 24, 'faded': 24, 'BodyLikeABackRoad': 24, 'sweetchildomine': 24, 'sheusedtobemine': 24, 'GreenOnions': 24, 'BacktoBlack': 21, 'Thunder': 21, 'TheWayWeWere': 21, 'Jolene': 21, 'WakeMeUp': 21, 'HowFarIllGo': 21, 'GreatBallsOfFire': 21, 'AgainstAllOdds': 21, 'MayBe': 18, 'SavingAllMyLoveForYou': 18, 'chariotsoffire': 18, 'hesapirate': 18, 'frostythesnowman': 18, 'MyTribute': 18, 'DancingQueen': 18, 'ChasingCars': 18, 'LaBamba': 18, 'raidersMarch': 15, 'wonderfulworld': 15, 'edelweiss': 15, 'KnockinOnHeavensDoor': 15, 'jurassicpark': 15, 'awholenewworld': 15, 'TimeToSayGoodbye': 15, 'comptine': 15, 'youraisemeup': 15, 'AllMyLoving': 15, 'midnightrider': 15, 'TheAvengers': 15, 'OnlyYouAreHoly': 15, 'brick': 13, 'gameofthrones': 12, 'UnchainedMelody': 12, 'Somewhere': 12, 'somewhereinmymemory': 12, 'onlytime': 12, 'treatyoubetter': 11, 'seeyouagain': 11, 'morethanafeeling': 11, 'somenights': 10, 'HOLY': 10, 'exsandohs': 10, 'ItsTooLate': 10, 'thechristmassong': 9, 'HereAndNow': 9, 'jump': 9, 'lifeisahighway': 9, 'pinkpanther': 9, 'SomewhereOnlyWeKnow': 9, 'TaleAsOldAsTime': 9, 'humbleandkind': 9, 'illshowyou': 9, 'dingdongmerrily': 9, 'thisiswhatyoucamefor': 9, 'thegambler': 9, 'storyofmylife': 8, 'ItsTime': 8, 'demons': 8, 'Linger': 8, 'YoureMyBestFriend': 8, 'IBelieveICanFly': 8, 'sendmylove': 8, 'yourbodyisawonderland': 8, 'threetimesalady': 8, 'throughtheyears': 8, 'fixyou': 7, 'Radioactive': 7, 'wonderfultonight': 7, 'ihateuiloveu': 7, 'allthesmallthings': 7, 'takemehome': 7, 'CandleIntheWind': 7, 'shakeitout': 7, 'YouveGotAFriendInMe': 6, 'canthelpfallinginlove': 6, 'themostwonderfultime': 6, 'harktheherald': 6, 'forrestgump': 6, 'style': 6, 'startrekTNG': 6, 'sexonfire': 6, 'loveyourself': 6, 'silverbells': 5, 'letitsnow': 5, 'freefallin': 5, 'ophelia': 5, 'youaresobeautiful': 5, 'AnotherOneBitesTheDust': 5, 'brothers': 4, 'hero': 4, 'happyxmas': 4, 'iwontgiveup': 4, 'dontyouforgetaboutme': 4, 'happybirthdaytoyou': 3, 'herecomessantaclaus': 3, 'istillhaventfound': 3, 'twinklelittlestar': 3, 'photograph': 3, 'home': 3}), 'eval': Counter({'sevenyears': 42, 'AnotherDayInParadise': 33, 'CheapThrills': 30, 'Angie': 30, 'BennieandtheJets': 27, 'Levon': 24, 'MaybeImAmazed': 24, 'AllOutOfLove': 21, 'thecircleoflife': 18, 'circleoflife': 18, 'whowantstoliveforever': 18, 'ValseAmelie': 15, 'californication': 10, 'partofyourworld': 9, 'yellow': 9, 'sweetemotion': 8, 'aslongasyouremine': 6, 'everytimeyougoaway': 6, 'aintNoSunshine': 4, 'ochristmastree': 4}), 'test': Counter({'RightHereWaiting': 36, 'SmellsLikeTeenSpirit': 33, 'ImagineMe': 30, 'WalkingInMemphis': 27, 'AllThingsAreWorking': 27, 'WerewolvesOfLondon': 27, 'LikeImGonnaLoseYou': 24, 'WishYouWereHere': 21, 'girlcrush': 15, 'Something': 15, 'cantstopthefeeling': 12, 'myfavoritethings': 12, 'RememberMe': 12, 'letmeloveyou': 11, 'Itookapillinibiza': 10, 'withorwithoutyou': 9, 'neversaynever': 7, 'wethreekings': 6, 'WhereEverybodyKnowsYourName': 5, 'whereareyouchristmas': 4})}\n"
     ]
    }
   ],
   "source": [
    "excluded = load_config['test_set'] + load_config['eval_set']\n",
    "\n",
    "manager.collate(hand=('rh', 'bh'),\n",
    "                level=[('int', 'adv'), ('beg', 'adv'), ('beg', 'int')],\n",
    "                includeWholeSong=False,\n",
    "                eval_set=load_config['eval_set'],\n",
    "                test_set=load_config['test_set']\n",
    "               )"
   ]
  },
  {
   "cell_type": "code",
   "execution_count": 7,
   "metadata": {},
   "outputs": [
    {
     "name": "stdout",
     "output_type": "stream",
     "text": [
      "INFO: Saved ./data/collated/B/train_inputs.tfrecord.\n",
      "INFO: Saved ./data/collated/B/train_targets.tfrecord.\n",
      "INFO: Saved ./data/collated/B/eval_inputs.tfrecord.\n",
      "INFO: Saved ./data/collated/B/eval_targets.tfrecord.\n",
      "INFO: Saved ./data/collated/B/test_inputs.tfrecord.\n",
      "INFO: Saved ./data/collated/B/test_targets.tfrecord.\n"
     ]
    }
   ],
   "source": [
    "manager.serialize_collated(load_config['out_collated_dir']) # .xml files --> Protocol buffers in TensorFlow Record containers"
   ]
  },
  {
   "cell_type": "markdown",
   "metadata": {},
   "source": [
    "## Quick & Dirty Fix\n",
    "\n",
    "Update note sequences inside tfrecords to show the key from the metadata `csv` file. Make sure to first create a directory called `fixed`."
   ]
  },
  {
   "cell_type": "code",
   "execution_count": 10,
   "metadata": {},
   "outputs": [
    {
     "name": "stdout",
     "output_type": "stream",
     "text": [
      "INFO: Successfully updated train_inputs.tfrecord to match the tonal keys from songs_metadata.csv.\n",
      "INFO: Successfully updated train_targets.tfrecord to match the tonal keys from songs_metadata.csv.\n",
      "INFO: Successfully updated eval_targets.tfrecord to match the tonal keys from songs_metadata.csv.\n",
      "INFO: Successfully updated eval_inputs.tfrecord to match the tonal keys from songs_metadata.csv.\n",
      "INFO: Successfully updated test_targets.tfrecord to match the tonal keys from songs_metadata.csv.\n",
      "INFO: Successfully updated test_inputs.tfrecord to match the tonal keys from songs_metadata.csv.\n"
     ]
    }
   ],
   "source": [
    "from magenta.music import note_sequence_io\n",
    "\n",
    "# Iterate over .tfrecord files in a dir\n",
    "for src_file in os.listdir(load_config['out_collated_dir']):\n",
    "    if src_file.endswith('.tfrecord'):\n",
    "        src_file_path = os.path.join(load_config['out_collated_dir'], src_file)\n",
    "        target_path = os.path.join(load_config['out_collated_dir'], 'fixed', src_file)\n",
    "        \n",
    "        with note_sequence_io.NoteSequenceRecordWriter(target_path) as inputs_writer:\n",
    "        \n",
    "            # Iterate over the records in the .tfrecord file\n",
    "            for record in note_sequence_io.note_sequence_record_iterator(src_file_path):\n",
    "\n",
    "                key = int(manager.files_index.loc[record.id]['key_mag'])\n",
    "                record.key_signatures[0].key = key\n",
    "            \n",
    "                inputs_writer.write(record)\n",
    "                \n",
    "        print('INFO: Successfully updated {} to match the tonal keys from songs_metadata.csv.'.format(src_file))"
   ]
  },
  {
   "cell_type": "markdown",
   "metadata": {},
   "source": [
    "#### Test if working as expected"
   ]
  },
  {
   "cell_type": "code",
   "execution_count": null,
   "metadata": {},
   "outputs": [],
   "source": [
    "TFRECORD_FILE = './data/collated/B/eval_targets.tfrecord'\n",
    "\n",
    "note_seqs = []\n",
    "for record in note_sequence_io.note_sequence_record_iterator(TFRECORD_FILE):\n",
    "    note_seqs.append(record)\n",
    "\n",
    "# print(note_seqs[0].key_signatures[0].key)\n",
    "# note_seqs[0].total_time\n",
    "# note_seqs[0]"
   ]
  },
  {
   "cell_type": "markdown",
   "metadata": {},
   "source": [
    "### Debugging"
   ]
  },
  {
   "cell_type": "raw",
   "metadata": {},
   "source": [
    "# Hint: To take a peek at the files index, run `manager.files_index`\n",
    "#\n",
    "# Hint 2: Access the collated list with `manager.collated_index`\n",
    "#\n",
    "# Hint 3: You can slice the dataframe like this:\n",
    "# manager.files_index.loc[(manager.files_index['segment'] == 'wholeSong') \n",
    "#                       & (manager.files_index['hand'] == 'bh')]\n",
    "#\n",
    "# Hint 4: manager.files_index.to_csv('files_index.csv')"
   ]
  }
 ],
 "metadata": {
  "kernelspec": {
   "display_name": "Python 3",
   "language": "python",
   "name": "python3"
  },
  "language_info": {
   "codemirror_mode": {
    "name": "ipython",
    "version": 3
   },
   "file_extension": ".py",
   "mimetype": "text/x-python",
   "name": "python",
   "nbconvert_exporter": "python",
   "pygments_lexer": "ipython3",
   "version": "3.6.3"
  }
 },
 "nbformat": 4,
 "nbformat_minor": 2
}
