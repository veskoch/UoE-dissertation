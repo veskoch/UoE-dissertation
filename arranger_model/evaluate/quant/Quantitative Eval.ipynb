{
 "cells": [
  {
   "cell_type": "markdown",
   "metadata": {},
   "source": [
    "This notebook provide tools to evaluate your trained models quantitatively. You can:\n",
    "\n",
    "* Calculate BLEU and ROUGE scores\n",
    "* A bunch of music-related scores"
   ]
  },
  {
   "cell_type": "code",
   "execution_count": 3,
   "metadata": {},
   "outputs": [],
   "source": [
    "import evaluator"
   ]
  },
  {
   "cell_type": "markdown",
   "metadata": {},
   "source": [
    "# Scores"
   ]
  },
  {
   "cell_type": "code",
   "execution_count": 2,
   "metadata": {},
   "outputs": [],
   "source": [
    "# inputs = './data/processed/heron/eval_inputs.txt'"
   ]
  },
  {
   "cell_type": "code",
   "execution_count": 14,
   "metadata": {},
   "outputs": [
    {
     "name": "stdout",
     "output_type": "stream",
     "text": [
      "INFO: Crunching...\n",
      "INFO: BLEU done.\n",
      "INFO: ROUGE done.\n",
      "INFO: Failed to infer beat from track at index 136.\n",
      "INFO: MusicScores done.\n"
     ]
    },
    {
     "data": {
      "text/plain": [
       "bleu                  100.000000\n",
       "rouge-1_f               1.000000\n",
       "rouge-1_p               1.000000\n",
       "rouge-1_r               1.000000\n",
       "rouge-2_f               1.000000\n",
       "rouge-2_p               1.000000\n",
       "rouge-2_r               1.000000\n",
       "rouge-l_f               1.000000\n",
       "rouge-l_p               1.000000\n",
       "rouge-l_r               1.000000\n",
       "cc                      0.825348\n",
       "cc_dist                 0.000000\n",
       "tc                      1.018730\n",
       "tc_dist                 0.000000\n",
       "key_name_acc            1.000000\n",
       "key_mode_acc            1.000000\n",
       "tempo                 197.769861\n",
       "tempo_dist              0.000000\n",
       "duration_dist           0.000000\n",
       "note_density_ratio      1.000000\n",
       "dtype: float64"
      ]
     },
     "execution_count": 14,
     "metadata": {},
     "output_type": "execute_result"
    }
   ],
   "source": [
    "# Sanity check. Make sure the scores make sense\n",
    "# What perfect scores would look like\n",
    "targets = './data/processed/heron/eval_targets.txt'\n",
    "\n",
    "s = evaluator.Evaluator(targets, targets)\n",
    "s.get(to_csv_name=None)"
   ]
  },
  {
   "cell_type": "code",
   "execution_count": 3,
   "metadata": {},
   "outputs": [
    {
     "name": "stdout",
     "output_type": "stream",
     "text": [
      "INFO: Crunching...\n",
      "INFO: BLEU done.\n",
      "INFO: ROUGE done.\n",
      "INFO: Failed to infer beat from track at index 65.\n",
      "INFO: Failed to infer beat from track at index 69.\n",
      "INFO: Failed to infer beat from track at index 75.\n",
      "INFO: Failed to infer beat from track at index 79.\n",
      "INFO: Failed to infer beat from track at index 136.\n",
      "INFO: Failed to convert MIDI predicted at index 226 to Music21 stream.\n",
      "INFO: Failed to infer beat from track at index 226.\n",
      "INFO: Failed to convert MIDI predicted at index 235 to Music21 stream.\n",
      "INFO: Failed to infer beat from track at index 235.\n",
      "INFO: MusicScores done.\n",
      "INFO: Saved as ./trained_models/2018_07_08_1343/run_dir/model_dir/eval/scores.7294.csv\n"
     ]
    },
    {
     "data": {
      "text/plain": [
       "bleu                   11.470000\n",
       "rouge-1_f               0.550932\n",
       "rouge-1_p               0.747981\n",
       "rouge-1_r               0.449436\n",
       "rouge-2_f               0.238356\n",
       "rouge-2_p               0.341038\n",
       "rouge-2_r               0.191958\n",
       "rouge-l_f               0.452123\n",
       "rouge-l_p               0.688502\n",
       "rouge-l_r               0.413371\n",
       "cc                      0.809028\n",
       "cc_dist                 0.077127\n",
       "tc                      1.271692\n",
       "tc_dist                 0.368999\n",
       "key_name_acc            0.353933\n",
       "key_mode_acc            0.629213\n",
       "tempo                 188.391921\n",
       "tempo_dist             33.893407\n",
       "duration_dist           7.182935\n",
       "note_density_ratio      0.704772\n",
       "dtype: float64"
      ]
     },
     "execution_count": 3,
     "metadata": {},
     "output_type": "execute_result"
    }
   ],
   "source": [
    "targets = './data/processed/heron/eval_targets.txt'\n",
    "predicted = './trained_models/2018_07_08_1343/run_dir/model_dir/eval/predictions.txt.7294'\n",
    "save_scores_as = 'scores.7294.csv'\n",
    "\n",
    "s = evaluator.Evaluator(targets, predicted)\n",
    "s.get(to_csv_name=save_scores_as)"
   ]
  },
  {
   "cell_type": "code",
   "execution_count": 4,
   "metadata": {},
   "outputs": [
    {
     "name": "stdout",
     "output_type": "stream",
     "text": [
      "INFO: Crunching...\n",
      "INFO: BLEU done.\n",
      "INFO: ROUGE done.\n",
      "INFO: Failed to infer beat from track at index 136.\n",
      "INFO: Failed to convert MIDI predicted at index 226 to Music21 stream.\n",
      "INFO: Failed to infer beat from track at index 226.\n",
      "INFO: Failed to convert MIDI predicted at index 235 to Music21 stream.\n",
      "INFO: Failed to infer beat from track at index 235.\n",
      "INFO: MusicScores done.\n",
      "INFO: Saved as ./trained_models/2018_07_08_1343/run_dir/model_dir/eval/scores.7638.csv\n"
     ]
    },
    {
     "data": {
      "text/plain": [
       "bleu                   10.980000\n",
       "rouge-1_f               0.568535\n",
       "rouge-1_p               0.751481\n",
       "rouge-1_r               0.471566\n",
       "rouge-2_f               0.244738\n",
       "rouge-2_p               0.344485\n",
       "rouge-2_r               0.199117\n",
       "rouge-l_f               0.466489\n",
       "rouge-l_p               0.682702\n",
       "rouge-l_r               0.428668\n",
       "cc                      0.805005\n",
       "cc_dist                 0.078273\n",
       "tc                      1.237073\n",
       "tc_dist                 0.340470\n",
       "key_name_acc            0.379213\n",
       "key_mode_acc            0.623596\n",
       "tempo                 184.097391\n",
       "tempo_dist             37.046618\n",
       "duration_dist           7.104284\n",
       "note_density_ratio      0.668449\n",
       "dtype: float64"
      ]
     },
     "execution_count": 4,
     "metadata": {},
     "output_type": "execute_result"
    }
   ],
   "source": [
    "targets = './data/processed/heron/eval_targets.txt'\n",
    "predicted = './trained_models/2018_07_08_1343/run_dir/model_dir/eval/predictions.txt.7638'\n",
    "save_scores_as = 'scores.7638.csv'\n",
    "\n",
    "s = evaluator.Evaluator(targets, predicted)\n",
    "s.get(to_csv_name=save_scores_as)"
   ]
  },
  {
   "cell_type": "code",
   "execution_count": 5,
   "metadata": {},
   "outputs": [
    {
     "name": "stdout",
     "output_type": "stream",
     "text": [
      "INFO: Crunching...\n",
      "INFO: BLEU done.\n",
      "INFO: ROUGE done.\n",
      "INFO: Failed to infer beat from track at index 65.\n",
      "INFO: Failed to infer beat from track at index 69.\n",
      "INFO: Failed to infer beat from track at index 75.\n",
      "INFO: Failed to infer beat from track at index 79.\n",
      "INFO: Failed to infer beat from track at index 136.\n",
      "INFO: Failed to infer beat from track at index 167.\n",
      "INFO: Failed to infer beat from track at index 168.\n",
      "INFO: Failed to infer beat from track at index 199.\n",
      "INFO: Failed to infer beat from track at index 205.\n",
      "INFO: Failed to convert MIDI predicted at index 226 to Music21 stream.\n",
      "INFO: Failed to infer beat from track at index 226.\n",
      "INFO: Failed to convert MIDI predicted at index 235 to Music21 stream.\n",
      "INFO: Failed to infer beat from track at index 235.\n",
      "INFO: MusicScores done.\n",
      "INFO: Saved as ./trained_models/2018_07_08_1343/run_dir/model_dir/eval/scores.5906.csv\n"
     ]
    },
    {
     "data": {
      "text/plain": [
       "bleu                   10.850000\n",
       "rouge-1_f               0.560999\n",
       "rouge-1_p               0.773165\n",
       "rouge-1_r               0.454472\n",
       "rouge-2_f               0.243342\n",
       "rouge-2_p               0.360729\n",
       "rouge-2_r               0.192951\n",
       "rouge-l_f               0.454163\n",
       "rouge-l_p               0.706824\n",
       "rouge-l_r               0.414965\n",
       "cc                      0.792943\n",
       "cc_dist                 0.085111\n",
       "tc                      1.232081\n",
       "tc_dist                 0.372760\n",
       "key_name_acc            0.426966\n",
       "key_mode_acc            0.668539\n",
       "tempo                 194.518026\n",
       "tempo_dist             32.484433\n",
       "duration_dist           7.683989\n",
       "note_density_ratio      0.662062\n",
       "dtype: float64"
      ]
     },
     "execution_count": 5,
     "metadata": {},
     "output_type": "execute_result"
    }
   ],
   "source": [
    "targets = './data/processed/heron/eval_targets.txt'\n",
    "predicted = './trained_models/2018_07_08_1343/run_dir/model_dir/eval/predictions.txt.5906'\n",
    "save_scores_as = 'scores.5906.csv'\n",
    "\n",
    "s = evaluator.Evaluator(targets, predicted)\n",
    "s.get(to_csv_name=save_scores_as)"
   ]
  },
  {
   "cell_type": "code",
   "execution_count": 6,
   "metadata": {},
   "outputs": [
    {
     "name": "stdout",
     "output_type": "stream",
     "text": [
      "INFO: Crunching...\n",
      "INFO: BLEU done.\n",
      "INFO: ROUGE done.\n",
      "INFO: Failed to infer beat from track at index 65.\n",
      "INFO: Failed to infer beat from track at index 69.\n",
      "INFO: Failed to infer beat from track at index 75.\n",
      "INFO: Failed to infer beat from track at index 79.\n",
      "INFO: Failed to infer beat from track at index 136.\n",
      "INFO: Failed to convert MIDI predicted at index 226 to Music21 stream.\n",
      "INFO: Failed to infer beat from track at index 226.\n",
      "INFO: Failed to convert MIDI predicted at index 235 to Music21 stream.\n",
      "INFO: Failed to infer beat from track at index 235.\n",
      "INFO: MusicScores done.\n",
      "INFO: Saved as ./trained_models/2018_07_08_1343/run_dir/model_dir/eval/scores.5560.csv\n"
     ]
    },
    {
     "data": {
      "text/plain": [
       "bleu                   10.790000\n",
       "rouge-1_f               0.542757\n",
       "rouge-1_p               0.762985\n",
       "rouge-1_r               0.434895\n",
       "rouge-2_f               0.235104\n",
       "rouge-2_p               0.362783\n",
       "rouge-2_r               0.182592\n",
       "rouge-l_f               0.440946\n",
       "rouge-l_p               0.707596\n",
       "rouge-l_r               0.402668\n",
       "cc                      0.806686\n",
       "cc_dist                 0.079315\n",
       "tc                      1.299476\n",
       "tc_dist                 0.382554\n",
       "key_name_acc            0.390449\n",
       "key_mode_acc            0.662921\n",
       "tempo                 189.586581\n",
       "tempo_dist             32.516361\n",
       "duration_dist           7.446629\n",
       "note_density_ratio      0.687113\n",
       "dtype: float64"
      ]
     },
     "execution_count": 6,
     "metadata": {},
     "output_type": "execute_result"
    }
   ],
   "source": [
    "targets = './data/processed/heron/eval_targets.txt'\n",
    "predicted = './trained_models/2018_07_08_1343/run_dir/model_dir/eval/predictions.txt.5560'\n",
    "save_scores_as = 'scores.5560.csv'\n",
    "\n",
    "s = evaluator.Evaluator(targets, predicted)\n",
    "s.get(to_csv_name=save_scores_as)"
   ]
  },
  {
   "cell_type": "code",
   "execution_count": 7,
   "metadata": {},
   "outputs": [
    {
     "name": "stdout",
     "output_type": "stream",
     "text": [
      "INFO: Crunching...\n",
      "INFO: BLEU done.\n",
      "INFO: ROUGE done.\n",
      "INFO: Failed to infer beat from track at index 65.\n",
      "INFO: Failed to infer beat from track at index 69.\n",
      "INFO: Failed to infer beat from track at index 75.\n",
      "INFO: Failed to infer beat from track at index 79.\n",
      "INFO: Failed to infer beat from track at index 136.\n",
      "INFO: Failed to infer beat from track at index 167.\n",
      "INFO: Failed to infer beat from track at index 168.\n",
      "INFO: Failed to convert MIDI predicted at index 226 to Music21 stream.\n",
      "INFO: Failed to infer beat from track at index 226.\n",
      "INFO: Failed to convert MIDI predicted at index 235 to Music21 stream.\n",
      "INFO: Failed to infer beat from track at index 235.\n",
      "INFO: MusicScores done.\n",
      "INFO: Saved as ./trained_models/2018_07_08_1343/run_dir/model_dir/eval/scores.3823.csv\n"
     ]
    },
    {
     "data": {
      "text/plain": [
       "bleu                    8.920000\n",
       "rouge-1_f               0.486640\n",
       "rouge-1_p               0.757871\n",
       "rouge-1_r               0.370960\n",
       "rouge-2_f               0.192486\n",
       "rouge-2_p               0.365204\n",
       "rouge-2_r               0.139058\n",
       "rouge-l_f               0.377006\n",
       "rouge-l_p               0.701520\n",
       "rouge-l_r               0.343489\n",
       "cc                      0.793439\n",
       "cc_dist                 0.081311\n",
       "tc                      1.305018\n",
       "tc_dist                 0.395451\n",
       "key_name_acc            0.373596\n",
       "key_mode_acc            0.646067\n",
       "tempo                 196.121969\n",
       "tempo_dist             40.859885\n",
       "duration_dist           7.922051\n",
       "note_density_ratio      0.738224\n",
       "dtype: float64"
      ]
     },
     "execution_count": 7,
     "metadata": {},
     "output_type": "execute_result"
    }
   ],
   "source": [
    "targets = './data/processed/heron/eval_targets.txt'\n",
    "predicted = './trained_models/2018_07_08_1343/run_dir/model_dir/eval/predictions.txt.3823'\n",
    "save_scores_as = 'scores.3823.csv'\n",
    "\n",
    "s = evaluator.Evaluator(targets, predicted)\n",
    "s.get(to_csv_name=save_scores_as)"
   ]
  },
  {
   "cell_type": "code",
   "execution_count": 8,
   "metadata": {},
   "outputs": [
    {
     "name": "stdout",
     "output_type": "stream",
     "text": [
      "INFO: Crunching...\n",
      "INFO: BLEU done.\n",
      "INFO: ROUGE done.\n",
      "INFO: Failed to infer beat from track at index 65.\n",
      "INFO: Failed to infer beat from track at index 69.\n",
      "INFO: Failed to infer beat from track at index 75.\n",
      "INFO: Failed to infer beat from track at index 79.\n",
      "INFO: Failed to infer beat from track at index 136.\n",
      "INFO: Failed to infer beat from track at index 167.\n",
      "INFO: Failed to infer beat from track at index 168.\n",
      "INFO: Failed to convert MIDI predicted at index 226 to Music21 stream.\n",
      "INFO: Failed to infer beat from track at index 226.\n",
      "INFO: Failed to convert MIDI predicted at index 235 to Music21 stream.\n",
      "INFO: Failed to infer beat from track at index 235.\n",
      "INFO: MusicScores done.\n",
      "INFO: Saved as ./trained_models/2018_07_08_1343/run_dir/model_dir/eval/scores.2435.csv\n"
     ]
    },
    {
     "data": {
      "text/plain": [
       "bleu                    4.740000\n",
       "rouge-1_f               0.324222\n",
       "rouge-1_p               0.743362\n",
       "rouge-1_r               0.214336\n",
       "rouge-2_f               0.089025\n",
       "rouge-2_p               0.328642\n",
       "rouge-2_r               0.054537\n",
       "rouge-l_f               0.217287\n",
       "rouge-l_p               0.709224\n",
       "rouge-l_r               0.203908\n",
       "cc                      0.734649\n",
       "cc_dist                 0.119770\n",
       "tc                      1.198160\n",
       "tc_dist                 0.404482\n",
       "key_name_acc            0.365169\n",
       "key_mode_acc            0.620787\n",
       "tempo                 190.927164\n",
       "tempo_dist             48.014829\n",
       "duration_dist           8.537219\n",
       "note_density_ratio      0.843610\n",
       "dtype: float64"
      ]
     },
     "execution_count": 8,
     "metadata": {},
     "output_type": "execute_result"
    }
   ],
   "source": [
    "targets = './data/processed/heron/eval_targets.txt'\n",
    "predicted = './trained_models/2018_07_08_1343/run_dir/model_dir/eval/predictions.txt.2435'\n",
    "save_scores_as = 'scores.2435.csv'\n",
    "\n",
    "s = evaluator.Evaluator(targets, predicted)\n",
    "s.get(to_csv_name=save_scores_as)"
   ]
  },
  {
   "cell_type": "code",
   "execution_count": 9,
   "metadata": {},
   "outputs": [
    {
     "name": "stdout",
     "output_type": "stream",
     "text": [
      "INFO: Crunching...\n",
      "INFO: BLEU done.\n",
      "INFO: ROUGE done.\n",
      "INFO: Failed to infer beat from track at index 69.\n",
      "INFO: Failed to infer beat from track at index 79.\n",
      "INFO: Failed to infer beat from track at index 136.\n",
      "INFO: Failed to convert MIDI predicted at index 226 to Music21 stream.\n",
      "INFO: Failed to infer beat from track at index 226.\n",
      "INFO: Failed to convert MIDI predicted at index 235 to Music21 stream.\n",
      "INFO: Failed to infer beat from track at index 235.\n",
      "INFO: MusicScores done.\n",
      "INFO: Saved as ./trained_models/2018_07_08_1343/run_dir/model_dir/eval/scores.1740.csv\n"
     ]
    },
    {
     "data": {
      "text/plain": [
       "bleu                    4.820000\n",
       "rouge-1_f               0.311874\n",
       "rouge-1_p               0.732293\n",
       "rouge-1_r               0.203333\n",
       "rouge-2_f               0.083919\n",
       "rouge-2_p               0.363740\n",
       "rouge-2_r               0.049582\n",
       "rouge-l_f               0.199264\n",
       "rouge-l_p               0.680785\n",
       "rouge-l_r               0.187838\n",
       "cc                      0.758001\n",
       "cc_dist                 0.089979\n",
       "tc                      1.306828\n",
       "tc_dist                 0.362557\n",
       "key_name_acc            0.342697\n",
       "key_mode_acc            0.575843\n",
       "tempo                 222.095238\n",
       "tempo_dist             44.254250\n",
       "duration_dist           8.520716\n",
       "note_density_ratio      0.793231\n",
       "dtype: float64"
      ]
     },
     "execution_count": 9,
     "metadata": {},
     "output_type": "execute_result"
    }
   ],
   "source": [
    "targets = './data/processed/heron/eval_targets.txt'\n",
    "predicted = './trained_models/2018_07_08_1343/run_dir/model_dir/eval/predictions.txt.1740'\n",
    "save_scores_as = 'scores.1740.csv'\n",
    "\n",
    "s = evaluator.Evaluator(targets, predicted)\n",
    "s.get(to_csv_name=save_scores_as)"
   ]
  },
  {
   "cell_type": "code",
   "execution_count": 11,
   "metadata": {},
   "outputs": [
    {
     "name": "stdout",
     "output_type": "stream",
     "text": [
      "INFO: Crunching...\n",
      "INFO: BLEU done.\n",
      "INFO: ROUGE done.\n",
      "INFO: Failed to infer beat from track at index 136.\n",
      "INFO: Failed to convert MIDI predicted at index 226 to Music21 stream.\n",
      "INFO: Failed to infer beat from track at index 226.\n",
      "INFO: Failed to infer beat from track at index 227.\n",
      "INFO: Failed to convert MIDI predicted at index 235 to Music21 stream.\n",
      "INFO: Failed to infer beat from track at index 235.\n",
      "INFO: Failed to infer beat from track at index 236.\n",
      "INFO: MusicScores done.\n",
      "INFO: Saved as ./trained_models/2018_07_08_1343/run_dir/model_dir/eval/scores.1043.csv\n"
     ]
    },
    {
     "data": {
      "text/plain": [
       "bleu                    4.990000\n",
       "rouge-1_f               0.306144\n",
       "rouge-1_p               0.736706\n",
       "rouge-1_r               0.197645\n",
       "rouge-2_f               0.080799\n",
       "rouge-2_p               0.372837\n",
       "rouge-2_r               0.046630\n",
       "rouge-l_f               0.195248\n",
       "rouge-l_p               0.690743\n",
       "rouge-l_r               0.184765\n",
       "cc                      0.743630\n",
       "cc_dist                 0.096177\n",
       "tc                      1.236834\n",
       "tc_dist                 0.308548\n",
       "key_name_acc            0.275281\n",
       "key_mode_acc            0.612360\n",
       "tempo                 238.633428\n",
       "tempo_dist             42.274216\n",
       "duration_dist           9.594101\n",
       "note_density_ratio      0.859942\n",
       "dtype: float64"
      ]
     },
     "execution_count": 11,
     "metadata": {},
     "output_type": "execute_result"
    }
   ],
   "source": [
    "targets = './data/processed/heron/eval_targets.txt'\n",
    "predicted = './trained_models/2018_07_08_1343/run_dir/model_dir/eval/predictions.txt.1043'\n",
    "save_scores_as = 'scores.1043.csv'\n",
    "\n",
    "s = evaluator.Evaluator(targets, predicted)\n",
    "s.get(to_csv_name=save_scores_as)"
   ]
  },
  {
   "cell_type": "code",
   "execution_count": 13,
   "metadata": {},
   "outputs": [
    {
     "name": "stdout",
     "output_type": "stream",
     "text": [
      "INFO: Crunching...\n",
      "INFO: BLEU done.\n",
      "INFO: ROUGE done.\n",
      "INFO: Failed to infer beat from track at index 136.\n",
      "INFO: MusicScores done.\n",
      "INFO: Saved as ./trained_models/2018_07_08_1343/run_dir/model_dir/eval/scores.694.csv\n"
     ]
    },
    {
     "data": {
      "text/plain": [
       "bleu                    4.750000\n",
       "rouge-1_f               0.346184\n",
       "rouge-1_p               0.776198\n",
       "rouge-1_r               0.228100\n",
       "rouge-2_f               0.092945\n",
       "rouge-2_p               0.380666\n",
       "rouge-2_r               0.054836\n",
       "rouge-l_f               0.210450\n",
       "rouge-l_p               0.665816\n",
       "rouge-l_r               0.197721\n",
       "cc                      0.729801\n",
       "cc_dist                 0.112314\n",
       "tc                      1.069082\n",
       "tc_dist                 0.280599\n",
       "key_name_acc            0.272472\n",
       "key_mode_acc            0.505618\n",
       "tempo                 233.943246\n",
       "tempo_dist             40.051436\n",
       "duration_dist           8.780197\n",
       "note_density_ratio      0.833844\n",
       "dtype: float64"
      ]
     },
     "execution_count": 13,
     "metadata": {},
     "output_type": "execute_result"
    }
   ],
   "source": [
    "targets = './data/processed/heron/eval_targets.txt'\n",
    "predicted = './trained_models/2018_07_08_1343/run_dir/model_dir/eval/predictions.txt.694'\n",
    "save_scores_as = 'scores.694.csv'\n",
    "\n",
    "s = evaluator.Evaluator(targets, predicted)\n",
    "s.get(to_csv_name=save_scores_as)"
   ]
  },
  {
   "cell_type": "code",
   "execution_count": 12,
   "metadata": {},
   "outputs": [
    {
     "name": "stdout",
     "output_type": "stream",
     "text": [
      "INFO: Crunching...\n",
      "INFO: BLEU done.\n",
      "INFO: ROUGE done.\n",
      "INFO: Failed to infer beat from track at index 136.\n",
      "INFO: MusicScores done.\n",
      "INFO: Saved as ./trained_models/2018_07_08_1343/run_dir/model_dir/eval/scores.347.csv\n"
     ]
    },
    {
     "data": {
      "text/plain": [
       "bleu                    3.530000\n",
       "rouge-1_f               0.232836\n",
       "rouge-1_p               0.828397\n",
       "rouge-1_r               0.138426\n",
       "rouge-2_f               0.055799\n",
       "rouge-2_p               0.466028\n",
       "rouge-2_r               0.030276\n",
       "rouge-l_f               0.110579\n",
       "rouge-l_p               0.638010\n",
       "rouge-l_r               0.107151\n",
       "cc                      0.637980\n",
       "cc_dist                 0.191404\n",
       "tc                      0.724226\n",
       "tc_dist                 0.318084\n",
       "key_name_acc            0.252809\n",
       "key_mode_acc            0.449438\n",
       "tempo                 238.674930\n",
       "tempo_dist             41.777868\n",
       "duration_dist           7.816713\n",
       "note_density_ratio      0.791939\n",
       "dtype: float64"
      ]
     },
     "execution_count": 12,
     "metadata": {},
     "output_type": "execute_result"
    }
   ],
   "source": [
    "targets = './data/processed/heron/eval_targets.txt'\n",
    "predicted = './trained_models/2018_07_08_1343/run_dir/model_dir/eval/predictions.txt.347'\n",
    "save_scores_as = 'scores.347.csv'\n",
    "\n",
    "s = evaluator.Evaluator(targets, predicted)\n",
    "s.get(to_csv_name=save_scores_as)"
   ]
  },
  {
   "cell_type": "code",
   "execution_count": 10,
   "metadata": {},
   "outputs": [
    {
     "name": "stdout",
     "output_type": "stream",
     "text": [
      "INFO: Crunching...\n",
      "INFO: BLEU done.\n",
      "INFO: ROUGE done.\n",
      "INFO: Failed to infer beat from track at index 69.\n",
      "INFO: Failed to infer beat from track at index 79.\n",
      "INFO: Failed to infer beat from track at index 136.\n",
      "INFO: Failed to infer beat from track at index 288.\n",
      "INFO: Failed to infer beat from track at index 298.\n",
      "INFO: MusicScores done.\n"
     ]
    },
    {
     "data": {
      "text/plain": [
       "bleu                   11.670000\n",
       "rouge-1_f               0.554662\n",
       "rouge-1_p               0.771587\n",
       "rouge-1_r               0.445812\n",
       "rouge-2_f               0.255086\n",
       "rouge-2_p               0.375459\n",
       "rouge-2_r               0.202187\n",
       "rouge-l_f               0.452439\n",
       "rouge-l_p               0.712977\n",
       "rouge-l_r               0.411512\n",
       "cc                      0.800624\n",
       "cc_dist                 0.078053\n",
       "tc                      1.273226\n",
       "tc_dist                 0.375765\n",
       "key_name_acc            0.384831\n",
       "key_mode_acc            0.662921\n",
       "tempo                 187.367414\n",
       "tempo_dist             30.851308\n",
       "duration_dist           6.476475\n",
       "note_density_ratio      0.635092\n",
       "dtype: float64"
      ]
     },
     "execution_count": 10,
     "metadata": {},
     "output_type": "execute_result"
    }
   ],
   "source": [
    "targets = './data/processed/heron/eval_targets.txt'\n",
    "predicted = './trained_models/2018_07_05_2103/run_dir/model_dir/eval/predictions.txt.6255'\n",
    "\n",
    "s = evaluator.Evaluator(targets, predicted)\n",
    "s.get(to_csv_name=None)"
   ]
  },
  {
   "cell_type": "code",
   "execution_count": null,
   "metadata": {},
   "outputs": [],
   "source": []
  }
 ],
 "metadata": {
  "kernelspec": {
   "display_name": "Python 3",
   "language": "python",
   "name": "python3"
  },
  "language_info": {
   "codemirror_mode": {
    "name": "ipython",
    "version": 3
   },
   "file_extension": ".py",
   "mimetype": "text/x-python",
   "name": "python",
   "nbconvert_exporter": "python",
   "pygments_lexer": "ipython3",
   "version": "3.6.3"
  }
 },
 "nbformat": 4,
 "nbformat_minor": 2
}
