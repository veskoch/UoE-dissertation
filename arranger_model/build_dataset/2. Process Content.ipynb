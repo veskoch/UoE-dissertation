{
 "cells": [
  {
   "cell_type": "markdown",
   "metadata": {},
   "source": [
    "This notebook will help you define and run pipelines to process your data. This includes data augmentation, slicing, stretching and encoding among others. If you want to use this notebook, you are expected to have already collated your original `.xml` with the help of `1.1. Collate Files.ipynb`.\n",
    "\n",
    "Pipelines are a data processing module which transforms input data types to output data types. The idea as well as bits & pieces are borrowed [the Magenta project](https://github.com/tensorflow/magenta/tree/master/magenta/pipelines).\n",
    "\n",
    "\n",
    "**INSTRUCTIONS**\n",
    " \n",
    "First, adjust the definition of the pipelines inside `pipeline_graph_def`. Then run `build_dataset`. This will create 4 files, two sets of train and evaluate. The first set is the inputs, and the second set is the targets."
   ]
  },
  {
   "cell_type": "markdown",
   "metadata": {},
   "source": [
    "**DEPENDENCIES**"
   ]
  },
  {
   "cell_type": "code",
   "execution_count": 290,
   "metadata": {},
   "outputs": [
    {
     "data": {
      "text/plain": [
       "<module 'data_processing' from '/Users/vesko/GitHub/UoE-dissertation/arranger_model/build_dataset/data_processing.py'>"
      ]
     },
     "execution_count": 290,
     "metadata": {},
     "output_type": "execute_result"
    }
   ],
   "source": [
    "import importlib\n",
    "importlib.reload(data_processing)"
   ]
  },
  {
   "cell_type": "code",
   "execution_count": 291,
   "metadata": {},
   "outputs": [],
   "source": [
    "# General\n",
    "import os\n",
    "import re \n",
    "import pandas as pd\n",
    "\n",
    "# The processing manager which glues everything\n",
    "import data_processing\n",
    "\n",
    "# Augmentation Pipelines\n",
    "from data_processing import TransposerToC, TransposerToRange, Reverser\n",
    "\n",
    "# Processing Pipelines\n",
    "from magenta.pipelines.note_sequence_pipelines import Quantizer, Splitter\n",
    "from data_processing import PerformanceExtractor, MetadataExtractor, ParserToText, QuantizedSplitter\n",
    "\n",
    "# Other\n",
    "from magenta.protobuf import music_pb2\n",
    "from magenta.pipelines import pipelines_common, dag_pipeline"
   ]
  },
  {
   "cell_type": "markdown",
   "metadata": {},
   "source": [
    "**PARAMETERS**"
   ]
  },
  {
   "cell_type": "code",
   "execution_count": 292,
   "metadata": {},
   "outputs": [],
   "source": [
    "pipeline_config = dict()\n",
    "\n",
    "pipeline_config['data_source_dir'] = \"../assets/data/collated/C/\"\n",
    "pipeline_config['data_target_dir'] = \"../assets/data/processed/hummingbird/\""
   ]
  },
  {
   "cell_type": "code",
   "execution_count": 293,
   "metadata": {},
   "outputs": [],
   "source": [
    "# How many steps per quarter note\n",
    "pipeline_config['steps_per_quarter'] = 4\n",
    "\n",
    "pipeline_config['min_events'] = 1\n",
    "pipeline_config['max_events'] = 9999999\n",
    "\n",
    "pipeline_config['MIN_MIDI_PITCH'] = 0 # Inclusive.\n",
    "pipeline_config['MAX_MIDI_PITCH'] = 127 # Inclusive."
   ]
  },
  {
   "cell_type": "markdown",
   "metadata": {},
   "source": [
    "**DEFINITIONS**"
   ]
  },
  {
   "cell_type": "code",
   "execution_count": 294,
   "metadata": {},
   "outputs": [],
   "source": [
    "def pipeline_graph_def(collection_name,\n",
    "                       config):\n",
    "    \"\"\"Returns the Pipeline instance which creates the RNN dataset.\n",
    "\n",
    "    Args:\n",
    "        collection_name:\n",
    "        config: dict() with configuration settings\n",
    "\n",
    "    Returns:\n",
    "        A pipeline.Pipeline instance.\n",
    "    \"\"\"\n",
    "    \n",
    "    \n",
    "    # User Variables\n",
    "    metadata_df = pd.read_csv(os.path.join(pipeline_config['data_source_dir'], 'filex_index.csv'), index_col=0)\n",
    "    metadata_attr = []\n",
    "    split_hop_size_seconds = 99999\n",
    "    hop_bars = list(range(0,300,5))\n",
    "    \n",
    "    # Do Not Modify those\n",
    "    train_mode = re.match(r'train(?=_)', collection_name)\n",
    "    key = collection_name\n",
    "    dag = {}\n",
    "    \n",
    "    # Input must NOT be quantized\n",
    "    splitter = Splitter(\n",
    "        hop_size_seconds=split_hop_size_seconds,\n",
    "        name='Splitter_' + key)\n",
    "    \n",
    "    # `Quantizer` takes note data in seconds and snaps, or quantizes, \n",
    "    # everything to a discrete grid of timesteps. It maps `NoteSequence` \n",
    "    # protocol buffers to `NoteSequence` protos with quanitzed times. \n",
    "    quantizer = Quantizer(\n",
    "        steps_per_quarter=pipeline_config['steps_per_quarter'], \n",
    "        name='Quantizer_' + key)\n",
    "        # input_type=music_pb2.NoteSequence\n",
    "        # output_type=music_pb2.NoteSequence\n",
    "        \n",
    "    # Input MUST BE quantized\n",
    "    quant_splitter = QuantizedSplitter(\n",
    "        hop_bars=hop_bars,\n",
    "        name='QuantizedSplitter_' + key)\n",
    "        \n",
    "    reverser = Reverser(\n",
    "        True if train_mode else False, \n",
    "        name='Reverser' + key)\n",
    "        # input_type=music_pb2.NoteSequence\n",
    "        # output_type=music_pb2.NoteSequence\n",
    "        \n",
    "    transposerToC = TransposerToC(\n",
    "        name='TransposerToC' + key)\n",
    "\n",
    "#     transposer = TransposerToRange(\n",
    "#         range(-12, 12) if train_mode else [0],\n",
    "#         min_pitch = pipeline_config['MIN_MIDI_PITCH'],\n",
    "#         max_pitch = pipeline_config['MAX_MIDI_PITCH'],\n",
    "#         name='TransposerToRange_' + key)\n",
    "#         # input_type=music_pb2.NoteSequence\n",
    "#         # output_type=music_pb2.NoteSequence\n",
    "\n",
    "    perf_extractor = PerformanceExtractor(\n",
    "        min_events=pipeline_config['min_events'],\n",
    "        max_events=pipeline_config['max_events'],\n",
    "        num_velocity_bins=0,\n",
    "        name='PerformanceExtractor_' + key)\n",
    "        # input_type = music_pb2.NoteSequence\n",
    "        # output_type = magenta.music.MetricPerformance\n",
    "\n",
    "    meta_extractor = MetadataExtractor(\n",
    "        metadata_df = metadata_df,\n",
    "        attributes=metadata_attr,\n",
    "        name = 'MetadataExtractor' + key)\n",
    "    \n",
    "    parser = ParserToText(\n",
    "        name='ParserToText' + key)\n",
    "        # input_type = magenta.music.MetricPerformance\n",
    "        # output_type = str\n",
    "\n",
    "    \n",
    "    ### Pipelines Full Map ###\n",
    "    #\n",
    "    # DagInput > Splitter > Quantizer > QuantizedSplitter > Reverser > TransposerToC > TransposerToRange > PerformanceExtractor > 'MetricPerformance'\n",
    "    # DagInput > MetadataExtractor > 'metadata'\n",
    "    # \n",
    "    # {'MetricPerformance', 'meta'} > ParserToText > DagOutput\n",
    "    #\n",
    "    \n",
    "    dag[splitter] = dag_pipeline.DagInput(music_pb2.NoteSequence)\n",
    "    dag[quantizer] = splitter\n",
    "    dag[quant_splitter] = quantizer\n",
    "    dag[reverser] = quant_splitter\n",
    "    dag[transposerToC] = reverser\n",
    "    dag[perf_extractor] = transposerToC\n",
    "    \n",
    "    dag[meta_extractor] = dag_pipeline.DagInput(music_pb2.NoteSequence)\n",
    "    dag[parser] = meta_extractor\n",
    "    \n",
    "    dag[parser] = { 'MetricPerformance' : perf_extractor, \n",
    "                    'metadata' : meta_extractor }\n",
    "    \n",
    "    dag[dag_pipeline.DagOutput(key)] = parser\n",
    "        \n",
    "    return dag_pipeline.DAGPipeline(dag)"
   ]
  },
  {
   "cell_type": "markdown",
   "metadata": {},
   "source": [
    "# Build Dataset"
   ]
  },
  {
   "cell_type": "code",
   "execution_count": 295,
   "metadata": {},
   "outputs": [
    {
     "name": "stdout",
     "output_type": "stream",
     "text": [
      "INFO: Target ../assets/data/processed/hummingbird/.\n",
      "INFO: Collated data sourced from ../assets/data/collated/C/.\n",
      "\n",
      "INFO: Building train_inputs dataset...\n",
      "INFO: Augmenting by reversing.\n",
      "INFO: Transposing all to C.\n",
      "INFO: Prepending metadata tokens for attributes: []\n",
      "INFO:tensorflow:\n",
      "\n",
      "Completed.\n",
      "\n",
      "INFO:tensorflow:Processed 295 inputs total. Produced 59000 outputs.\n",
      "INFO:tensorflow:DAGPipeline_PerformanceExtractor_train_inputs_performance_lengths_in_bars:\n",
      "  [-inf,1): 42380\n",
      "  [1,10): 16620\n",
      "INFO:tensorflow:DAGPipeline_PerformanceExtractor_train_inputs_performances_discarded_more_than_1_program: 0\n",
      "INFO:tensorflow:DAGPipeline_PerformanceExtractor_train_inputs_performances_discarded_too_short: 0\n",
      "INFO:tensorflow:DAGPipeline_PerformanceExtractor_train_inputs_performances_truncated: 0\n",
      "INFO:tensorflow:DAGPipeline_PerformanceExtractor_train_inputs_performances_truncated_timewise: 0\n",
      "INFO:tensorflow:DAGPipeline_TransposerToCtrain_inputs_transpositions_generated: 59000\n",
      "\n",
      "INFO: Building train_targets dataset...\n",
      "INFO: Augmenting by reversing.\n",
      "INFO: Transposing all to C.\n",
      "INFO: Prepending metadata tokens for attributes: []\n",
      "INFO:tensorflow:\n",
      "\n",
      "Completed.\n",
      "\n",
      "INFO:tensorflow:Processed 295 inputs total. Produced 59000 outputs.\n",
      "INFO:tensorflow:DAGPipeline_PerformanceExtractor_train_targets_performance_lengths_in_bars:\n",
      "  [-inf,1): 46920\n",
      "  [1,10): 12080\n",
      "INFO:tensorflow:DAGPipeline_PerformanceExtractor_train_targets_performances_discarded_more_than_1_program: 0\n",
      "INFO:tensorflow:DAGPipeline_PerformanceExtractor_train_targets_performances_discarded_too_short: 0\n",
      "INFO:tensorflow:DAGPipeline_PerformanceExtractor_train_targets_performances_truncated: 0\n",
      "INFO:tensorflow:DAGPipeline_PerformanceExtractor_train_targets_performances_truncated_timewise: 0\n",
      "INFO:tensorflow:DAGPipeline_TransposerToCtrain_targets_transpositions_generated: 59000\n",
      "\n",
      "INFO: Building eval_targets dataset...\n",
      "INFO: Transposing all to C.\n",
      "INFO: Prepending metadata tokens for attributes: []\n",
      "INFO:tensorflow:\n",
      "\n",
      "Completed.\n",
      "\n",
      "INFO:tensorflow:Processed 36 inputs total. Produced 3600 outputs.\n",
      "INFO:tensorflow:DAGPipeline_PerformanceExtractor_eval_targets_performance_lengths_in_bars:\n",
      "  [-inf,1): 2931\n",
      "  [1,10): 669\n",
      "INFO:tensorflow:DAGPipeline_PerformanceExtractor_eval_targets_performances_discarded_more_than_1_program: 0\n",
      "INFO:tensorflow:DAGPipeline_PerformanceExtractor_eval_targets_performances_discarded_too_short: 0\n",
      "INFO:tensorflow:DAGPipeline_PerformanceExtractor_eval_targets_performances_truncated: 0\n",
      "INFO:tensorflow:DAGPipeline_PerformanceExtractor_eval_targets_performances_truncated_timewise: 0\n",
      "INFO:tensorflow:DAGPipeline_TransposerToCeval_targets_transpositions_generated: 3600\n",
      "\n",
      "INFO: Building eval_inputs dataset...\n",
      "INFO: Transposing all to C.\n",
      "INFO: Prepending metadata tokens for attributes: []\n",
      "INFO:tensorflow:\n",
      "\n",
      "Completed.\n",
      "\n",
      "INFO:tensorflow:Processed 36 inputs total. Produced 3600 outputs.\n",
      "INFO:tensorflow:DAGPipeline_PerformanceExtractor_eval_inputs_performance_lengths_in_bars:\n",
      "  [-inf,1): 2537\n",
      "  [1,10): 1063\n",
      "INFO:tensorflow:DAGPipeline_PerformanceExtractor_eval_inputs_performances_discarded_more_than_1_program: 0\n",
      "INFO:tensorflow:DAGPipeline_PerformanceExtractor_eval_inputs_performances_discarded_too_short: 0\n",
      "INFO:tensorflow:DAGPipeline_PerformanceExtractor_eval_inputs_performances_truncated: 0\n",
      "INFO:tensorflow:DAGPipeline_PerformanceExtractor_eval_inputs_performances_truncated_timewise: 0\n",
      "INFO:tensorflow:DAGPipeline_TransposerToCeval_inputs_transpositions_generated: 3600\n",
      "\n",
      "INFO: Building test_targets dataset...\n",
      "INFO: Transposing all to C.\n",
      "INFO: Prepending metadata tokens for attributes: []\n",
      "INFO:tensorflow:\n",
      "\n",
      "Completed.\n",
      "\n",
      "INFO:tensorflow:Processed 34 inputs total. Produced 3400 outputs.\n",
      "INFO:tensorflow:DAGPipeline_PerformanceExtractor_test_targets_performance_lengths_in_bars:\n",
      "  [-inf,1): 2720\n",
      "  [1,10): 680\n",
      "INFO:tensorflow:DAGPipeline_PerformanceExtractor_test_targets_performances_discarded_more_than_1_program: 0\n",
      "INFO:tensorflow:DAGPipeline_PerformanceExtractor_test_targets_performances_discarded_too_short: 0\n",
      "INFO:tensorflow:DAGPipeline_PerformanceExtractor_test_targets_performances_truncated: 0\n",
      "INFO:tensorflow:DAGPipeline_PerformanceExtractor_test_targets_performances_truncated_timewise: 0\n",
      "INFO:tensorflow:DAGPipeline_TransposerToCtest_targets_transpositions_generated: 3400\n",
      "\n",
      "INFO: Building test_inputs dataset...\n",
      "INFO: Transposing all to C.\n",
      "INFO: Prepending metadata tokens for attributes: []\n",
      "INFO:tensorflow:\n",
      "\n",
      "Completed.\n",
      "\n",
      "INFO:tensorflow:Processed 34 inputs total. Produced 3400 outputs.\n",
      "INFO:tensorflow:DAGPipeline_PerformanceExtractor_test_inputs_performance_lengths_in_bars:\n",
      "  [-inf,1): 2368\n",
      "  [1,10): 1032\n",
      "INFO:tensorflow:DAGPipeline_PerformanceExtractor_test_inputs_performances_discarded_more_than_1_program: 0\n",
      "INFO:tensorflow:DAGPipeline_PerformanceExtractor_test_inputs_performances_discarded_too_short: 0\n",
      "INFO:tensorflow:DAGPipeline_PerformanceExtractor_test_inputs_performances_truncated: 0\n",
      "INFO:tensorflow:DAGPipeline_PerformanceExtractor_test_inputs_performances_truncated_timewise: 0\n",
      "INFO:tensorflow:DAGPipeline_TransposerToCtest_inputs_transpositions_generated: 3400\n"
     ]
    }
   ],
   "source": [
    "data_processing.build_dataset(pipeline_config, pipeline_graph_def)"
   ]
  },
  {
   "cell_type": "markdown",
   "metadata": {},
   "source": [
    "# Build Vocabulary"
   ]
  },
  {
   "cell_type": "code",
   "execution_count": 90,
   "metadata": {},
   "outputs": [
    {
     "name": "stdout",
     "output_type": "stream",
     "text": [
      "INFO: Vocabulary built.\n",
      "INFO: Tokens collected {'OFF75', 'OFF25', 'ON8', 'ON78', 'OFF96', 'ON113', 'OFF81', 'OFF90', 'ON50', 'SHIFT15', 'ON115', 'OFF69', 'OFF34', 'ON30', 'ON109', 'ON46', 'ON122', 'OFF8', 'OFF122', 'OFF78', 'ON42', 'OFF35', 'ON2', 'OFF105', 'ON75', 'OFF64', 'ON59', 'SHIFT0', 'OFF15', 'OFF100', 'OFF111', 'OFF63', 'OFF57', 'ON117', 'OFF9', 'ON62', 'ON118', 'OFF59', 'OFF124', 'OFF77', 'ON32', 'ON25', 'ON27', 'OFF11', 'OFF27', 'OFF102', 'ON125', 'ON83', 'OFF14', 'ON85', 'ON19', 'ON99', 'ON39', 'OFF18', 'OFF113', 'OFF1', 'ON64', 'ON93', 'ON80', 'OFF40', 'ON108', 'OFF85', 'OFF0', 'ON34', 'OFF41', 'SHIFT14', 'ON45', 'ON88', 'ON91', 'ON100', 'ON84', 'ON7', 'OFF66', 'OFF68', 'OFF87', 'OFF94', 'ON101', 'OFF55', 'OFF97', 'ON9', 'OFF103', 'OFF80', 'OFF98', 'ON82', 'OFF118', 'OFF61', 'ON55', 'OFF44', 'OFF2', 'ON24', 'OFF3', 'ON56', 'OFF60', 'ON4', 'OFF114', 'ON72', 'SHIFT2', 'SHIFT8', 'OFF49', 'SHIFT1', 'OFF70', 'ON35', 'ON89', 'OFF6', 'OFF33', 'OFF42', 'OFF108', 'ON21', 'OFF67', 'SHIFT11', 'OFF45', 'OFF58', 'ON23', 'ON70', 'ON111', 'OFF22', 'ON96', 'ON102', 'ON22', 'OFF46', 'OFF62', 'ON123', 'ON119', 'ON3', 'ON51', 'OFF65', 'ON126', 'OFF43', 'ON13', 'OFF12', 'ON127', 'OFF123', 'ON5', 'SHIFT9', 'ON63', 'OFF71', 'OFF4', 'OFF10', 'ON54', 'OFF99', 'OFF13', 'ON48', 'ON90', 'ON41', 'ON44', 'ON94', 'ON106', 'ON69', 'ON124', 'OFF24', 'OFF53', 'OFF88', 'ON36', 'OFF23', 'ON47', 'OFF76', 'OFF117', 'OFF56', 'SHIFT5', 'ON58', 'OFF89', 'OFF7', 'OFF110', 'OFF21', 'ON73', 'OFF74', 'ON52', 'OFF54', 'OFF20', 'OFF26', 'OFF84', 'ON26', 'ON1', 'SHIFT6', 'OFF115', 'OFF92', 'SHIFT16', 'OFF38', 'ON31', 'SHIFT7', 'ON40', 'OFF17', 'ON61', 'ON38', 'ON86', 'OFF120', 'ON67', 'OFF50', 'OFF28', 'OFF52', 'ON95', 'OFF72', 'ON87', 'OFF101', 'ON98', 'OFF104', 'ON110', 'ON81', 'OFF119', 'ON29', 'OFF86', 'ON107', 'SHIFT10', 'SHIFT12', 'OFF32', 'OFF82', 'ON71', 'OFF48', 'OFF51', 'OFF19', 'ON68', 'ON15', 'OFF39', 'OFF47', 'OFF121', 'ON79', 'OFF109', 'OFF83', 'ON66', 'OFF36', 'OFF125', 'ON92', 'OFF91', 'OFF5', 'SHIFT4', 'ON121', 'OFF95', 'OFF127', 'ON18', 'OFF79', 'ON37', 'OFF107', 'SHIFT3', 'ON12', 'ON105', 'ON6', 'ON116', 'OFF37', 'ON0', 'ON112', 'OFF106', 'ON76', 'ON74', 'SHIFT13', 'OFF30', 'ON104', 'OFF73', 'OFF112', 'ON17', 'OFF29', 'ON65', 'ON53', 'OFF93', 'ON16', 'OFF31', 'OFF16', 'OFF116', 'ON11', 'ON20', 'ON60', 'ON28', 'ON14', 'ON33', 'ON10', 'ON49', 'ON57', 'ON97', 'ON103', 'ON77', 'ON120', 'ON114', 'OFF126', 'ON43'}\n"
     ]
    }
   ],
   "source": [
    "# Uncomment if you use metadata\n",
    "# data_processing.build_vocab(pipeline_config,\n",
    "#                             source_vocab_from=['train_inputs.txt', 'train_targets.txt'])\n",
    "data_processing.build_vocab(pipeline_config)"
   ]
  },
  {
   "cell_type": "markdown",
   "metadata": {},
   "source": [
    "# Remove Blank Lines synchronously in two files"
   ]
  },
  {
   "cell_type": "code",
   "execution_count": 93,
   "metadata": {},
   "outputs": [
    {
     "name": "stdout",
     "output_type": "stream",
     "text": [
      "INFO: 5166 corresponding matching empty lines found in eval.\n",
      "INFO: 84504 corresponding matching empty lines found in train.\n",
      "INFO: 4802 corresponding matching empty lines found in test.\n"
     ]
    }
   ],
   "source": [
    "for dataset_type in ['eval', 'train', 'test']:\n",
    "    inputs_file_name = dataset_type +'_inputs.txt'\n",
    "    targets_file_name = dataset_type + '_targets.txt'\n",
    "\n",
    "    inputs_path = os.path.join(pipeline_config['data_target_dir'], inputs_file_name)\n",
    "    targets_path = os.path.join(pipeline_config['data_target_dir'], targets_file_name)\n",
    "\n",
    "    with open(inputs_path, 'r') as i, open(targets_path, 'r') as t:\n",
    "        inputs = [l for l in i.readlines()]\n",
    "        targets = [l for l in t.readlines()]\n",
    "\n",
    "    assert len(inputs) == len(targets)\n",
    "\n",
    "    to_remove = []\n",
    "    for i in range(len(inputs)):\n",
    "        if inputs[i] == '\\n' and targets[i] == '\\n':\n",
    "            to_remove.append(i)\n",
    "\n",
    "    print('INFO: {} corresponding matching empty lines found in {}.'.format(len(to_remove), dataset_type))\n",
    "\n",
    "    # Write to disk\n",
    "    with open(os.path.join(pipeline_config['data_target_dir'], 'fixed', inputs_file_name), 'w') as f:\n",
    "        for i, line in enumerate(inputs):\n",
    "            if i not in to_remove:\n",
    "                f.write(line)\n",
    "    \n",
    "    with open(os.path.join(pipeline_config['data_target_dir'], 'fixed', targets_file_name), 'w') as f:\n",
    "        for i, line in enumerate(targets):\n",
    "            if i not in to_remove:\n",
    "                f.write(line)"
   ]
  },
  {
   "cell_type": "code",
   "execution_count": 82,
   "metadata": {},
   "outputs": [],
   "source": []
  },
  {
   "cell_type": "code",
   "execution_count": null,
   "metadata": {},
   "outputs": [],
   "source": []
  }
 ],
 "metadata": {
  "kernelspec": {
   "display_name": "Python 3",
   "language": "python",
   "name": "python3"
  },
  "language_info": {
   "codemirror_mode": {
    "name": "ipython",
    "version": 3
   },
   "file_extension": ".py",
   "mimetype": "text/x-python",
   "name": "python",
   "nbconvert_exporter": "python",
   "pygments_lexer": "ipython3",
   "version": "3.6.3"
  }
 },
 "nbformat": 4,
 "nbformat_minor": 2
}
