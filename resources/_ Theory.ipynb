{
 "cells": [
  {
   "cell_type": "markdown",
   "metadata": {},
   "source": [
    "## Architecture\n",
    "\n",
    "* [Adding Features To Time Series Model LSTM](https://datascience.stackexchange.com/questions/17099/adding-features-to-time-series-model-lstm)\n",
    "* [OpenNMT Documentation](http://opennmt.net/OpenNMT/training/models/#googles-nmt-encoder)"
   ]
  },
  {
   "cell_type": "markdown",
   "metadata": {},
   "source": [
    "## Optimization\n",
    "\n",
    "* [Adam Optimization](https://machinelearningmastery.com/adam-optimization-algorithm-for-deep-learning/)\n",
    "    * further reading\n",
    "    * suggested parameter values\n",
    "    "
   ]
  },
  {
   "cell_type": "markdown",
   "metadata": {},
   "source": [
    "## Score"
   ]
  },
  {
   "cell_type": "markdown",
   "metadata": {},
   "source": [
    "* [BLEU vs Rouge | StackOverflow](https://stackoverflow.com/questions/38045290/text-summarization-evaluation-bleu-vs-rouge)\n",
    "* [What Is ROUGE And How It Works For Evaluation Of Summarization Tasks?](http://rxnlp.com/how-rouge-works-for-evaluation-of-summarization-tasks/)\n",
    "* [Algorithm to get the Scale and Key of a song from a series of notes | StackOverflow](https://stackoverflow.com/questions/14734644/is-there-an-algorithm-to-get-the-scale-and-key-of-a-song-from-a-series-of-notes)\n",
    "* [Pattern Finding algorithm for melodic similarity](https://github.com/ELVIS-Project/PatternFinder)\n",
    "* [Interpreting ROUGE scores](https://stats.stackexchange.com/questions/301626/interpreting-rouge-scores/312354#312354)"
   ]
  },
  {
   "cell_type": "raw",
   "metadata": {},
   "source": [
    "{1} Lin, Chin-Yew. \"Rouge: A package for automatic evaluation of summaries.\" In Text summarization branches out: Proceedings of the ACL-04 workshop, vol. 8. 2004. https://scholar.google.com/scholar?cluster=2397172516759442154&hl=en&as_sdt=0,5 ; http://anthology.aclweb.org/W/W04/W04-1013.pdf <-- The original ROUGE implementation from the paper that introduced ROUGE\n",
    "\n",
    "{2} Callison-Burch, Chris, Miles Osborne, and Philipp Koehn. \"Re-evaluation the Role of Bleu in Machine Translation Research.\" In EACL, vol. 6, pp. 249-256. 2006. https://scholar.google.com/scholar?cluster=8900239586727494087&hl=en&as_sdt=0,5\n",
    "\n",
    "{3} BLEU: a Method for Automatic Evaluation of Machine Translation https://www.aclweb.org/anthology/P02-1040.pdf"
   ]
  },
  {
   "cell_type": "code",
   "execution_count": null,
   "metadata": {},
   "outputs": [],
   "source": []
  }
 ],
 "metadata": {
  "kernelspec": {
   "display_name": "Python 3",
   "language": "python",
   "name": "python3"
  },
  "language_info": {
   "codemirror_mode": {
    "name": "ipython",
    "version": 3
   },
   "file_extension": ".py",
   "mimetype": "text/x-python",
   "name": "python",
   "nbconvert_exporter": "python",
   "pygments_lexer": "ipython3",
   "version": "3.6.3"
  }
 },
 "nbformat": 4,
 "nbformat_minor": 2
}
