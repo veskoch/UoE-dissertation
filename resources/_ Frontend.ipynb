{
 "cells": [
  {
   "cell_type": "markdown",
   "metadata": {},
   "source": [
    "* https://magenta.tensorflow.org/performance-rnn-browser\n",
    "* https://experiments.withgoogle.com/ai/ai-duet/view/"
   ]
  },
  {
   "cell_type": "markdown",
   "metadata": {},
   "source": [
    "* [Tutorial. How to create a MIDI synthesizer with MIDI API and Node JS | Medium](https://medium.com/nebo-15/tutorial-how-to-create-midi-synthesizer-with-midi-api-and-node-js-48d41c162009)\n",
    "    * [GitHub](https://github.com/alexeybondarenko/midi-api)\n",
    "* [TensorFlow: How to freeze a model and serve it with a python API with Flask](https://blog.metaflow.fr/tensorflow-how-to-freeze-a-model-and-serve-it-with-a-python-api-d4f3596b3adc)\n",
    "* [\n",
    "Serving a TensorFlow Mode](https://www.tensorflow.org/serving/serving_basic#train_and_export_tensorflow_model)"
   ]
  },
  {
   "cell_type": "code",
   "execution_count": null,
   "metadata": {},
   "outputs": [],
   "source": []
  }
 ],
 "metadata": {
  "kernelspec": {
   "display_name": "Python 3",
   "language": "python",
   "name": "python3"
  },
  "language_info": {
   "codemirror_mode": {
    "name": "ipython",
    "version": 3
   },
   "file_extension": ".py",
   "mimetype": "text/x-python",
   "name": "python",
   "nbconvert_exporter": "python",
   "pygments_lexer": "ipython3",
   "version": "3.6.3"
  }
 },
 "nbformat": 4,
 "nbformat_minor": 2
}
