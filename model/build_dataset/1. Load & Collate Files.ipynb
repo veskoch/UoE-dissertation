{
 "cells": [
  {
   "cell_type": "markdown",
   "metadata": {},
   "source": [
    "This notebook will help you manage your dataset folder and convert the source `.xml` files to NoteSequence protos for further processing."
   ]
  },
  {
   "cell_type": "markdown",
   "metadata": {},
   "source": [
    "**INSTRUCTIONS**\n",
    "\n",
    "* Put all song `.xml` files in a single folder.\n",
    "    * Each song must have at least two peforming levels of difficulty.\n",
    "    * Files must follow the naming convention:\n",
    "    \n",
    "    `[Song Name]_[Performance Level]-[Song Segment]-[Hand].xml`\n",
    "        * Song Name uses only `A-Z`, `a-z` and `0-9`, no spaces or any other characters. This is a unique identifier, so make sure it is unique and it is spelled exactly the same in each file.\n",
    "        * Performance Level is one of `['_beg', '_int', '_adv']`.\n",
    "        * Song Segment is a unique string for given a Song Name and a Performance Level. Song Segments must match exactly across the Performance Levels of a song.\n",
    "        * Hand is one of `['lh', 'rh', 'bh']`.\n",
    "* `SourceFolderManager` can do the following for you: \n",
    "    * Traverse your chosen directory for `.xml` files, and build an index classifying the type of musical compositions which each `.xml` file holds.\n",
    "    * Collate files into `source -> target` pairs according to a set of criteria to your preference. This is done using the previously built index, so if anything changes in the meantime, rebuild the index.\n",
    "    * Convert the collated pairs (which are stored as `.xml` file paths) to NoteSequence protos, serialize and save them as `.tfrecord` files in a directory of your choice.\n",
    "\n",
    "The four cells below are all you need to execute to get started. See the comments in `preprocess.py` for insight what happens backstage."
   ]
  },
  {
   "cell_type": "markdown",
   "metadata": {},
   "source": [
    "**DEPENDENCIES**"
   ]
  },
  {
   "cell_type": "code",
   "execution_count": 4,
   "metadata": {},
   "outputs": [
    {
     "data": {
      "text/plain": [
       "<module 'data_load' from '/Users/vesko/GitHub/UoE-dissertation/arranger_model/build_dataset/data_load.py'>"
      ]
     },
     "execution_count": 4,
     "metadata": {},
     "output_type": "execute_result"
    }
   ],
   "source": [
    "import data_load\n",
    "import os\n",
    "\n",
    "import importlib\n",
    "importlib.reload(data_load)"
   ]
  },
  {
   "cell_type": "markdown",
   "metadata": {},
   "source": [
    "**PARAMETERS**"
   ]
  },
  {
   "cell_type": "code",
   "execution_count": 9,
   "metadata": {},
   "outputs": [],
   "source": [
    "load_config = dict()\n",
    "\n",
    "load_config['source_xml_dir'] = \"../assets/data/raw/\"\n",
    "load_config['out_collated_dir'] = \"../assets/data/collated/_stats/\"\n",
    "\n",
    "load_config['ext_meta'] = \"../assets/data/raw/_songs_metadata.csv\""
   ]
  },
  {
   "cell_type": "code",
   "execution_count": 10,
   "metadata": {},
   "outputs": [],
   "source": [
    "load_config['genres'] = ['Pop', 'Rock', 'Film', 'Religious', \n",
    "                         'Traditional', 'Musical', 'Country', 'Contemporary Piano']\n",
    "\n",
    "load_config['test_set'] = ['myfavoritethings', 'Something', 'WhereEverybodyKnowsYourName',\n",
    "                           'girlcrush', 'ImagineMe', 'withorwithoutyou', 'cantstopthefeeling', \n",
    "                           'SmellsLikeTeenSpirit', 'Itookapillinibiza', 'wethreekings', \n",
    "                           'whereareyouchristmas', 'AllThingsAreWorking', 'LikeImGonnaLoseYou', \n",
    "                           'RememberMe','letmeloveyou', 'WalkingInMemphis', 'WishYouWereHere', \n",
    "                           'neversaynever', 'WerewolvesOfLondon', 'RightHereWaiting']\n",
    "\n",
    "load_config['eval_set'] = ['yellow', 'whowantstoliveforever', 'Angie', 'aintNoSunshine',\n",
    "                           'everytimeyougoaway', 'MaybeImAmazed', 'Levon', 'AnotherDayInParadise', \n",
    "                           'AllOutOfLove', 'sweetemotion', 'circleoflife', 'CheapThrills', \n",
    "                           'californication', 'ochristmastree', 'aslongasyouremine', \n",
    "                           'ValseAmelie', 'sevenyears', 'BennieandtheJets', 'thecircleoflife',\n",
    "                           'partofyourworld']"
   ]
  },
  {
   "cell_type": "markdown",
   "metadata": {},
   "source": [
    "# Collate Files"
   ]
  },
  {
   "cell_type": "code",
   "execution_count": 11,
   "metadata": {},
   "outputs": [],
   "source": [
    "manager = data_load.SourceFolderManager()\n",
    "manager.build_index(src_folder = load_config['source_xml_dir'],\n",
    "                    ext_meta = load_config['ext_meta'])"
   ]
  },
  {
   "cell_type": "code",
   "execution_count": 12,
   "metadata": {},
   "outputs": [],
   "source": [
    "manager.files_index.to_csv(os.path.join(load_config['out_collated_dir'], 'filex_index.csv'))"
   ]
  },
  {
   "cell_type": "code",
   "execution_count": 30,
   "metadata": {},
   "outputs": [
    {
     "name": "stdout",
     "output_type": "stream",
     "text": [
      "\n",
      "INFO: Successfully collated Train: 1087 pairs from 152 unique songs.\n",
      "INFO: Successfully collated Eval: 156 pairs from 20 unique songs.\n",
      "INFO: Successfully collated Test: 157 pairs from 20 unique songs.\n",
      "\n",
      "Count of pairs by level:\n",
      "{'train': Counter({('beg', 'int'): 1087}), 'eval': Counter({('beg', 'int'): 156}), 'test': Counter({('beg', 'int'): 157})}\n",
      "\n",
      "Count of pairs by segment type:\n",
      "{'train': Counter({'chorus1': 142, 'chorus2': 136, 'verse2': 117, 'verse1': 116, 'intro': 100, 'chorus3': 97, 'bridge': 60, 'verse3': 50, 'prechorus1': 44, 'outro': 41, 'prechorus2': 40, 'chorus4': 17, 'postchorus1': 17, 'instrumental': 17, 'verse4': 16, 'bridge1': 13, 'bridge2': 12, 'postchorus2': 9, 'prechorus3': 8, 'verse5': 4, 'chorus5': 4, 'section1': 3, 'section2': 3, 'section3': 3, 'section4': 3, 'postchorus3': 2, 'verse6': 2, 'chorus6': 2, 'bridge3': 2, 'section5': 2, 'intro1': 1, 'intro2': 1, 'instrumental2': 1, 'rap': 1, 'section6': 1}), 'eval': Counter({'chorus1': 19, 'chorus2': 18, 'verse1': 16, 'verse2': 15, 'intro': 14, 'chorus3': 13, 'outro': 7, 'verse3': 6, 'bridge': 5, 'prechorus1': 5, 'prechorus2': 5, 'postchorus1': 4, 'postchorus2': 3, 'chorus4': 3, 'verse4': 2, 'instrumental1': 2, 'bridge1': 1, 'bridge2': 1, 'instrumental': 1, 'instrumental2': 1, 'verse5': 1, 'postchorus3': 1, 'section1': 1, 'section10': 1, 'section11': 1, 'section12': 1, 'section13': 1, 'section2': 1, 'section3': 1, 'section4': 1, 'section5': 1, 'section6': 1, 'section7': 1, 'section8': 1, 'section9': 1}), 'test': Counter({'chorus1': 19, 'chorus2': 18, 'verse1': 16, 'verse2': 16, 'chorus3': 15, 'intro': 13, 'prechorus1': 10, 'prechorus2': 10, 'bridge': 7, 'instrumental': 7, 'verse3': 6, 'outro': 4, 'prechorus3': 3, 'verse4': 3, 'bridge1': 2, 'bridge2': 2, 'postchorus1': 1, 'postchorus2': 1, 'bridge3': 1, 'outro1': 1, 'outro2': 1, 'chorus4': 1})}\n",
      "\n",
      "Count of pairs by song:\n",
      "{'train': Counter({'brick': 13, 'lostboy': 12, 'Sangria': 12, 'NuvoleBianche': 12, 'ComeSailAway': 11, 'tearsinheaven': 11, 'treatyoubetter': 11, 'KissFromARose': 11, 'seeyouagain': 11, 'morethanafeeling': 11, 'TheWeight': 11, 'lovemelikeyoudo': 10, 'LoveSong': 10, 'BestThingINeverHad': 10, 'wildestdreams': 10, 'HOLY': 10, 'Ghostbusters': 10, 'badday': 10, 'NewRules': 10, 'exsandohs': 10, 'sugar': 10, 'ThisIsMe': 10, 'somenights': 10, 'ItsTooLate': 10, 'LivingOnAPrayer': 10, 'RiseUp': 9, 'RockWithYou': 9, 'NeverBeTheSame': 9, 'HereAndNow': 9, 'MuyDentroDeMi': 9, 'thinkofme': 9, 'BodyandSoul': 9, 'CastleOnTheHill': 9, 'Delicate': 9, 'workfromhome': 9, 'TimeAfterTime': 9, 'jump': 9, 'YoungandBeautiful': 9, 'lifeisahighway': 9, 'marriedlife': 9, 'primavera': 9, 'openarms': 9, 'SomewhereOnlyWeKnow': 9, 'illshowyou': 9, 'ComoLaFlor': 9, 'AlltheStars': 9, 'thisiswhatyoucamefor': 9, 'Bailando': 9, 'HouseOfTheRisingSun': 9, 'Changes': 8, 'Linger': 8, 'everythingido': 8, 'Mercy': 8, 'NovemberRain': 8, 'BackAtOne': 8, 'demons': 8, 'Creep': 8, 'storyofmylife': 8, 'Easy': 8, 'SaySomething': 8, 'ItsTime': 8, 'Happy': 8, 'EndlessLove': 8, 'sendmylove': 8, 'Diamonds': 8, 'EyeOfTheTiger': 8, 'sheusedtobemine': 8, 'DanceWithMyFather': 8, 'IBelieveICanFly': 8, 'Wonderwall': 8, 'LadyMadonna': 8, 'faded': 8, 'BodyLikeABackRoad': 8, 'throughtheyears': 8, 'sweetchildomine': 8, 'threetimesalady': 8, 'yourbodyisawonderland': 8, 'GreenOnions': 8, 'Radioactive': 7, 'wonderfultonight': 7, 'BacktoBlack': 7, 'fixyou': 7, 'TheWayWeWere': 7, 'Thunder': 7, 'shakeitout': 7, 'Jolene': 7, 'HowFarIllGo': 7, 'GreatBallsOfFire': 7, 'AgainstAllOdds': 7, 'allthesmallthings': 7, 'WakeMeUp': 7, 'ihateuiloveu': 7, 'CandleIntheWind': 7, 'takemehome': 7, 'MayBe': 6, 'SavingAllMyLoveForYou': 6, 'themostwonderfultime': 6, 'chariotsoffire': 6, 'frostythesnowman': 6, 'canthelpfallinginlove': 6, 'hesapirate': 6, 'sexonfire': 6, 'DancingQueen': 6, 'loveyourself': 6, 'MyTribute': 6, 'ChasingCars': 6, 'style': 6, 'LaBamba': 6, 'wonderfulworld': 5, 'raidersMarch': 5, 'silverbells': 5, 'letitsnow': 5, 'edelweiss': 5, 'jurassicpark': 5, 'midnightrider': 5, 'ophelia': 5, 'freefallin': 5, 'awholenewworld': 5, 'TimeToSayGoodbye': 5, 'KnockinOnHeavensDoor': 5, 'comptine': 5, 'AnotherOneBitesTheDust': 5, 'AllMyLoving': 5, 'youraisemeup': 5, 'youaresobeautiful': 5, 'TheAvengers': 5, 'OnlyYouAreHoly': 5, 'gameofthrones': 4, 'brothers': 4, 'hero': 4, 'UnchainedMelody': 4, 'somewhereinmymemory': 4, 'onlytime': 4, 'Somewhere': 4, 'happyxmas': 4, 'iwontgiveup': 4, 'dontyouforgetaboutme': 4, 'pinkpanther': 3, 'thechristmassong': 3, 'TaleAsOldAsTime': 3, 'happybirthdaytoyou': 3, 'herecomessantaclaus': 3, 'istillhaventfound': 3, 'humbleandkind': 3, 'dingdongmerrily': 3, 'twinklelittlestar': 3, 'thegambler': 3, 'photograph': 3, 'home': 3, 'harktheherald': 2, 'forrestgump': 2, 'startrekTNG': 2}), 'eval': Counter({'sevenyears': 14, 'AnotherDayInParadise': 11, 'CheapThrills': 10, 'californication': 10, 'Angie': 10, 'partofyourworld': 9, 'BennieandtheJets': 9, 'yellow': 9, 'Levon': 8, 'MaybeImAmazed': 8, 'sweetemotion': 8, 'AllOutOfLove': 7, 'thecircleoflife': 6, 'aslongasyouremine': 6, 'circleoflife': 6, 'everytimeyougoaway': 6, 'whowantstoliveforever': 6, 'ValseAmelie': 5, 'aintNoSunshine': 4, 'ochristmastree': 4}), 'test': Counter({'RightHereWaiting': 12, 'cantstopthefeeling': 12, 'letmeloveyou': 11, 'SmellsLikeTeenSpirit': 11, 'Itookapillinibiza': 10, 'ImagineMe': 10, 'WalkingInMemphis': 9, 'AllThingsAreWorking': 9, 'WerewolvesOfLondon': 9, 'withorwithoutyou': 9, 'LikeImGonnaLoseYou': 8, 'neversaynever': 7, 'WishYouWereHere': 7, 'wethreekings': 6, 'Something': 5, 'WhereEverybodyKnowsYourName': 5, 'girlcrush': 5, 'whereareyouchristmas': 4, 'myfavoritethings': 4, 'RememberMe': 4})}\n"
     ]
    }
   ],
   "source": [
    "manager.collate(hand=('rh', 'rh'),\n",
    "                level=[('beg', 'int')],\n",
    "                DoubleNoteVal=False,\n",
    "                WholeSong=False,\n",
    "                eval_set=load_config['eval_set'],\n",
    "                test_set=load_config['test_set'])"
   ]
  },
  {
   "cell_type": "code",
   "execution_count": 14,
   "metadata": {},
   "outputs": [
    {
     "name": "stdout",
     "output_type": "stream",
     "text": [
      "INFO: Saved ../assets/data/collated/_stats/train_inputs.tfrecord.\n",
      "INFO: Saved ../assets/data/collated/_stats/train_targets.tfrecord.\n",
      "INFO: Saved ../assets/data/collated/_stats/eval_inputs.tfrecord.\n",
      "INFO: Saved ../assets/data/collated/_stats/eval_targets.tfrecord.\n",
      "INFO: Saved ../assets/data/collated/_stats/test_inputs.tfrecord.\n",
      "INFO: Saved ../assets/data/collated/_stats/test_targets.tfrecord.\n"
     ]
    }
   ],
   "source": [
    "manager.serialize_collated(load_config['out_collated_dir']) # .xml files --> Protocol buffers in TensorFlow Record containers"
   ]
  },
  {
   "cell_type": "markdown",
   "metadata": {},
   "source": [
    "## Quick & Dirty Fix\n",
    "\n",
    "Update all `NoteSequence` in `.tfrecords` to show the key from the metadata `.csv` file. Make sure to first create a directory called `fixed`."
   ]
  },
  {
   "cell_type": "code",
   "execution_count": 15,
   "metadata": {},
   "outputs": [
    {
     "name": "stdout",
     "output_type": "stream",
     "text": [
      "INFO: Successfully updated train_inputs.tfrecord to match the tonal keys from songs_metadata.csv.\n",
      "INFO: Successfully updated train_targets.tfrecord to match the tonal keys from songs_metadata.csv.\n",
      "INFO: Successfully updated eval_targets.tfrecord to match the tonal keys from songs_metadata.csv.\n",
      "INFO: Successfully updated eval_inputs.tfrecord to match the tonal keys from songs_metadata.csv.\n",
      "INFO: Successfully updated test_targets.tfrecord to match the tonal keys from songs_metadata.csv.\n",
      "INFO: Successfully updated test_inputs.tfrecord to match the tonal keys from songs_metadata.csv.\n"
     ]
    }
   ],
   "source": [
    "from magenta.music import note_sequence_io\n",
    "\n",
    "# Iterate over .tfrecord files in a dir\n",
    "for src_file in os.listdir(load_config['out_collated_dir']):\n",
    "    if src_file.endswith('.tfrecord'):\n",
    "        src_file_path = os.path.join(load_config['out_collated_dir'], src_file)\n",
    "        target_path = os.path.join(load_config['out_collated_dir'], 'fixed', src_file)\n",
    "        \n",
    "        with note_sequence_io.NoteSequenceRecordWriter(target_path) as inputs_writer:\n",
    "        \n",
    "            # Iterate over the records in the .tfrecord file\n",
    "            for record in note_sequence_io.note_sequence_record_iterator(src_file_path):\n",
    "\n",
    "                key = int(manager.files_index.loc[record.id]['key_mag'])\n",
    "                record.key_signatures[0].key = key\n",
    "            \n",
    "                inputs_writer.write(record)\n",
    "                \n",
    "        print('INFO: Successfully updated {} to match the tonal keys from songs_metadata.csv.'.format(src_file))"
   ]
  },
  {
   "cell_type": "code",
   "execution_count": null,
   "metadata": {},
   "outputs": [],
   "source": [
    "TFRECORD_FILE = './data/collated/B/eval_targets.tfrecord'\n",
    "\n",
    "note_seqs = []\n",
    "for record in note_sequence_io.note_sequence_record_iterator(TFRECORD_FILE):\n",
    "    note_seqs.append(record)\n",
    "\n",
    "print(note_seqs[0].key_signatures[0].key)\n",
    "note_seqs[0].total_time\n",
    "note_seqs[0]"
   ]
  },
  {
   "cell_type": "markdown",
   "metadata": {},
   "source": [
    "#### Test if working as expected"
   ]
  },
  {
   "cell_type": "raw",
   "metadata": {},
   "source": [
    "TFRECORD_FILE = './data/collated/B/eval_targets.tfrecord'\n",
    "\n",
    "note_seqs = []\n",
    "for record in note_sequence_io.note_sequence_record_iterator(TFRECORD_FILE):\n",
    "    note_seqs.append(record)\n",
    "\n",
    "print(note_seqs[0].key_signatures[0].key)\n",
    "note_seqs[0].total_time\n",
    "note_seqs[0]"
   ]
  },
  {
   "cell_type": "markdown",
   "metadata": {},
   "source": [
    "### Debugging"
   ]
  },
  {
   "cell_type": "raw",
   "metadata": {},
   "source": [
    "# Hint: To take a peek at the files index, run `manager.files_index`\n",
    "#\n",
    "# Hint 2: Access the collated list with `manager.collated_index`\n",
    "#\n",
    "# Hint 3: You can slice the dataframe like this:\n",
    "# manager.files_index.loc[(manager.files_index['segment'] == 'wholeSong') \n",
    "#                       & (manager.files_index['hand'] == 'bh')]\n",
    "#\n",
    "# Hint 4: manager.files_index.to_csv('files_index.csv')"
   ]
  }
 ],
 "metadata": {
  "kernelspec": {
   "display_name": "Python 3",
   "language": "python",
   "name": "python3"
  },
  "language_info": {
   "codemirror_mode": {
    "name": "ipython",
    "version": 3
   },
   "file_extension": ".py",
   "mimetype": "text/x-python",
   "name": "python",
   "nbconvert_exporter": "python",
   "pygments_lexer": "ipython3",
   "version": "3.6.3"
  }
 },
 "nbformat": 4,
 "nbformat_minor": 2
}
