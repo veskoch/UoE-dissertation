{
 "cells": [
  {
   "cell_type": "markdown",
   "metadata": {},
   "source": [
    "This notebook will help you manage your dataset folder and convert the source `.xml` files to NoteSequence protos for further processing."
   ]
  },
  {
   "cell_type": "markdown",
   "metadata": {},
   "source": [
    "**INSTRUCTIONS**\n",
    "\n",
    "* Put all song `.xml` files in a single folder.\n",
    "    * Each song must have at least two peforming levels of difficulty.\n",
    "    * Files must follow the naming convention:\n",
    "    \n",
    "    `[Song Name]_[Performance Level]-[Song Segment]-[Hand].xml`\n",
    "        * Song Name uses only `A-Z`, `a-z` and `0-9`, no spaces or any other characters. This is a unique identifier, so make sure it is unique and it is spelled exactly the same in each file.\n",
    "        * Performance Level is one of `['_beg', '_int', '_adv']`.\n",
    "        * Song Segment is a unique string for given a Song Name and a Performance Level. Song Segments must match exactly across the Performance Levels of a song.\n",
    "        * Hand is one of `['lh', 'rh', 'bh']`.\n",
    "* `SourceFolderManager` can do the following for you: \n",
    "    * Traverse your chosen directory for `.xml` files, and build an index classifying the type of musical compositions which each `.xml` file holds.\n",
    "    * Collate files into `source -> target` pairs according to a set of criteria to your preference. This is done using the previously built index, so if anything changes in the meantime, rebuild the index.\n",
    "    * Convert the collated pairs (which are stored as `.xml` file paths) to NoteSequence protos, serialize and save them as `.tfrecord` files in a directory of your choice.\n",
    "\n",
    "The four cells below are all you need to execute to get started. See the comments in `preprocess.py` for insight what happens backstage."
   ]
  },
  {
   "cell_type": "markdown",
   "metadata": {},
   "source": [
    "**DEPENDENCIES**"
   ]
  },
  {
   "cell_type": "code",
   "execution_count": 27,
   "metadata": {},
   "outputs": [
    {
     "data": {
      "text/plain": [
       "<module 'data_load' from '/Users/vesko/GitHub/UoE-dissertation/model/build_dataset/data_load.py'>"
      ]
     },
     "execution_count": 27,
     "metadata": {},
     "output_type": "execute_result"
    }
   ],
   "source": [
    "import data_load\n",
    "import os\n",
    "\n",
    "import importlib\n",
    "importlib.reload(data_load)"
   ]
  },
  {
   "cell_type": "markdown",
   "metadata": {},
   "source": [
    "**PARAMETERS**"
   ]
  },
  {
   "cell_type": "code",
   "execution_count": 28,
   "metadata": {},
   "outputs": [],
   "source": [
    "load_config = dict()\n",
    "\n",
    "load_config['source_xml_dir'] = \"../assets/data/raw/\"\n",
    "load_config['out_collated_dir'] = \"../assets/data/collated/M/\"\n",
    "\n",
    "load_config['ext_meta'] = \"../assets/data/raw/_songs_metadata.csv\""
   ]
  },
  {
   "cell_type": "code",
   "execution_count": 29,
   "metadata": {},
   "outputs": [],
   "source": [
    "load_config['genres'] = ['Pop', 'Rock', 'Film', 'Religious', \n",
    "                         'Traditional', 'Musical', 'Country', 'Contemporary Piano']\n",
    "\n",
    "load_config['test_set'] = ['myfavoritethings', 'Something', 'WhereEverybodyKnowsYourName',\n",
    "                           'girlcrush', 'ImagineMe', 'withorwithoutyou', 'cantstopthefeeling', \n",
    "                           'SmellsLikeTeenSpirit', 'Itookapillinibiza', 'wethreekings', \n",
    "                           'whereareyouchristmas', 'AllThingsAreWorking', 'LikeImGonnaLoseYou', \n",
    "                           'RememberMe','letmeloveyou', 'WalkingInMemphis', 'WishYouWereHere', \n",
    "                           'neversaynever', 'WerewolvesOfLondon', 'RightHereWaiting']\n",
    "\n",
    "load_config['eval_set'] = ['yellow', 'whowantstoliveforever', 'Angie', 'aintNoSunshine',\n",
    "                           'everytimeyougoaway', 'MaybeImAmazed', 'Levon', 'AnotherDayInParadise', \n",
    "                           'AllOutOfLove', 'sweetemotion', 'circleoflife', 'CheapThrills', \n",
    "                           'californication', 'ochristmastree', 'aslongasyouremine', \n",
    "                           'ValseAmelie', 'sevenyears', 'BennieandtheJets', 'thecircleoflife',\n",
    "                           'partofyourworld']"
   ]
  },
  {
   "cell_type": "markdown",
   "metadata": {},
   "source": [
    "# Collate Files"
   ]
  },
  {
   "cell_type": "code",
   "execution_count": 30,
   "metadata": {},
   "outputs": [],
   "source": [
    "manager = data_load.SourceFolderManager()\n",
    "manager.build_index(src_folder = load_config['source_xml_dir'],\n",
    "                    ext_meta = load_config['ext_meta'])"
   ]
  },
  {
   "cell_type": "code",
   "execution_count": 35,
   "metadata": {},
   "outputs": [],
   "source": [
    "manager.files_index.to_csv(os.path.join(load_config['out_collated_dir'], 'filex_index.csv'))"
   ]
  },
  {
   "cell_type": "code",
   "execution_count": 31,
   "metadata": {},
   "outputs": [
    {
     "name": "stdout",
     "output_type": "stream",
     "text": [
      "\n",
      "INFO: Successfully collated Train: 4379 pairs from 154 unique songs.\n",
      "INFO: Successfully collated Eval: 612 pairs from 20 unique songs.\n",
      "INFO: Successfully collated Test: 593 pairs from 20 unique songs.\n",
      "\n",
      "Count of pairs by level:\n",
      "{'train': Counter({('int', 'int'): 1101, ('beg', 'int'): 1087, ('adv', 'adv'): 735, ('int', 'adv'): 735, ('beg', 'adv'): 721}), 'eval': Counter({('beg', 'int'): 156, ('int', 'int'): 156, ('adv', 'adv'): 100, ('int', 'adv'): 100, ('beg', 'adv'): 100}), 'test': Counter({('beg', 'int'): 157, ('int', 'int'): 157, ('adv', 'adv'): 93, ('int', 'adv'): 93, ('beg', 'adv'): 93})}\n",
      "\n",
      "Count of pairs by segment type:\n",
      "{'train': Counter({'chorus1': 566, 'chorus2': 545, 'verse2': 462, 'verse1': 460, 'intro': 428, 'chorus3': 374, 'bridge': 249, 'verse3': 199, 'outro': 178, 'prechorus1': 163, 'prechorus2': 149, 'instrumental': 73, 'chorus4': 70, 'postchorus1': 70, 'verse4': 68, 'bridge1': 53, 'bridge2': 48, 'postchorus2': 36, 'prechorus3': 25, 'verse5': 17, 'chorus5': 17, 'section1': 15, 'section2': 15, 'section3': 15, 'section4': 15, 'postchorus3': 10, 'chorus6': 10, 'bridge3': 10, 'section5': 10, 'verse6': 7, 'intro1': 5, 'intro2': 5, 'rap': 5, 'section6': 5, 'instrumental2': 2}), 'eval': Counter({'chorus1': 71, 'chorus2': 69, 'verse1': 62, 'intro': 58, 'verse2': 57, 'chorus3': 53, 'outro': 32, 'bridge': 22, 'verse3': 21, 'prechorus1': 16, 'prechorus2': 16, 'chorus4': 12, 'postchorus1': 11, 'instrumental1': 10, 'postchorus2': 9, 'verse4': 7, 'instrumental': 5, 'instrumental2': 5, 'verse5': 5, 'section1': 5, 'section10': 5, 'section11': 5, 'section12': 5, 'section13': 5, 'section2': 5, 'section3': 5, 'section4': 5, 'section5': 5, 'section6': 5, 'section7': 5, 'section8': 5, 'section9': 5, 'bridge1': 2, 'bridge2': 2, 'postchorus3': 2}), 'test': Counter({'chorus1': 71, 'chorus2': 69, 'verse1': 62, 'verse2': 62, 'chorus3': 54, 'intro': 53, 'instrumental': 35, 'prechorus1': 35, 'prechorus2': 35, 'bridge': 23, 'verse3': 21, 'outro': 17, 'prechorus3': 12, 'verse4': 9, 'bridge1': 7, 'bridge2': 7, 'outro1': 5, 'outro2': 5, 'chorus4': 5, 'postchorus1': 2, 'postchorus2': 2, 'bridge3': 2})}\n",
      "\n",
      "Count of pairs by song:\n",
      "{'train': Counter({'lostboy': 60, 'Sangria': 60, 'NuvoleBianche': 60, 'ComeSailAway': 55, 'tearsinheaven': 55, 'KissFromARose': 55, 'TheWeight': 55, 'lovemelikeyoudo': 50, 'LoveSong': 50, 'BestThingINeverHad': 50, 'wildestdreams': 50, 'Ghostbusters': 50, 'badday': 50, 'NewRules': 50, 'sugar': 50, 'ThisIsMe': 50, 'LivingOnAPrayer': 50, 'RiseUp': 45, 'RockWithYou': 45, 'NeverBeTheSame': 45, 'MuyDentroDeMi': 45, 'thinkofme': 45, 'BodyandSoul': 45, 'CastleOnTheHill': 45, 'Delicate': 45, 'workfromhome': 45, 'TimeAfterTime': 45, 'YoungandBeautiful': 45, 'marriedlife': 45, 'primavera': 45, 'openarms': 45, 'ComoLaFlor': 45, 'AlltheStars': 45, 'Bailando': 45, 'HouseOfTheRisingSun': 45, 'Changes': 40, 'everythingido': 40, 'Mercy': 40, 'NovemberRain': 40, 'BackAtOne': 40, 'Creep': 40, 'Easy': 40, 'SaySomething': 40, 'Happy': 40, 'EndlessLove': 40, 'Diamonds': 40, 'EyeOfTheTiger': 40, 'sheusedtobemine': 40, 'DanceWithMyFather': 40, 'Wonderwall': 40, 'LadyMadonna': 40, 'faded': 40, 'BodyLikeABackRoad': 40, 'sweetchildomine': 40, 'GreenOnions': 40, 'BacktoBlack': 35, 'TheWayWeWere': 35, 'Thunder': 35, 'Jolene': 35, 'HowFarIllGo': 35, 'GreatBallsOfFire': 35, 'AgainstAllOdds': 35, 'WakeMeUp': 35, 'MayBe': 30, 'SavingAllMyLoveForYou': 30, 'chariotsoffire': 30, 'frostythesnowman': 30, 'hesapirate': 30, 'DancingQueen': 30, 'MyTribute': 30, 'ChasingCars': 30, 'LaBamba': 30, 'brick': 26, 'wonderfulworld': 25, 'raidersMarch': 25, 'edelweiss': 25, 'jurassicpark': 25, 'midnightrider': 25, 'awholenewworld': 25, 'TimeToSayGoodbye': 25, 'KnockinOnHeavensDoor': 25, 'comptine': 25, 'AllMyLoving': 25, 'youraisemeup': 25, 'TheAvengers': 25, 'OnlyYouAreHoly': 25, 'YoureMyBestFriend': 24, 'treatyoubetter': 22, 'seeyouagain': 22, 'morethanafeeling': 22, 'gameofthrones': 20, 'HOLY': 20, 'exsandohs': 20, 'somenights': 20, 'UnchainedMelody': 20, 'ItsTooLate': 20, 'somewhereinmymemory': 20, 'onlytime': 20, 'Somewhere': 20, 'HereAndNow': 18, 'jump': 18, 'lifeisahighway': 18, 'YouveGotAFriendInMe': 18, 'SomewhereOnlyWeKnow': 18, 'illshowyou': 18, 'thisiswhatyoucamefor': 18, 'Linger': 16, 'demons': 16, 'storyofmylife': 16, 'ItsTime': 16, 'sendmylove': 16, 'IBelieveICanFly': 16, 'throughtheyears': 16, 'threetimesalady': 16, 'yourbodyisawonderland': 16, 'pinkpanther': 15, 'thechristmassong': 15, 'TaleAsOldAsTime': 15, 'humbleandkind': 15, 'dingdongmerrily': 15, 'thegambler': 15, 'Radioactive': 14, 'wonderfultonight': 14, 'fixyou': 14, 'shakeitout': 14, 'allthesmallthings': 14, 'ihateuiloveu': 14, 'CandleIntheWind': 14, 'takemehome': 14, 'themostwonderfultime': 12, 'canthelpfallinginlove': 12, 'sexonfire': 12, 'loveyourself': 12, 'style': 12, 'silverbells': 10, 'letitsnow': 10, 'ophelia': 10, 'freefallin': 10, 'harktheherald': 10, 'forrestgump': 10, 'startrekTNG': 10, 'AnotherOneBitesTheDust': 10, 'youaresobeautiful': 10, 'brothers': 8, 'hero': 8, 'happyxmas': 8, 'iwontgiveup': 8, 'dontyouforgetaboutme': 8, 'happybirthdaytoyou': 6, 'herecomessantaclaus': 6, 'istillhaventfound': 6, 'twinklelittlestar': 6, 'photograph': 6, 'home': 6}), 'eval': Counter({'sevenyears': 70, 'AnotherDayInParadise': 55, 'CheapThrills': 50, 'Angie': 50, 'BennieandtheJets': 45, 'Levon': 40, 'MaybeImAmazed': 40, 'AllOutOfLove': 35, 'thecircleoflife': 30, 'circleoflife': 30, 'whowantstoliveforever': 30, 'ValseAmelie': 25, 'californication': 20, 'partofyourworld': 18, 'yellow': 18, 'sweetemotion': 16, 'aslongasyouremine': 12, 'everytimeyougoaway': 12, 'aintNoSunshine': 8, 'ochristmastree': 8}), 'test': Counter({'RightHereWaiting': 60, 'SmellsLikeTeenSpirit': 55, 'ImagineMe': 50, 'WalkingInMemphis': 45, 'AllThingsAreWorking': 45, 'WerewolvesOfLondon': 45, 'LikeImGonnaLoseYou': 40, 'WishYouWereHere': 35, 'Something': 25, 'girlcrush': 25, 'cantstopthefeeling': 24, 'letmeloveyou': 22, 'Itookapillinibiza': 20, 'myfavoritethings': 20, 'RememberMe': 20, 'withorwithoutyou': 18, 'neversaynever': 14, 'wethreekings': 12, 'WhereEverybodyKnowsYourName': 10, 'whereareyouchristmas': 8})}\n"
     ]
    }
   ],
   "source": [
    "manager.collate(hand=('rh', 'bh'),\n",
    "                level=[('beg', 'int'),\n",
    "                       ('int', 'adv'),\n",
    "                       ('beg', 'adv'),\n",
    "                       ('int', 'int'),\n",
    "                       ('adv', 'adv'),],\n",
    "                DoubleNoteVal=False,\n",
    "                WholeSong=False,\n",
    "                eval_set=load_config['eval_set'],\n",
    "                test_set=load_config['test_set'])"
   ]
  },
  {
   "cell_type": "code",
   "execution_count": 32,
   "metadata": {},
   "outputs": [
    {
     "name": "stdout",
     "output_type": "stream",
     "text": [
      "INFO: Saved ../assets/data/collated/M/train_inputs.tfrecord.\n",
      "INFO: Saved ../assets/data/collated/M/train_targets.tfrecord.\n",
      "INFO: Saved ../assets/data/collated/M/eval_inputs.tfrecord.\n",
      "INFO: Saved ../assets/data/collated/M/eval_targets.tfrecord.\n",
      "INFO: Saved ../assets/data/collated/M/test_inputs.tfrecord.\n",
      "INFO: Saved ../assets/data/collated/M/test_targets.tfrecord.\n"
     ]
    }
   ],
   "source": [
    "manager.serialize_collated(load_config['out_collated_dir']) # .xml files --> Protocol buffers in TensorFlow Record containers"
   ]
  },
  {
   "cell_type": "markdown",
   "metadata": {},
   "source": [
    "## Quick & Dirty Fix\n",
    "\n",
    "Update all `NoteSequence` in `.tfrecords` to show the key from the metadata `.csv` file. Make sure to first create a directory called `fixed`."
   ]
  },
  {
   "cell_type": "code",
   "execution_count": 34,
   "metadata": {},
   "outputs": [
    {
     "name": "stdout",
     "output_type": "stream",
     "text": [
      "INFO: Successfully updated train_inputs.tfrecord to match the tonal keys from songs_metadata.csv.\n",
      "INFO: Successfully updated train_targets.tfrecord to match the tonal keys from songs_metadata.csv.\n",
      "INFO: Successfully updated eval_targets.tfrecord to match the tonal keys from songs_metadata.csv.\n",
      "INFO: Successfully updated eval_inputs.tfrecord to match the tonal keys from songs_metadata.csv.\n",
      "INFO: Successfully updated test_targets.tfrecord to match the tonal keys from songs_metadata.csv.\n",
      "INFO: Successfully updated test_inputs.tfrecord to match the tonal keys from songs_metadata.csv.\n"
     ]
    }
   ],
   "source": [
    "from magenta.music import note_sequence_io\n",
    "\n",
    "# Iterate over .tfrecord files in a dir\n",
    "for src_file in os.listdir(load_config['out_collated_dir']):\n",
    "    if src_file.endswith('.tfrecord'):\n",
    "        src_file_path = os.path.join(load_config['out_collated_dir'], src_file)\n",
    "        target_path = os.path.join(load_config['out_collated_dir'], 'fixed', src_file)\n",
    "        \n",
    "        with note_sequence_io.NoteSequenceRecordWriter(target_path) as inputs_writer:\n",
    "        \n",
    "            # Iterate over the records in the .tfrecord file\n",
    "            for record in note_sequence_io.note_sequence_record_iterator(src_file_path):\n",
    "\n",
    "                key = int(manager.files_index.loc[record.id]['key_mag'])\n",
    "                record.key_signatures[0].key = key\n",
    "            \n",
    "                inputs_writer.write(record)\n",
    "                \n",
    "        print('INFO: Successfully updated {} to match the tonal keys from songs_metadata.csv.'.format(src_file))"
   ]
  },
  {
   "cell_type": "markdown",
   "metadata": {},
   "source": [
    "#### Debugging"
   ]
  },
  {
   "cell_type": "code",
   "execution_count": 61,
   "metadata": {},
   "outputs": [],
   "source": [
    "from magenta.music import note_sequence_io\n",
    "TFRECORD_FILE = '../assets/data/collated/B/eval_targets.tfrecord'\n",
    "\n",
    "note_seqs = []\n",
    "selected = None\n",
    "for record in note_sequence_io.note_sequence_record_iterator(TFRECORD_FILE):\n",
    "    note_seqs.append(record)\n",
    "    \n",
    "    if record.id == \"circleoflife_adv-chorus1-bh.xml\":\n",
    "        selected = record\n",
    "#     note_seqs.append(record)\n",
    "\n",
    "# print(note_seqs[0].key_signatures[0].key)\n",
    "# note_seqs[0].total_time\n",
    "# note_seqs[0]\n"
   ]
  },
  {
   "cell_type": "markdown",
   "metadata": {},
   "source": [
    "#### Test if working as expected"
   ]
  },
  {
   "cell_type": "raw",
   "metadata": {},
   "source": [
    "TFRECORD_FILE = './data/collated/B/eval_targets.tfrecord'\n",
    "\n",
    "note_seqs = []\n",
    "for record in note_sequence_io.note_sequence_record_iterator(TFRECORD_FILE):\n",
    "    note_seqs.append(record)\n",
    "\n",
    "print(note_seqs[0].key_signatures[0].key)\n",
    "note_seqs[0].total_time\n",
    "note_seqs[0]"
   ]
  },
  {
   "cell_type": "markdown",
   "metadata": {},
   "source": [
    "### Debugging"
   ]
  },
  {
   "cell_type": "raw",
   "metadata": {},
   "source": [
    "# Hint: To take a peek at the files index, run `manager.files_index`\n",
    "#\n",
    "# Hint 2: Access the collated list with `manager.collated_index`\n",
    "#\n",
    "# Hint 3: You can slice the dataframe like this:\n",
    "# manager.files_index.loc[(manager.files_index['segment'] == 'wholeSong') \n",
    "#                       & (manager.files_index['hand'] == 'bh')]\n",
    "#\n",
    "# Hint 4: manager.files_index.to_csv('files_index.csv')"
   ]
  }
 ],
 "metadata": {
  "kernelspec": {
   "display_name": "Python 3",
   "language": "python",
   "name": "python3"
  },
  "language_info": {
   "codemirror_mode": {
    "name": "ipython",
    "version": 3
   },
   "file_extension": ".py",
   "mimetype": "text/x-python",
   "name": "python",
   "nbconvert_exporter": "python",
   "pygments_lexer": "ipython3",
   "version": "3.6.3"
  }
 },
 "nbformat": 4,
 "nbformat_minor": 2
}
