{
 "cells": [
  {
   "cell_type": "markdown",
   "metadata": {},
   "source": [
    "This notebook will help you define and run pipelines to process your data. This includes data augmentation, slicing, stretching and encoding among others. If you want to use this notebook, you are expected to have already collated your original `.xml` with the help of `1.1. Collate Files.ipynb`.\n",
    "\n",
    "Pipelines are a data processing module which transforms input data types to output data types. The idea as well as bits & pieces are borrowed [the Magenta project](https://github.com/tensorflow/magenta/tree/master/magenta/pipelines).\n",
    "\n",
    "\n",
    "**INSTRUCTIONS**\n",
    " \n",
    "First, adjust the definition of the pipelines inside `pipeline_graph_def`. Then run `build_dataset`. This will create 4 files, two sets of train and evaluate. The first set is the inputs, and the second set is the targets."
   ]
  },
  {
   "cell_type": "markdown",
   "metadata": {},
   "source": [
    "**DEPENDENCIES**"
   ]
  },
  {
   "cell_type": "code",
   "execution_count": 40,
   "metadata": {},
   "outputs": [
    {
     "data": {
      "text/plain": [
       "<module 'arranger_pipelines' from '/Users/vesko/GitHub/UoE-dissertation/model/build_dataset/arranger_pipelines.py'>"
      ]
     },
     "execution_count": 40,
     "metadata": {},
     "output_type": "execute_result"
    }
   ],
   "source": [
    "import arranger_pipelines\n",
    "import importlib\n",
    "importlib.reload(arranger_pipelines)"
   ]
  },
  {
   "cell_type": "code",
   "execution_count": 41,
   "metadata": {},
   "outputs": [],
   "source": [
    "# General\n",
    "import os\n",
    "import re \n",
    "import pandas as pd\n",
    "\n",
    "# The processing manager which glues everything\n",
    "import arranger_pipelines\n",
    "\n",
    "# Augmentation Pipelines\n",
    "from arranger_pipelines import TransposerToC, TransposerToRange, Reverser\n",
    "\n",
    "# Processing Pipelines\n",
    "from magenta.pipelines.note_sequence_pipelines import Quantizer, Splitter\n",
    "from arranger_pipelines import PerformanceExtractor, MetadataExtractor, ParserToText, QuantizedSplitter\n",
    "\n",
    "# Other\n",
    "from magenta.protobuf import music_pb2\n",
    "from magenta.pipelines import dag_pipeline"
   ]
  },
  {
   "cell_type": "markdown",
   "metadata": {},
   "source": [
    "**PARAMETERS**"
   ]
  },
  {
   "cell_type": "code",
   "execution_count": 42,
   "metadata": {},
   "outputs": [],
   "source": [
    "pipeline_config = dict()\n",
    "\n",
    "pipeline_config['data_source_dir'] = \"../assets/data/collated/M/\"\n",
    "pipeline_config['data_target_dir'] = \"../assets/data/processed/hummingbird/\""
   ]
  },
  {
   "cell_type": "code",
   "execution_count": 46,
   "metadata": {},
   "outputs": [],
   "source": [
    "# How many steps per quarter note\n",
    "pipeline_config['steps_per_quarter'] = 4\n",
    "\n",
    "pipeline_config['min_events'] = 1\n",
    "pipeline_config['max_events'] = 9999999\n",
    "\n",
    "pipeline_config['MIN_MIDI_PITCH'] = 0 # Inclusive.\n",
    "pipeline_config['MAX_MIDI_PITCH'] = 126 # Inclusive."
   ]
  },
  {
   "cell_type": "markdown",
   "metadata": {},
   "source": [
    "**DEFINITIONS**"
   ]
  },
  {
   "cell_type": "code",
   "execution_count": 47,
   "metadata": {},
   "outputs": [],
   "source": [
    "def pipeline_graph_def(collection_name,\n",
    "                       config):\n",
    "    \"\"\"Returns the Pipeline instance which creates the RNN dataset.\n",
    "\n",
    "    Args:\n",
    "        collection_name:\n",
    "        config: dict() with configuration settings\n",
    "\n",
    "    Returns:\n",
    "        A pipeline.Pipeline instance.\n",
    "    \"\"\"\n",
    "    \n",
    "    \n",
    "    # User Variables\n",
    "    metadata_df = pd.read_csv(os.path.join(pipeline_config['data_source_dir'], 'filex_index.csv'), index_col=0)\n",
    "    metadata_attr = []\n",
    "    split_hop_size_seconds = 99999\n",
    "    hop_bars = list(range(0,500,1))\n",
    "    \n",
    "    # Do Not Modify those\n",
    "    train_mode = re.match(r'train(?=_)', collection_name)\n",
    "    key = collection_name\n",
    "    \n",
    "    # Input must NOT be quantized\n",
    "    splitter = Splitter(\n",
    "        hop_size_seconds=split_hop_size_seconds,\n",
    "        name='Splitter_' + key)\n",
    "    \n",
    "    # `Quantizer` takes note data in seconds and snaps, or quantizes, \n",
    "    # everything to a discrete grid of timesteps. It maps `NoteSequence` \n",
    "    # protocol buffers to `NoteSequence` protos with quanitzed times. \n",
    "    quantizer = Quantizer(\n",
    "        steps_per_quarter=pipeline_config['steps_per_quarter'], \n",
    "        name='Quantizer_' + key)\n",
    "        # input_type=music_pb2.NoteSequence\n",
    "        # output_type=music_pb2.NoteSequence\n",
    "        \n",
    "    # Input MUST BE quantized\n",
    "    quant_splitter = QuantizedSplitter(\n",
    "        hop_bars=hop_bars,\n",
    "        metadata_df = metadata_df,\n",
    "        name='QuantizedSplitter_' + key)\n",
    "        \n",
    "    reverser = Reverser(\n",
    "        True if train_mode else False, \n",
    "        name='Reverser' + key)\n",
    "        # input_type=music_pb2.NoteSequence\n",
    "        # output_type=music_pb2.NoteSequence\n",
    "        \n",
    "    transposerToC = TransposerToC(\n",
    "        name='TransposerToC' + key,\n",
    "        min_valid_pitch = pipeline_config['MIN_MIDI_PITCH'],\n",
    "        max_valid_pitch = pipeline_config['MAX_MIDI_PITCH'])\n",
    "\n",
    "    transposer = TransposerToRange(\n",
    "        range(-24, 24) if train_mode else [0],\n",
    "        min_pitch = pipeline_config['MIN_MIDI_PITCH'],\n",
    "        max_pitch = pipeline_config['MAX_MIDI_PITCH'],\n",
    "        name='TransposerToRange_' + key)\n",
    "        # input_type=music_pb2.NoteSequence\n",
    "        # output_type=music_pb2.NoteSequence\n",
    "\n",
    "    perf_extractor = PerformanceExtractor(\n",
    "        min_events=pipeline_config['min_events'],\n",
    "        max_events=pipeline_config['max_events'],\n",
    "        num_velocity_bins=0,\n",
    "        name='PerformanceExtractor_' + key)\n",
    "        # input_type = music_pb2.NoteSequence\n",
    "        # output_type = magenta.music.MetricPerformance\n",
    "\n",
    "    meta_extractor = MetadataExtractor(\n",
    "        metadata_df = metadata_df,\n",
    "        attributes=metadata_attr,\n",
    "        name = 'MetadataExtractor' + key)\n",
    "    \n",
    "    parser = ParserToText(\n",
    "        name='ParserToText' + key)\n",
    "        # input_type = magenta.music.MetricPerformance\n",
    "        # output_type = str\n",
    "\n",
    "    \n",
    "    ### Pipelines Full Map ###\n",
    "    #\n",
    "    # DagInput > Splitter > Quantizer > QuantizedSplitter > Reverser > TransposerToC > TransposerToRange > PerformanceExtractor > 'MetricPerformance'\n",
    "    # DagInput > MetadataExtractor > 'metadata'\n",
    "    # \n",
    "    # {'MetricPerformance', 'meta'} > ParserToText > DagOutput\n",
    "    #\n",
    "    \n",
    "    dag = {}\n",
    "    dag[quantizer] = dag_pipeline.DagInput(music_pb2.NoteSequence)\n",
    "    dag[quant_splitter] = quantizer\n",
    "    dag[reverser] = quant_splitter\n",
    "    dag[transposerToC] = reverser\n",
    "    dag[transposer] = transposerToC\n",
    "    dag[perf_extractor] = transposer\n",
    "    \n",
    "#     dag[quantizer] = dag_pipeline.DagInput(music_pb2.NoteSequence)\n",
    "#     dag[reverser] = quantizer\n",
    "#     dag[transposerToC] = reverser\n",
    "#     dag[transposer] = transposerToC\n",
    "#     dag[perf_extractor] = transposer\n",
    "    \n",
    "    dag[meta_extractor] = dag_pipeline.DagInput(music_pb2.NoteSequence)\n",
    "    \n",
    "    dag[parser] = { 'MetricPerformance' : perf_extractor, \n",
    "                    'metadata' : meta_extractor }\n",
    "    \n",
    "    dag[dag_pipeline.DagOutput(key)] = parser\n",
    "    \n",
    "    return dag_pipeline.DAGPipeline(dag)\n",
    "\n",
    "\n"
   ]
  },
  {
   "cell_type": "markdown",
   "metadata": {},
   "source": [
    "# Build Dataset"
   ]
  },
  {
   "cell_type": "code",
   "execution_count": null,
   "metadata": {},
   "outputs": [
    {
     "name": "stdout",
     "output_type": "stream",
     "text": [
      "INFO: Target ../assets/data/processed/hummingbird/.\n",
      "INFO: Collated data sourced from ../assets/data/collated/M/.\n",
      "\n",
      "INFO: Building train_inputs dataset...\n",
      "INFO: Augmenting by reversing.\n",
      "INFO: Transposing all to C.\n",
      "INFO: Transposition range(-24, 24)\n",
      "INFO: Transposition pipeline will ignore Key Signatures, Pitch Names and Chord Symbols.\n"
     ]
    }
   ],
   "source": [
    "arranger_pipelines.build_dataset(pipeline_config, pipeline_graph_def)"
   ]
  },
  {
   "cell_type": "markdown",
   "metadata": {},
   "source": [
    "# Build Vocabulary"
   ]
  },
  {
   "cell_type": "code",
   "execution_count": 35,
   "metadata": {},
   "outputs": [
    {
     "name": "stdout",
     "output_type": "stream",
     "text": [
      "INFO: Vocabulary built.\n",
      "INFO: Tokens collected {'ON121', 'SHIFT12', 'ON75', 'OFF66', 'OFF123', 'OFF85', 'ON21', 'ON91', 'ON94', 'OFF4', 'SHIFT15', 'ON27', 'OFF33', 'OFF89', 'ON77', 'ON84', 'ON97', 'OFF72', 'ON69', 'ON1', 'SHIFT0', 'ON4', 'OFF58', 'OFF91', 'ON36', 'OFF55', 'OFF115', 'OFF81', 'ON6', 'OFF92', 'ON5', 'OFF106', 'SHIFT8', 'SHIFT16', 'ON13', 'OFF23', 'ON30', 'ON70', 'OFF94', 'OFF107', 'OFF24', 'OFF35', 'OFF44', 'OFF57', 'ON78', 'OFF45', 'OFF52', 'ON111', 'OFF64', 'OFF37', 'ON55', 'OFF29', 'OFF8', 'ON59', 'OFF61', 'ON95', 'ON12', 'ON98', 'OFF63', 'OFF95', 'OFF38', 'SHIFT7', 'ON18', 'ON22', 'ON57', 'ON60', 'ON40', 'ON62', 'ON108', 'ON119', 'OFF28', 'OFF30', 'OFF103', 'OFF110', 'ON16', 'OFF15', 'OFF118', 'OFF120', 'ON52', 'OFF9', 'OFF97', 'ON64', 'OFF102', 'ON25', 'ON89', 'OFF88', 'OFF42', 'ON96', 'ON54', 'ON104', 'OFF100', 'OFF68', 'SHIFT4', 'OFF5', 'OFF54', 'OFF71', 'ON42', 'ON11', 'OFF41', 'SHIFT13', 'ON38', 'OFF79', 'ON47', 'ON90', 'SHIFT1', 'ON82', 'OFF46', 'ON32', 'OFF11', 'ON107', 'OFF56', 'OFF82', 'ON103', 'OFF27', 'OFF83', 'ON51', 'ON24', 'OFF76', 'ON9', 'ON124', 'ON33', 'ON74', 'ON109', 'ON115', 'ON49', 'OFF104', 'OFF125', 'ON41', 'OFF49', 'OFF90', 'ON3', 'OFF114', 'ON28', 'OFF108', 'SHIFT10', 'ON105', 'OFF51', 'ON7', 'ON56', 'OFF101', 'OFF122', 'OFF113', 'OFF18', 'OFF22', 'ON44', 'ON48', 'ON73', 'ON117', 'ON65', 'ON43', 'ON58', 'OFF67', 'ON66', 'ON19', 'OFF19', 'ON116', 'OFF21', 'OFF36', 'ON72', 'ON112', 'ON120', 'ON88', 'ON14', 'SHIFT2', 'OFF1', 'ON80', 'OFF111', 'OFF62', 'ON102', 'ON113', 'OFF16', 'OFF26', 'ON23', 'ON61', 'OFF80', 'OFF93', 'ON126', 'OFF3', 'ON79', 'ON81', 'OFF32', 'OFF40', 'OFF87', 'OFF17', 'OFF126', 'ON86', 'OFF127', 'ON34', 'ON46', 'ON99', 'ON2', 'OFF34', 'OFF43', 'ON93', 'OFF84', 'ON53', 'ON114', 'ON26', 'OFF98', 'OFF10', 'ON71', 'OFF69', 'OFF75', 'ON106', 'ON125', 'ON31', 'ON101', 'OFF59', 'OFF13', 'OFF25', 'OFF99', 'OFF50', 'OFF121', 'ON35', 'ON118', 'ON15', 'OFF86', 'SHIFT14', 'OFF74', 'ON83', 'ON0', 'ON87', 'OFF70', 'OFF14', 'OFF65', 'SHIFT11', 'OFF0', 'SHIFT3', 'ON37', 'ON63', 'OFF20', 'ON92', 'OFF31', 'SHIFT5', 'ON45', 'ON29', 'ON100', 'OFF60', 'OFF6', 'ON110', 'OFF77', 'OFF78', 'OFF12', 'OFF105', 'OFF119', 'OFF39', 'OFF47', 'OFF7', 'SHIFT6', 'OFF73', 'SHIFT9', 'ON68', 'OFF116', 'OFF109', 'OFF112', 'ON8', 'ON39', 'OFF48', 'OFF117', 'OFF2', 'ON122', 'ON10', 'OFF53', 'ON127', 'ON85', 'OFF124', 'ON20', 'ON50', 'OFF96', 'ON17', 'ON67', 'ON123', 'ON76'}\n"
     ]
    }
   ],
   "source": [
    "# Uncomment if you want to prepend metadata tokens\n",
    "# arranger_pipelines.build_vocab(pipeline_config,\n",
    "#                             source_vocab_from=['train_inputs.txt', 'train_targets.txt'])\n",
    "arranger_pipelines.build_vocab(pipeline_config)"
   ]
  },
  {
   "cell_type": "markdown",
   "metadata": {},
   "source": [
    "# Synchronously Remove Blank Lines in Two Files\n",
    "\n",
    "Necessary only if splitting."
   ]
  },
  {
   "cell_type": "code",
   "execution_count": 430,
   "metadata": {},
   "outputs": [],
   "source": [
    "pipeline_config['data_target_dir'] = \"../assets/data/processed/magpie_2/\""
   ]
  },
  {
   "cell_type": "code",
   "execution_count": 431,
   "metadata": {},
   "outputs": [
    {
     "name": "stdout",
     "output_type": "stream",
     "text": [
      "INFO: 0 Empty line indices found in eval.\n",
      "INFO: Finished writing eval_inputs.txt\n",
      "INFO: Finished writing eval_targets.txt\n",
      "INFO: 0 Empty line indices found in train.\n",
      "INFO: Finished writing train_inputs.txt\n",
      "INFO: Finished writing train_targets.txt\n",
      "INFO: 0 Empty line indices found in test.\n",
      "INFO: Finished writing test_inputs.txt\n",
      "INFO: Finished writing test_targets.txt\n"
     ]
    }
   ],
   "source": [
    "import pandas as pd\n",
    "for dataset_type in ['eval', 'train', 'test']:\n",
    "    inputs_file_name = dataset_type +'_inputs.txt'\n",
    "    targets_file_name = dataset_type + '_targets.txt'\n",
    "\n",
    "    inputs_path = os.path.join(pipeline_config['data_target_dir'], inputs_file_name)\n",
    "    targets_path = os.path.join(pipeline_config['data_target_dir'], targets_file_name)\n",
    "\n",
    "    with open(inputs_path, 'r') as i, open(targets_path, 'r') as t:\n",
    "        inputs = [l for l in i.readlines()]\n",
    "        targets = [l for l in t.readlines()]\n",
    "\n",
    "    assert len(inputs) == len(targets)\n",
    "\n",
    "    to_remove = []\n",
    "    for i in range(len(inputs)):\n",
    "        if inputs[i] == '\\n' or targets[i] == '\\n':\n",
    "            to_remove.append(i)\n",
    "\n",
    "    print('INFO: {} Empty line indices found in {}.'.format(len(to_remove), dataset_type))\n",
    "    \n",
    "    # Write to disk\n",
    "    inputs_light = pd.Series(inputs).drop(to_remove)\n",
    "    targets_light = pd.Series(targets).drop(to_remove)\n",
    "\n",
    "    with open(os.path.join(pipeline_config['data_target_dir'], 'fixed', inputs_file_name), 'w') as f:\n",
    "        f.write(''.join(list(inputs_light)))\n",
    "    print('INFO: Finished writing {}'.format(inputs_file_name))\n",
    "    with open(os.path.join(pipeline_config['data_target_dir'], 'fixed', targets_file_name), 'w') as f:\n",
    "        f.write(''.join(list(targets_light)))\n",
    "    print('INFO: Finished writing {}'.format(targets_file_name))"
   ]
  },
  {
   "cell_type": "code",
   "execution_count": null,
   "metadata": {},
   "outputs": [],
   "source": [
    "\n"
   ]
  },
  {
   "cell_type": "code",
   "execution_count": null,
   "metadata": {},
   "outputs": [],
   "source": []
  },
  {
   "cell_type": "code",
   "execution_count": null,
   "metadata": {},
   "outputs": [],
   "source": []
  }
 ],
 "metadata": {
  "kernelspec": {
   "display_name": "Python 3",
   "language": "python",
   "name": "python3"
  },
  "language_info": {
   "codemirror_mode": {
    "name": "ipython",
    "version": 3
   },
   "file_extension": ".py",
   "mimetype": "text/x-python",
   "name": "python",
   "nbconvert_exporter": "python",
   "pygments_lexer": "ipython3",
   "version": "3.6.3"
  }
 },
 "nbformat": 4,
 "nbformat_minor": 2
}
