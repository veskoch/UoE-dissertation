{
 "cells": [
  {
   "cell_type": "markdown",
   "metadata": {},
   "source": [
    "This notebook provide tools to evaluate your trained models quantitatively. You can:\n",
    "\n",
    "* Calculate BLEU and ROUGE scores\n",
    "* A bunch of music-related scores"
   ]
  },
  {
   "cell_type": "code",
   "execution_count": 1,
   "metadata": {},
   "outputs": [],
   "source": [
    "import evaluator"
   ]
  },
  {
   "cell_type": "code",
   "execution_count": 2,
   "metadata": {},
   "outputs": [],
   "source": [
    "import os\n",
    "import sys\n",
    "import inspect\n",
    "from pathlib import Path\n",
    "currentdir = os.path.dirname(os.path.abspath(inspect.getfile(inspect.currentframe())))\n",
    "parentdir = Path(currentdir).parents[1]\n",
    "sys.path.insert(1, os.path.join(parentdir, 'train'))"
   ]
  },
  {
   "cell_type": "markdown",
   "metadata": {},
   "source": [
    "# Run Ad Hoc Inference"
   ]
  },
  {
   "cell_type": "code",
   "execution_count": 3,
   "metadata": {},
   "outputs": [
    {
     "name": "stdout",
     "output_type": "stream",
     "text": [
      "INFO: Crunching...\n",
      "INFO: BLEU done.\n",
      "INFO: ROUGE done.\n",
      "WARN: Failed to infer beat from track at index 112.\n",
      "INFO: MusicScores done.\n",
      "INFO: Saved as ../../assets/trained_models/r_arb_3/eval/scores.2384.csv\n"
     ]
    },
    {
     "data": {
      "text/plain": [
       "bleu                    6.120000\n",
       "rouge-1_f               0.343517\n",
       "rouge-1_p               0.836352\n",
       "rouge-1_r               0.221026\n",
       "rouge-2_f               0.106142\n",
       "rouge-2_p               0.469024\n",
       "rouge-2_r               0.061781\n",
       "rouge-l_f               0.224967\n",
       "rouge-l_p               0.807024\n",
       "rouge-l_r               0.212963\n",
       "cc                      0.750338\n",
       "cc_dist                 0.102405\n",
       "tc                      1.195091\n",
       "tc_dist                 0.272029\n",
       "key_name_acc            0.494382\n",
       "key_mode_acc            0.679775\n",
       "tempo                 211.224559\n",
       "tempo_dist             42.648713\n",
       "duration_dist           9.452949\n",
       "note_density_ratio      0.907747\n",
       "dtype: float64"
      ]
     },
     "execution_count": 3,
     "metadata": {},
     "output_type": "execute_result"
    }
   ],
   "source": [
    "targets = '../../assets/data/processed/cockatoo/eval_targets.txt'\n",
    "predicted = '../../assets/trained_models/r_arb_3/eval/predictions.txt.2384'\n",
    "save_scores_as = 'scores.2384.csv' # Provide file name, not a path. File will be saved to eval dir.\n",
    "\n",
    "s = evaluator.Evaluator(targets, predicted)\n",
    "s.get(to_csv_name=save_scores_as)"
   ]
  },
  {
   "cell_type": "code",
   "execution_count": null,
   "metadata": {},
   "outputs": [],
   "source": []
  },
  {
   "cell_type": "code",
   "execution_count": null,
   "metadata": {},
   "outputs": [],
   "source": []
  },
  {
   "cell_type": "code",
   "execution_count": null,
   "metadata": {},
   "outputs": [],
   "source": []
  },
  {
   "cell_type": "code",
   "execution_count": null,
   "metadata": {},
   "outputs": [],
   "source": []
  },
  {
   "cell_type": "code",
   "execution_count": null,
   "metadata": {},
   "outputs": [],
   "source": []
  },
  {
   "cell_type": "code",
   "execution_count": null,
   "metadata": {},
   "outputs": [],
   "source": []
  },
  {
   "cell_type": "code",
   "execution_count": null,
   "metadata": {},
   "outputs": [],
   "source": []
  },
  {
   "cell_type": "markdown",
   "metadata": {},
   "source": [
    "# Scores"
   ]
  },
  {
   "cell_type": "code",
   "execution_count": 32,
   "metadata": {},
   "outputs": [
    {
     "name": "stdout",
     "output_type": "stream",
     "text": [
      "INFO: Crunching...\n",
      "INFO: BLEU done.\n",
      "INFO: ROUGE done.\n",
      "WARN: Failed to infer beat from track at index 44.\n",
      "WARN: Failed to infer beat from track at index 125.\n",
      "WARN: Failed to infer beat from track at index 126.\n",
      "INFO: MusicScores done.\n"
     ]
    },
    {
     "data": {
      "text/plain": [
       "bleu                   16.080000\n",
       "rouge-1_f               0.477475\n",
       "rouge-1_p               0.854636\n",
       "rouge-1_r               0.341881\n",
       "rouge-2_f               0.217600\n",
       "rouge-2_p               0.538676\n",
       "rouge-2_r               0.143655\n",
       "rouge-l_f               0.353493\n",
       "rouge-l_p               0.815264\n",
       "rouge-l_r               0.325596\n",
       "cc                      0.771056\n",
       "cc_dist                 0.096994\n",
       "tc                      1.219625\n",
       "tc_dist                 0.274425\n",
       "key_name_acc            0.519231\n",
       "key_mode_acc            0.698718\n",
       "tempo                 201.882515\n",
       "tempo_dist             41.828033\n",
       "duration_dist           9.222756\n",
       "note_density_ratio      1.092636\n",
       "dtype: float64"
      ]
     },
     "execution_count": 32,
     "metadata": {},
     "output_type": "execute_result"
    }
   ],
   "source": [
    "targets = '../../assets/data/processed/plover/eval_targets.txt'\n",
    "predicted = '../../assets/trained_models/ch_2/eval/predictions.txt.1652'\n",
    "# save_scores_as = 'scores.2856.csv'\n",
    "save_scores_as = None\n",
    "\n",
    "s = evaluator.Evaluator(targets, predicted)\n",
    "s.get(to_csv_name=save_scores_as)"
   ]
  },
  {
   "cell_type": "code",
   "execution_count": 20,
   "metadata": {},
   "outputs": [
    {
     "name": "stdout",
     "output_type": "stream",
     "text": [
      "INFO: Crunching...\n",
      "INFO: BLEU done.\n",
      "INFO: ROUGE done.\n",
      "WARN: Failed to infer beat from track at index 51.\n",
      "WARN: Failed to infer beat from track at index 55.\n",
      "WARN: Failed to infer beat from track at index 61.\n",
      "WARN: Failed to infer beat from track at index 65.\n",
      "WARN: Failed to infer beat from track at index 105.\n",
      "WARN: Failed to infer beat from track at index 112.\n",
      "INFO: MusicScores done.\n",
      "INFO: Saved as ../../assets/trained_models/ndouble_1/eval/scores.4768.csv\n"
     ]
    },
    {
     "data": {
      "text/plain": [
       "bleu                   27.320000\n",
       "rouge-1_f               0.644839\n",
       "rouge-1_p               0.860952\n",
       "rouge-1_r               0.547803\n",
       "rouge-2_f               0.367939\n",
       "rouge-2_p               0.562743\n",
       "rouge-2_r               0.298940\n",
       "rouge-l_f               0.551333\n",
       "rouge-l_p               0.813149\n",
       "rouge-l_r               0.516780\n",
       "cc                      0.673571\n",
       "cc_dist                 0.108757\n",
       "tc                      0.838398\n",
       "tc_dist                 0.196906\n",
       "key_name_acc            0.564607\n",
       "key_mode_acc            0.716292\n",
       "tempo                 207.385044\n",
       "tempo_dist             44.891485\n",
       "duration_dist           7.937149\n",
       "note_density_ratio      1.094543\n",
       "dtype: float64"
      ]
     },
     "execution_count": 20,
     "metadata": {},
     "output_type": "execute_result"
    }
   ],
   "source": [
    "targets = '../../assets/data/processed/remiz/eval_targets.txt'\n",
    "predicted = '../../assets/trained_models/ndouble_1/eval/predictions.txt.4768'\n",
    "save_scores_as = 'scores.4768.csv' # Provide file name, not a path. File will be saved to eval dir.\n",
    "\n",
    "s = evaluator.Evaluator(targets, predicted)\n",
    "s.get(to_csv_name=save_scores_as)"
   ]
  },
  {
   "cell_type": "code",
   "execution_count": 21,
   "metadata": {},
   "outputs": [
    {
     "name": "stdout",
     "output_type": "stream",
     "text": [
      "INFO: Crunching...\n",
      "INFO: BLEU done.\n",
      "INFO: ROUGE done.\n",
      "WARN: Failed to infer beat from track at index 74.\n",
      "WARN: Failed to infer beat from track at index 163.\n",
      "WARN: Failed to infer beat from track at index 172.\n",
      "INFO: MusicScores done.\n",
      "INFO: Saved as ../../assets/trained_models/ndouble_2/eval/scores.5145.csv\n"
     ]
    },
    {
     "data": {
      "text/plain": [
       "bleu                   12.300000\n",
       "rouge-1_f               0.395468\n",
       "rouge-1_p               0.920275\n",
       "rouge-1_r               0.265354\n",
       "rouge-2_f               0.182127\n",
       "rouge-2_p               0.644827\n",
       "rouge-2_r               0.113139\n",
       "rouge-l_f               0.258943\n",
       "rouge-l_p               0.847051\n",
       "rouge-l_r               0.242848\n",
       "cc                      0.518427\n",
       "cc_dist                 0.231763\n",
       "tc                      0.663243\n",
       "tc_dist                 0.280524\n",
       "key_name_acc            0.367521\n",
       "key_mode_acc            0.585470\n",
       "tempo                 234.302206\n",
       "tempo_dist             45.133486\n",
       "duration_dist           8.005342\n",
       "note_density_ratio      1.763840\n",
       "dtype: float64"
      ]
     },
     "execution_count": 21,
     "metadata": {},
     "output_type": "execute_result"
    }
   ],
   "source": [
    "targets = '../../assets/data/processed/robin/eval_targets.txt'\n",
    "predicted = '../../assets/trained_models/ndouble_2/eval/predictions.txt.5145'\n",
    "save_scores_as = 'scores.5145.csv' # Provide file name, not a path. File will be saved to eval dir.\n",
    "\n",
    "s = evaluator.Evaluator(targets, predicted)\n",
    "s.get(to_csv_name=save_scores_as)"
   ]
  },
  {
   "cell_type": "code",
   "execution_count": 22,
   "metadata": {},
   "outputs": [
    {
     "name": "stdout",
     "output_type": "stream",
     "text": [
      "INFO: Crunching...\n",
      "INFO: BLEU done.\n",
      "INFO: ROUGE done.\n",
      "WARN: Failed to convert MIDI predicted at index 0 to Music21 stream.\n",
      "WARN: Failed to infer beat from track at index 0.\n",
      "WARN: Failed to convert MIDI predicted at index 21 to Music21 stream.\n",
      "WARN: Failed to infer beat from track at index 21.\n",
      "WARN: Failed to convert MIDI predicted at index 25 to Music21 stream.\n",
      "WARN: Failed to infer beat from track at index 25.\n",
      "WARN: Failed to convert MIDI predicted at index 26 to Music21 stream.\n",
      "WARN: Failed to infer beat from track at index 26.\n",
      "WARN: Failed to infer beat from track at index 44.\n",
      "WARN: Failed to convert MIDI predicted at index 55 to Music21 stream.\n",
      "WARN: Failed to infer beat from track at index 55.\n",
      "WARN: Failed to convert MIDI predicted at index 110 to Music21 stream.\n",
      "WARN: Failed to infer beat from track at index 110.\n",
      "WARN: Failed to convert MIDI predicted at index 112 to Music21 stream.\n",
      "WARN: Failed to infer beat from track at index 112.\n",
      "WARN: Failed to convert MIDI predicted at index 122 to Music21 stream.\n",
      "WARN: Failed to infer beat from track at index 122.\n",
      "INFO: MusicScores done.\n",
      "INFO: Saved as ../../assets/trained_models/rhythm_1/eval/scores.1698.csv\n"
     ]
    },
    {
     "data": {
      "text/plain": [
       "bleu                   12.540000\n",
       "rouge-1_f               0.445121\n",
       "rouge-1_p               0.857536\n",
       "rouge-1_r               0.319899\n",
       "rouge-2_f               0.205225\n",
       "rouge-2_p               0.591015\n",
       "rouge-2_r               0.136267\n",
       "rouge-l_f               0.327801\n",
       "rouge-l_p               0.814446\n",
       "rouge-l_r               0.302484\n",
       "cc                      0.506954\n",
       "cc_dist                 0.225618\n",
       "tc                      0.626181\n",
       "tc_dist                 0.299338\n",
       "key_name_acc            0.275641\n",
       "key_mode_acc            0.551282\n",
       "tempo                 222.572378\n",
       "tempo_dist             50.788642\n",
       "duration_dist           8.981571\n",
       "note_density_ratio      1.724307\n",
       "dtype: float64"
      ]
     },
     "execution_count": 22,
     "metadata": {},
     "output_type": "execute_result"
    }
   ],
   "source": [
    "targets = '../../assets/data/processed/swallow/eval_targets.txt'\n",
    "predicted = '../../assets/trained_models/rhythm_1/eval/predictions.txt.1698'\n",
    "save_scores_as = 'scores.1698.csv' # Provide file name, not a path. File will be saved to eval dir.\n",
    "\n",
    "s = evaluator.Evaluator(targets, predicted)\n",
    "s.get(to_csv_name=save_scores_as)"
   ]
  },
  {
   "cell_type": "code",
   "execution_count": 23,
   "metadata": {},
   "outputs": [
    {
     "name": "stdout",
     "output_type": "stream",
     "text": [
      "INFO: Crunching...\n",
      "INFO: BLEU done.\n",
      "INFO: ROUGE done.\n",
      "WARN: Failed to infer beat from track at index 0.\n",
      "WARN: Failed to infer beat from track at index 9.\n",
      "WARN: Failed to infer beat from track at index 25.\n",
      "WARN: Failed to infer beat from track at index 26.\n",
      "WARN: Failed to infer beat from track at index 37.\n",
      "WARN: Failed to infer beat from track at index 87.\n",
      "WARN: Failed to infer beat from track at index 91.\n",
      "WARN: Failed to infer beat from track at index 93.\n",
      "WARN: Failed to infer beat from track at index 95.\n",
      "WARN: Failed to infer beat from track at index 97.\n",
      "WARN: Failed to infer beat from track at index 98.\n",
      "INFO: MusicScores done.\n",
      "INFO: Saved as ../../assets/trained_models/rhythm_2/eval/scores.1838.csv\n"
     ]
    },
    {
     "data": {
      "text/plain": [
       "bleu                    4.360000\n",
       "rouge-1_f               0.296251\n",
       "rouge-1_p               0.952667\n",
       "rouge-1_r               0.180752\n",
       "rouge-2_f               0.072502\n",
       "rouge-2_p               0.438242\n",
       "rouge-2_r               0.041157\n",
       "rouge-l_f               0.173704\n",
       "rouge-l_p               0.899015\n",
       "rouge-l_r               0.167444\n",
       "cc                      0.513138\n",
       "cc_dist                 0.258011\n",
       "tc                      0.667001\n",
       "tc_dist                 0.298294\n",
       "key_name_acc            0.310000\n",
       "key_mode_acc            0.610000\n",
       "tempo                 227.415730\n",
       "tempo_dist             45.484030\n",
       "duration_dist           9.983750\n",
       "note_density_ratio      1.114750\n",
       "dtype: float64"
      ]
     },
     "execution_count": 23,
     "metadata": {},
     "output_type": "execute_result"
    }
   ],
   "source": [
    "targets = '../../assets/data/processed/tanager/eval_targets.txt'\n",
    "predicted = '../../assets/trained_models/rhythm_2/eval/predictions.txt.1838'\n",
    "save_scores_as = 'scores.1838.csv' # Provide file name, not a path. File will be saved to eval dir.\n",
    "\n",
    "s = evaluator.Evaluator(targets, predicted)\n",
    "s.get(to_csv_name=save_scores_as)"
   ]
  },
  {
   "cell_type": "code",
   "execution_count": 24,
   "metadata": {},
   "outputs": [
    {
     "name": "stdout",
     "output_type": "stream",
     "text": [
      "INFO: Crunching...\n",
      "INFO: BLEU done.\n",
      "INFO: ROUGE done.\n",
      "WARN: Failed to infer beat from track at index 89.\n",
      "WARN: Failed to infer beat from track at index 97.\n",
      "INFO: MusicScores done.\n",
      "INFO: Saved as ../../assets/trained_models/rhythm_3/eval/scores.1803.csv\n"
     ]
    },
    {
     "data": {
      "text/plain": [
       "bleu                    5.900000\n",
       "rouge-1_f               0.302779\n",
       "rouge-1_p               0.928952\n",
       "rouge-1_r               0.185902\n",
       "rouge-2_f               0.096663\n",
       "rouge-2_p               0.506137\n",
       "rouge-2_r               0.055085\n",
       "rouge-l_f               0.174852\n",
       "rouge-l_p               0.856833\n",
       "rouge-l_r               0.167907\n",
       "cc                      0.516758\n",
       "cc_dist                 0.254421\n",
       "tc                      0.667464\n",
       "tc_dist                 0.301638\n",
       "key_name_acc            0.350000\n",
       "key_mode_acc            0.620000\n",
       "tempo                 236.326531\n",
       "tempo_dist             47.279506\n",
       "duration_dist           9.016250\n",
       "note_density_ratio      1.277002\n",
       "dtype: float64"
      ]
     },
     "execution_count": 24,
     "metadata": {},
     "output_type": "execute_result"
    }
   ],
   "source": [
    "targets = '../../assets/data/processed/warbler/eval_targets.txt'\n",
    "predicted = '../../assets/trained_models/rhythm_3/eval/predictions.txt.1803'\n",
    "save_scores_as = 'scores.1803.csv' # Provide file name, not a path. File will be saved to eval dir.\n",
    "\n",
    "s = evaluator.Evaluator(targets, predicted)\n",
    "s.get(to_csv_name=save_scores_as)"
   ]
  },
  {
   "cell_type": "code",
   "execution_count": 37,
   "metadata": {},
   "outputs": [
    {
     "name": "stdout",
     "output_type": "stream",
     "text": [
      "INFO: Crunching...\n",
      "INFO: BLEU done.\n",
      "INFO: ROUGE done.\n",
      "WARN: Failed to infer beat from track at index 188.\n",
      "WARN: Failed to infer beat from track at index 197.\n",
      "WARN: Failed to infer beat from track at index 204.\n",
      "WARN: Failed to infer beat from track at index 205.\n",
      "WARN: Failed to infer beat from track at index 206.\n",
      "WARN: Failed to infer beat from track at index 209.\n",
      "WARN: Failed to infer beat from track at index 211.\n",
      "WARN: Failed to infer beat from track at index 212.\n",
      "WARN: Failed to infer beat from track at index 213.\n",
      "WARN: Failed to infer beat from track at index 215.\n",
      "WARN: Failed to convert MIDI predicted at index 291 to Music21 stream.\n",
      "WARN: Failed to infer beat from track at index 291.\n",
      "WARN: Failed to convert MIDI predicted at index 292 to Music21 stream.\n",
      "WARN: Failed to infer beat from track at index 292.\n",
      "WARN: Failed to convert MIDI predicted at index 299 to Music21 stream.\n",
      "WARN: Failed to infer beat from track at index 299.\n",
      "WARN: Failed to convert MIDI predicted at index 300 to Music21 stream.\n",
      "WARN: Failed to infer beat from track at index 300.\n",
      "WARN: Failed to convert MIDI predicted at index 323 to Music21 stream.\n",
      "WARN: Failed to infer beat from track at index 323.\n",
      "WARN: Failed to convert MIDI predicted at index 324 to Music21 stream.\n",
      "WARN: Failed to infer beat from track at index 324.\n",
      "WARN: Failed to infer beat from track at index 434.\n",
      "WARN: Failed to infer beat from track at index 443.\n",
      "WARN: Failed to infer beat from track at index 542.\n",
      "WARN: Failed to infer beat from track at index 556.\n",
      "WARN: Failed to infer beat from track at index 570.\n",
      "WARN: Failed to infer beat from track at index 576.\n",
      "WARN: Failed to infer beat from track at index 584.\n",
      "WARN: Failed to infer beat from track at index 590.\n",
      "WARN: Failed to infer beat from track at index 598.\n",
      "INFO: MusicScores done.\n",
      "INFO: Saved as ../../assets/trained_models/best_1/eval/scores.13568.csv\n"
     ]
    },
    {
     "data": {
      "text/plain": [
       "bleu                   14.720000\n",
       "rouge-1_f               0.622310\n",
       "rouge-1_p               0.845637\n",
       "rouge-1_r               0.514804\n",
       "rouge-2_f               0.339998\n",
       "rouge-2_p               0.485871\n",
       "rouge-2_r               0.277894\n",
       "rouge-l_f               0.532484\n",
       "rouge-l_p               0.802096\n",
       "rouge-l_r               0.488360\n",
       "cc                      0.802887\n",
       "cc_dist                 0.080043\n",
       "tc                      1.273835\n",
       "tc_dist                 0.377500\n",
       "key_name_acc            0.470588\n",
       "key_mode_acc            0.650327\n",
       "tempo                 179.291693\n",
       "tempo_dist             28.931635\n",
       "duration_dist           7.246528\n",
       "note_density_ratio      0.590535\n",
       "dtype: float64"
      ]
     },
     "execution_count": 37,
     "metadata": {},
     "output_type": "execute_result"
    }
   ],
   "source": [
    "targets = '../../assets/data/processed/hummingbird/eval_targets.txt'\n",
    "predicted = '../../assets/trained_models/best_1/eval/predictions.txt.13568'\n",
    "save_scores_as = 'scores.13568.csv' # Provide file name, not a path. File will be saved to eval dir.\n",
    "\n",
    "s = evaluator.Evaluator(targets, predicted)\n",
    "s.get(to_csv_name=save_scores_as)"
   ]
  },
  {
   "cell_type": "code",
   "execution_count": null,
   "metadata": {},
   "outputs": [],
   "source": []
  },
  {
   "cell_type": "code",
   "execution_count": null,
   "metadata": {},
   "outputs": [],
   "source": []
  },
  {
   "cell_type": "code",
   "execution_count": null,
   "metadata": {},
   "outputs": [],
   "source": []
  },
  {
   "cell_type": "code",
   "execution_count": null,
   "metadata": {},
   "outputs": [],
   "source": []
  },
  {
   "cell_type": "code",
   "execution_count": null,
   "metadata": {},
   "outputs": [],
   "source": []
  },
  {
   "cell_type": "code",
   "execution_count": null,
   "metadata": {},
   "outputs": [],
   "source": []
  },
  {
   "cell_type": "code",
   "execution_count": null,
   "metadata": {},
   "outputs": [],
   "source": []
  },
  {
   "cell_type": "code",
   "execution_count": null,
   "metadata": {},
   "outputs": [],
   "source": []
  },
  {
   "cell_type": "markdown",
   "metadata": {},
   "source": [
    "# Scores"
   ]
  },
  {
   "cell_type": "code",
   "execution_count": 32,
   "metadata": {},
   "outputs": [
    {
     "name": "stdout",
     "output_type": "stream",
     "text": [
      "INFO: Crunching...\n",
      "INFO: BLEU done.\n",
      "INFO: ROUGE done.\n",
      "WARN: Failed to infer beat from track at index 44.\n",
      "WARN: Failed to infer beat from track at index 125.\n",
      "WARN: Failed to infer beat from track at index 126.\n",
      "INFO: MusicScores done.\n"
     ]
    },
    {
     "data": {
      "text/plain": [
       "bleu                   16.080000\n",
       "rouge-1_f               0.477475\n",
       "rouge-1_p               0.854636\n",
       "rouge-1_r               0.341881\n",
       "rouge-2_f               0.217600\n",
       "rouge-2_p               0.538676\n",
       "rouge-2_r               0.143655\n",
       "rouge-l_f               0.353493\n",
       "rouge-l_p               0.815264\n",
       "rouge-l_r               0.325596\n",
       "cc                      0.771056\n",
       "cc_dist                 0.096994\n",
       "tc                      1.219625\n",
       "tc_dist                 0.274425\n",
       "key_name_acc            0.519231\n",
       "key_mode_acc            0.698718\n",
       "tempo                 201.882515\n",
       "tempo_dist             41.828033\n",
       "duration_dist           9.222756\n",
       "note_density_ratio      1.092636\n",
       "dtype: float64"
      ]
     },
     "execution_count": 32,
     "metadata": {},
     "output_type": "execute_result"
    }
   ],
   "source": [
    "targets = '../../assets/data/processed/plover/eval_targets.txt'\n",
    "predicted = '../../assets/trained_models/ch_2/eval/predictions.txt.1652'\n",
    "# save_scores_as = 'scores.2856.csv'\n",
    "save_scores_as = None\n",
    "\n",
    "s = evaluator.Evaluator(targets, predicted)\n",
    "s.get(to_csv_name=save_scores_as)"
   ]
  },
  {
   "cell_type": "code",
   "execution_count": 33,
   "metadata": {},
   "outputs": [
    {
     "name": "stdout",
     "output_type": "stream",
     "text": [
      "INFO: Crunching...\n",
      "INFO: BLEU done.\n",
      "INFO: ROUGE done.\n",
      "WARN: Failed to infer beat from track at index 8.\n",
      "WARN: Failed to infer beat from track at index 17.\n",
      "WARN: Failed to infer beat from track at index 40.\n",
      "WARN: Failed to infer beat from track at index 42.\n",
      "WARN: Failed to infer beat from track at index 44.\n",
      "WARN: Failed to infer beat from track at index 71.\n",
      "WARN: Failed to infer beat from track at index 72.\n",
      "WARN: Failed to infer beat from track at index 84.\n",
      "WARN: Failed to infer beat from track at index 103.\n",
      "WARN: Failed to infer beat from track at index 104.\n",
      "WARN: Failed to infer beat from track at index 123.\n",
      "WARN: Failed to infer beat from track at index 125.\n",
      "WARN: Failed to infer beat from track at index 126.\n",
      "WARN: Failed to infer beat from track at index 143.\n",
      "WARN: Failed to infer beat from track at index 154.\n",
      "INFO: MusicScores done.\n"
     ]
    },
    {
     "data": {
      "text/plain": [
       "bleu                    2.210000\n",
       "rouge-1_f               0.236201\n",
       "rouge-1_p               0.833161\n",
       "rouge-1_r               0.140832\n",
       "rouge-2_f               0.047711\n",
       "rouge-2_p               0.279377\n",
       "rouge-2_r               0.026741\n",
       "rouge-l_f               0.131430\n",
       "rouge-l_p               0.754967\n",
       "rouge-l_r               0.128043\n",
       "cc                      0.592558\n",
       "cc_dist                 0.251520\n",
       "tc                      0.705353\n",
       "tc_dist                 0.390667\n",
       "key_name_acc            0.358974\n",
       "key_mode_acc            0.660256\n",
       "tempo                 234.042553\n",
       "tempo_dist             59.657502\n",
       "duration_dist           8.664263\n",
       "note_density_ratio      0.900963\n",
       "dtype: float64"
      ]
     },
     "execution_count": 33,
     "metadata": {},
     "output_type": "execute_result"
    }
   ],
   "source": [
    "targets = '../../assets/data/processed/plover/eval_targets.txt'\n",
    "predicted = '../../assets/trained_models/ch_2/eval/inference_on_plover_eval_with_ch_3_ckpt_1838.txt'\n",
    "# save_scores_as = 'scores.2856.csv'\n",
    "save_scores_as = None\n",
    "\n",
    "s = evaluator.Evaluator(targets, predicted)\n",
    "s.get(to_csv_name=save_scores_as)"
   ]
  },
  {
   "cell_type": "code",
   "execution_count": null,
   "metadata": {},
   "outputs": [],
   "source": []
  },
  {
   "cell_type": "code",
   "execution_count": null,
   "metadata": {},
   "outputs": [],
   "source": []
  },
  {
   "cell_type": "code",
   "execution_count": null,
   "metadata": {},
   "outputs": [],
   "source": []
  },
  {
   "cell_type": "code",
   "execution_count": 34,
   "metadata": {},
   "outputs": [
    {
     "name": "stdout",
     "output_type": "stream",
     "text": [
      "INFO: Crunching...\n",
      "INFO: BLEU done.\n",
      "INFO: ROUGE done.\n",
      "WARN: Failed to convert MIDI predicted at index 0 to Music21 stream.\n",
      "WARN: Failed to infer beat from track at index 0.\n",
      "WARN: Failed to convert MIDI predicted at index 21 to Music21 stream.\n",
      "WARN: Failed to infer beat from track at index 21.\n",
      "WARN: Failed to convert MIDI predicted at index 25 to Music21 stream.\n",
      "WARN: Failed to infer beat from track at index 25.\n",
      "WARN: Failed to convert MIDI predicted at index 26 to Music21 stream.\n",
      "WARN: Failed to infer beat from track at index 26.\n",
      "WARN: Failed to infer beat from track at index 44.\n",
      "WARN: Failed to convert MIDI predicted at index 55 to Music21 stream.\n",
      "WARN: Failed to infer beat from track at index 55.\n",
      "WARN: Failed to convert MIDI predicted at index 110 to Music21 stream.\n",
      "WARN: Failed to infer beat from track at index 110.\n",
      "WARN: Failed to convert MIDI predicted at index 112 to Music21 stream.\n",
      "WARN: Failed to infer beat from track at index 112.\n",
      "WARN: Failed to convert MIDI predicted at index 122 to Music21 stream.\n",
      "WARN: Failed to infer beat from track at index 122.\n",
      "INFO: MusicScores done.\n"
     ]
    },
    {
     "data": {
      "text/plain": [
       "bleu                   12.540000\n",
       "rouge-1_f               0.445121\n",
       "rouge-1_p               0.857536\n",
       "rouge-1_r               0.319899\n",
       "rouge-2_f               0.205225\n",
       "rouge-2_p               0.591015\n",
       "rouge-2_r               0.136267\n",
       "rouge-l_f               0.327801\n",
       "rouge-l_p               0.814446\n",
       "rouge-l_r               0.302484\n",
       "cc                      0.506954\n",
       "cc_dist                 0.225618\n",
       "tc                      0.626181\n",
       "tc_dist                 0.299338\n",
       "key_name_acc            0.275641\n",
       "key_mode_acc            0.551282\n",
       "tempo                 222.572378\n",
       "tempo_dist             50.788642\n",
       "duration_dist           8.981571\n",
       "note_density_ratio      1.724307\n",
       "dtype: float64"
      ]
     },
     "execution_count": 34,
     "metadata": {},
     "output_type": "execute_result"
    }
   ],
   "source": [
    "targets = '../../assets/data/processed/swallow/eval_targets.txt'\n",
    "predicted = '../../assets/trained_models/rhythm_1/eval/predictions.txt.1698'\n",
    "# save_scores_as = 'scores.2856.csv'\n",
    "save_scores_as = None\n",
    "\n",
    "s = evaluator.Evaluator(targets, predicted)\n",
    "s.get(to_csv_name=save_scores_as)"
   ]
  },
  {
   "cell_type": "raw",
   "metadata": {},
   "source": [
    "Does suprisingly wel.. Still, can't trasnfer learning directly. The conclusion: You can enhance performance by including more difficult samples than required but on-level samples must be in the data as well. More difficult samples help improve precison – which is the weakest metric – so this is great!"
   ]
  },
  {
   "cell_type": "code",
   "execution_count": 36,
   "metadata": {},
   "outputs": [
    {
     "name": "stdout",
     "output_type": "stream",
     "text": [
      "INFO: Crunching...\n",
      "INFO: BLEU done.\n",
      "INFO: ROUGE done.\n",
      "WARN: Failed to infer beat from track at index 44.\n",
      "WARN: Failed to infer beat from track at index 133.\n",
      "WARN: Failed to infer beat from track at index 134.\n",
      "WARN: Failed to infer beat from track at index 145.\n",
      "WARN: Failed to infer beat from track at index 153.\n",
      "INFO: MusicScores done.\n"
     ]
    },
    {
     "data": {
      "text/plain": [
       "bleu                    6.130000\n",
       "rouge-1_f               0.355192\n",
       "rouge-1_p               0.890079\n",
       "rouge-1_r               0.229881\n",
       "rouge-2_f               0.122305\n",
       "rouge-2_p               0.508653\n",
       "rouge-2_r               0.072345\n",
       "rouge-l_f               0.220955\n",
       "rouge-l_p               0.821093\n",
       "rouge-l_r               0.208461\n",
       "cc                      0.514572\n",
       "cc_dist                 0.218952\n",
       "tc                      0.660075\n",
       "tc_dist                 0.270369\n",
       "key_name_acc            0.333333\n",
       "key_mode_acc            0.634615\n",
       "tempo                 235.204385\n",
       "tempo_dist             54.599961\n",
       "duration_dist           9.144231\n",
       "note_density_ratio      2.063686\n",
       "dtype: float64"
      ]
     },
     "execution_count": 36,
     "metadata": {},
     "output_type": "execute_result"
    }
   ],
   "source": [
    "targets = '../../assets/data/processed/swallow/eval_targets.txt'\n",
    "predicted = '../../assets/trained_models/rhythm_1/eval/inference_on_swallow_eval_with_rhythm_3_ckpt_1803.txt'\n",
    "# save_scores_as = 'scores.2856.csv'\n",
    "save_scores_as = None\n",
    "\n",
    "s = evaluator.Evaluator(targets, predicted)\n",
    "s.get(to_csv_name=save_scores_as)"
   ]
  },
  {
   "cell_type": "markdown",
   "metadata": {},
   "source": [
    "## Debugging"
   ]
  },
  {
   "cell_type": "raw",
   "metadata": {},
   "source": [
    "# Sanity check. Make sure the scores make sense\n",
    "# What perfect scores would look like\n",
    "targets = './data/processed/heron/eval_targets.txt'\n",
    "\n",
    "s = evaluator.Evaluator(targets, targets)\n",
    "s.get(to_csv_name=None)"
   ]
  },
  {
   "cell_type": "code",
   "execution_count": null,
   "metadata": {},
   "outputs": [],
   "source": []
  }
 ],
 "metadata": {
  "kernelspec": {
   "display_name": "Python 3",
   "language": "python",
   "name": "python3"
  },
  "language_info": {
   "codemirror_mode": {
    "name": "ipython",
    "version": 3
   },
   "file_extension": ".py",
   "mimetype": "text/x-python",
   "name": "python",
   "nbconvert_exporter": "python",
   "pygments_lexer": "ipython3",
   "version": "3.6.3"
  }
 },
 "nbformat": 4,
 "nbformat_minor": 2
}
