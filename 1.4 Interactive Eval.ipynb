{
 "cells": [
  {
   "cell_type": "code",
   "execution_count": 1,
   "metadata": {},
   "outputs": [],
   "source": [
    "from magenta.music.performance_lib import PerformanceEvent\n",
    "import magenta.music as mm\n",
    "import re"
   ]
  },
  {
   "cell_type": "code",
   "execution_count": 8,
   "metadata": {
    "collapsed": true
   },
   "outputs": [],
   "source": [
    "interactive_config = {}\n",
    "interactive_config['steps_per_second'] = 100"
   ]
  },
  {
   "cell_type": "markdown",
   "metadata": {},
   "source": [
    "# Interactive"
   ]
  },
  {
   "cell_type": "markdown",
   "metadata": {},
   "source": [
    "This notebook holds interactive controls to explore inference models qualitatively, i.e. synthesize MIDI and look at pianoroll viz."
   ]
  },
  {
   "cell_type": "markdown",
   "metadata": {},
   "source": [
    "### Creating a bundle file\n",
    "The [bundle format](https://github.com/tensorflow/magenta/blob/master/magenta/protobuf/generator.proto) is a convenient way of combining the model checkpoint, metagraph, and some metadata about the model into a single file. It is intended to make sharing pre-trained models easier. To generate a bundle, use the [create_bundle_file](https://github.com/tensorflow/magenta/blob/master/magenta/music/sequence_generator.py) method within SequenceGenerator."
   ]
  },
  {
   "cell_type": "raw",
   "metadata": {},
   "source": [
    "Output from seq2seq will be a sequence of events similar to magenta.music.Performance.\n",
    "\n",
    "We can invoke to_sequence() on a Performance which will convert it to NoteSequence Proto. magenta.music.sequence_proto_to_midi_file(generated_sequence, midi_path) can take a sequence proto and turn it into a MIDI."
   ]
  },
  {
   "cell_type": "raw",
   "metadata": {},
   "source": [
    "# Creates an HTML5 audio widget to play a sound in Colab.\n",
    "mm.notebook_utils.colab_play()\n",
    "\n",
    "\n",
    "\n",
    "# Creates an interactive pianoroll for a tensorflow.magenta.NoteSequence.\n",
    "mm.notebook_utils.plot_sequence()"
   ]
  },
  {
   "cell_type": "raw",
   "metadata": {},
   "source": [
    "\n",
    "\n",
    "mm.plot_sequence(sequence)\n",
    "\n",
    "mm.play_sequence(sequence, mm.midi_synth.fluidsynth,\n",
    "                 sf2_path='/tmp/Yamaha-C5-Salamander-JNv5.1.sf2')"
   ]
  },
  {
   "cell_type": "markdown",
   "metadata": {},
   "source": [
    "# Environment Setup\n",
    "\n",
    "Includes package installation for sequence synthesis. May take a few minutes.\n",
    "\n",
    "This Jupyter is modified from [Magenta Performance RNN Colaboratory](https://colab.research.google.com/notebooks/magenta/performance_rnn/performance_rnn.ipynb?authuser=0#scrollTo=nzGyqJja7I0O).\n",
    "\n",
    "**FILE DEPENDENCIES**\n",
    "\n",
    "* Salamander piano SoundFont. Samples by Alexander Holm [[Link](https://archive.org/details/SalamanderGrandPianoV3)]. Converted to sf2 by John Nebauer [[Link](https://sites.google.com/site/soundfonts4u)]. You can fetch those from here (591.9 MiB):\n",
    "    * `gsutil -m cp gs://download.magenta.tensorflow.org/soundfonts/Yamaha-C5-Salamander-JNv5.1.sf2 /tmp/`"
   ]
  },
  {
   "cell_type": "code",
   "execution_count": 9,
   "metadata": {
    "collapsed": true
   },
   "outputs": [],
   "source": [
    "# Hack to allow python to pick up the newly-installed fluidsynth lib.\n",
    "import ctypes.util\n",
    "def proxy_find_library(lib):\n",
    "    if lib == 'fluidsynth':\n",
    "        return 'libfluidsynth.so.1'\n",
    "    else:\n",
    "        return ctypes.util.find_library(lib)\n",
    "\n",
    "ctypes.util.find_library = proxy_find_library"
   ]
  },
  {
   "cell_type": "code",
   "execution_count": 10,
   "metadata": {
    "collapsed": true
   },
   "outputs": [],
   "source": [
    "# mm.plot_sequence(sequence)"
   ]
  },
  {
   "cell_type": "code",
   "execution_count": 11,
   "metadata": {
    "collapsed": true
   },
   "outputs": [],
   "source": [
    "class InteractiveSess():\n",
    "    def __init__(self):\n",
    "        pass\n",
    "    \n",
    "    def _parse_seq(self, seq):\n",
    "        \"\"\"\n",
    "        Args:\n",
    "            A text-like string of events (i.e. \"ON50 ON71 SHIFT50 OFF71\")\n",
    "        Returns:\n",
    "            The text converted into a NoteSequence class type.\n",
    "        \"\"\"    \n",
    "        events = seq.split()\n",
    "        \n",
    "        performance = mm.Performance(\n",
    "          steps_per_second=interactive_config['steps_per_second'])\n",
    "        \n",
    "        for event in events:\n",
    "            if re.match(r'^ON[0-9]+$', event):\n",
    "                event_type = 1         \n",
    "            elif re.match(r'^OFF[0-9]+$', event):\n",
    "                event_type = 2\n",
    "            elif re.match(r'^SHIFT[0-9]+$', event):\n",
    "                event_type = 3\n",
    "            else:\n",
    "                raise ValueError('Unknown event type: %s' % event)\n",
    "                \n",
    "            event_value = int(re.search(r'[0-9]+', event).group(0))\n",
    "            \n",
    "            event = PerformanceEvent(event_type, event_value)\n",
    "            performance.append(event)\n",
    "\n",
    "        note_seq = performance.to_sequence()\n",
    "        return note_seq\n",
    "        \n",
    "    \n",
    "    def load(self, path):\n",
    "        with open(path, 'r') as f:\n",
    "            text_seqs = f.readlines()\n",
    "            text_seqs = [l.strip() for l in text_seqs]\n",
    "            text_seq = text_seqs[0]\n",
    "            \n",
    "            print('INFO: Found {} sequences. Using the first one. The rest are ignored.'.format(len(text_seqs)))\n",
    "            \n",
    "            note_seq = self._parse_seq(text_seq)\n",
    "        return note_seq"
   ]
  },
  {
   "cell_type": "code",
   "execution_count": 12,
   "metadata": {},
   "outputs": [
    {
     "name": "stdout",
     "output_type": "stream",
     "text": [
      "INFO: Found 11 sequences. Using the first one. The rest are ignored.\n"
     ]
    }
   ],
   "source": [
    "path_to_sequence = './data/performance_seq_text/eval_arrangement_inputs.txt'\n",
    "\n",
    "interactive = InteractiveSess()\n",
    "sequence = interactive.load(path_to_sequence)"
   ]
  },
  {
   "cell_type": "code",
   "execution_count": 13,
   "metadata": {},
   "outputs": [
    {
     "data": {
      "text/html": [
       "\n",
       "    <div class=\"bk-root\">\n",
       "        <a href=\"https://bokeh.pydata.org\" target=\"_blank\" class=\"bk-logo bk-logo-small bk-logo-notebook\"></a>\n",
       "        <span id=\"912ae332-18df-46b0-869c-411da2ab2419\">Loading BokehJS ...</span>\n",
       "    </div>"
      ]
     },
     "metadata": {},
     "output_type": "display_data"
    },
    {
     "data": {
      "application/javascript": [
       "\n",
       "(function(root) {\n",
       "  function now() {\n",
       "    return new Date();\n",
       "  }\n",
       "\n",
       "  var force = true;\n",
       "\n",
       "  if (typeof (root._bokeh_onload_callbacks) === \"undefined\" || force === true) {\n",
       "    root._bokeh_onload_callbacks = [];\n",
       "    root._bokeh_is_loading = undefined;\n",
       "  }\n",
       "\n",
       "  var JS_MIME_TYPE = 'application/javascript';\n",
       "  var HTML_MIME_TYPE = 'text/html';\n",
       "  var EXEC_MIME_TYPE = 'application/vnd.bokehjs_exec.v0+json';\n",
       "  var CLASS_NAME = 'output_bokeh rendered_html';\n",
       "\n",
       "  /**\n",
       "   * Render data to the DOM node\n",
       "   */\n",
       "  function render(props, node) {\n",
       "    var script = document.createElement(\"script\");\n",
       "    node.appendChild(script);\n",
       "  }\n",
       "\n",
       "  /**\n",
       "   * Handle when an output is cleared or removed\n",
       "   */\n",
       "  function handleClearOutput(event, handle) {\n",
       "    var cell = handle.cell;\n",
       "\n",
       "    var id = cell.output_area._bokeh_element_id;\n",
       "    var server_id = cell.output_area._bokeh_server_id;\n",
       "    // Clean up Bokeh references\n",
       "    if (id !== undefined) {\n",
       "      Bokeh.index[id].model.document.clear();\n",
       "      delete Bokeh.index[id];\n",
       "    }\n",
       "\n",
       "    if (server_id !== undefined) {\n",
       "      // Clean up Bokeh references\n",
       "      var cmd = \"from bokeh.io.state import curstate; print(curstate().uuid_to_server['\" + server_id + \"'].get_sessions()[0].document.roots[0]._id)\";\n",
       "      cell.notebook.kernel.execute(cmd, {\n",
       "        iopub: {\n",
       "          output: function(msg) {\n",
       "            var element_id = msg.content.text.trim();\n",
       "            Bokeh.index[element_id].model.document.clear();\n",
       "            delete Bokeh.index[element_id];\n",
       "          }\n",
       "        }\n",
       "      });\n",
       "      // Destroy server and session\n",
       "      var cmd = \"import bokeh.io.notebook as ion; ion.destroy_server('\" + server_id + \"')\";\n",
       "      cell.notebook.kernel.execute(cmd);\n",
       "    }\n",
       "  }\n",
       "\n",
       "  /**\n",
       "   * Handle when a new output is added\n",
       "   */\n",
       "  function handleAddOutput(event, handle) {\n",
       "    var output_area = handle.output_area;\n",
       "    var output = handle.output;\n",
       "\n",
       "    // limit handleAddOutput to display_data with EXEC_MIME_TYPE content only\n",
       "    if ((output.output_type != \"display_data\") || (!output.data.hasOwnProperty(EXEC_MIME_TYPE))) {\n",
       "      return\n",
       "    }\n",
       "\n",
       "    var toinsert = output_area.element.find(\".\" + CLASS_NAME.split(' ')[0]);\n",
       "\n",
       "    if (output.metadata[EXEC_MIME_TYPE][\"id\"] !== undefined) {\n",
       "      toinsert[0].firstChild.textContent = output.data[JS_MIME_TYPE];\n",
       "      // store reference to embed id on output_area\n",
       "      output_area._bokeh_element_id = output.metadata[EXEC_MIME_TYPE][\"id\"];\n",
       "    }\n",
       "    if (output.metadata[EXEC_MIME_TYPE][\"server_id\"] !== undefined) {\n",
       "      var bk_div = document.createElement(\"div\");\n",
       "      bk_div.innerHTML = output.data[HTML_MIME_TYPE];\n",
       "      var script_attrs = bk_div.children[0].attributes;\n",
       "      for (var i = 0; i < script_attrs.length; i++) {\n",
       "        toinsert[0].firstChild.setAttribute(script_attrs[i].name, script_attrs[i].value);\n",
       "      }\n",
       "      // store reference to server id on output_area\n",
       "      output_area._bokeh_server_id = output.metadata[EXEC_MIME_TYPE][\"server_id\"];\n",
       "    }\n",
       "  }\n",
       "\n",
       "  function register_renderer(events, OutputArea) {\n",
       "\n",
       "    function append_mime(data, metadata, element) {\n",
       "      // create a DOM node to render to\n",
       "      var toinsert = this.create_output_subarea(\n",
       "        metadata,\n",
       "        CLASS_NAME,\n",
       "        EXEC_MIME_TYPE\n",
       "      );\n",
       "      this.keyboard_manager.register_events(toinsert);\n",
       "      // Render to node\n",
       "      var props = {data: data, metadata: metadata[EXEC_MIME_TYPE]};\n",
       "      render(props, toinsert[0]);\n",
       "      element.append(toinsert);\n",
       "      return toinsert\n",
       "    }\n",
       "\n",
       "    /* Handle when an output is cleared or removed */\n",
       "    events.on('clear_output.CodeCell', handleClearOutput);\n",
       "    events.on('delete.Cell', handleClearOutput);\n",
       "\n",
       "    /* Handle when a new output is added */\n",
       "    events.on('output_added.OutputArea', handleAddOutput);\n",
       "\n",
       "    /**\n",
       "     * Register the mime type and append_mime function with output_area\n",
       "     */\n",
       "    OutputArea.prototype.register_mime_type(EXEC_MIME_TYPE, append_mime, {\n",
       "      /* Is output safe? */\n",
       "      safe: true,\n",
       "      /* Index of renderer in `output_area.display_order` */\n",
       "      index: 0\n",
       "    });\n",
       "  }\n",
       "\n",
       "  // register the mime type if in Jupyter Notebook environment and previously unregistered\n",
       "  if (root.Jupyter !== undefined) {\n",
       "    var events = require('base/js/events');\n",
       "    var OutputArea = require('notebook/js/outputarea').OutputArea;\n",
       "\n",
       "    if (OutputArea.prototype.mime_types().indexOf(EXEC_MIME_TYPE) == -1) {\n",
       "      register_renderer(events, OutputArea);\n",
       "    }\n",
       "  }\n",
       "\n",
       "  \n",
       "  if (typeof (root._bokeh_timeout) === \"undefined\" || force === true) {\n",
       "    root._bokeh_timeout = Date.now() + 5000;\n",
       "    root._bokeh_failed_load = false;\n",
       "  }\n",
       "\n",
       "  var NB_LOAD_WARNING = {'data': {'text/html':\n",
       "     \"<div style='background-color: #fdd'>\\n\"+\n",
       "     \"<p>\\n\"+\n",
       "     \"BokehJS does not appear to have successfully loaded. If loading BokehJS from CDN, this \\n\"+\n",
       "     \"may be due to a slow or bad network connection. Possible fixes:\\n\"+\n",
       "     \"</p>\\n\"+\n",
       "     \"<ul>\\n\"+\n",
       "     \"<li>re-rerun `output_notebook()` to attempt to load from CDN again, or</li>\\n\"+\n",
       "     \"<li>use INLINE resources instead, as so:</li>\\n\"+\n",
       "     \"</ul>\\n\"+\n",
       "     \"<code>\\n\"+\n",
       "     \"from bokeh.resources import INLINE\\n\"+\n",
       "     \"output_notebook(resources=INLINE)\\n\"+\n",
       "     \"</code>\\n\"+\n",
       "     \"</div>\"}};\n",
       "\n",
       "  function display_loaded() {\n",
       "    var el = document.getElementById(\"912ae332-18df-46b0-869c-411da2ab2419\");\n",
       "    if (el != null) {\n",
       "      el.textContent = \"BokehJS is loading...\";\n",
       "    }\n",
       "    if (root.Bokeh !== undefined) {\n",
       "      if (el != null) {\n",
       "        el.textContent = \"BokehJS \" + root.Bokeh.version + \" successfully loaded.\";\n",
       "      }\n",
       "    } else if (Date.now() < root._bokeh_timeout) {\n",
       "      setTimeout(display_loaded, 100)\n",
       "    }\n",
       "  }\n",
       "\n",
       "\n",
       "  function run_callbacks() {\n",
       "    try {\n",
       "      root._bokeh_onload_callbacks.forEach(function(callback) { callback() });\n",
       "    }\n",
       "    finally {\n",
       "      delete root._bokeh_onload_callbacks\n",
       "    }\n",
       "    console.info(\"Bokeh: all callbacks have finished\");\n",
       "  }\n",
       "\n",
       "  function load_libs(js_urls, callback) {\n",
       "    root._bokeh_onload_callbacks.push(callback);\n",
       "    if (root._bokeh_is_loading > 0) {\n",
       "      console.log(\"Bokeh: BokehJS is being loaded, scheduling callback at\", now());\n",
       "      return null;\n",
       "    }\n",
       "    if (js_urls == null || js_urls.length === 0) {\n",
       "      run_callbacks();\n",
       "      return null;\n",
       "    }\n",
       "    console.log(\"Bokeh: BokehJS not loaded, scheduling load and callback at\", now());\n",
       "    root._bokeh_is_loading = js_urls.length;\n",
       "    for (var i = 0; i < js_urls.length; i++) {\n",
       "      var url = js_urls[i];\n",
       "      var s = document.createElement('script');\n",
       "      s.src = url;\n",
       "      s.async = false;\n",
       "      s.onreadystatechange = s.onload = function() {\n",
       "        root._bokeh_is_loading--;\n",
       "        if (root._bokeh_is_loading === 0) {\n",
       "          console.log(\"Bokeh: all BokehJS libraries loaded\");\n",
       "          run_callbacks()\n",
       "        }\n",
       "      };\n",
       "      s.onerror = function() {\n",
       "        console.warn(\"failed to load library \" + url);\n",
       "      };\n",
       "      console.log(\"Bokeh: injecting script tag for BokehJS library: \", url);\n",
       "      document.getElementsByTagName(\"head\")[0].appendChild(s);\n",
       "    }\n",
       "  };var element = document.getElementById(\"912ae332-18df-46b0-869c-411da2ab2419\");\n",
       "  if (element == null) {\n",
       "    console.log(\"Bokeh: ERROR: autoload.js configured with elementid '912ae332-18df-46b0-869c-411da2ab2419' but no matching script tag was found. \")\n",
       "    return false;\n",
       "  }\n",
       "\n",
       "  var js_urls = [\"https://cdn.pydata.org/bokeh/release/bokeh-0.12.14.min.js\", \"https://cdn.pydata.org/bokeh/release/bokeh-widgets-0.12.14.min.js\", \"https://cdn.pydata.org/bokeh/release/bokeh-tables-0.12.14.min.js\", \"https://cdn.pydata.org/bokeh/release/bokeh-gl-0.12.14.min.js\"];\n",
       "\n",
       "  var inline_js = [\n",
       "    function(Bokeh) {\n",
       "      Bokeh.set_log_level(\"info\");\n",
       "    },\n",
       "    \n",
       "    function(Bokeh) {\n",
       "      \n",
       "    },\n",
       "    function(Bokeh) {\n",
       "      console.log(\"Bokeh: injecting CSS: https://cdn.pydata.org/bokeh/release/bokeh-0.12.14.min.css\");\n",
       "      Bokeh.embed.inject_css(\"https://cdn.pydata.org/bokeh/release/bokeh-0.12.14.min.css\");\n",
       "      console.log(\"Bokeh: injecting CSS: https://cdn.pydata.org/bokeh/release/bokeh-widgets-0.12.14.min.css\");\n",
       "      Bokeh.embed.inject_css(\"https://cdn.pydata.org/bokeh/release/bokeh-widgets-0.12.14.min.css\");\n",
       "      console.log(\"Bokeh: injecting CSS: https://cdn.pydata.org/bokeh/release/bokeh-tables-0.12.14.min.css\");\n",
       "      Bokeh.embed.inject_css(\"https://cdn.pydata.org/bokeh/release/bokeh-tables-0.12.14.min.css\");\n",
       "    }\n",
       "  ];\n",
       "\n",
       "  function run_inline_js() {\n",
       "    \n",
       "    if ((root.Bokeh !== undefined) || (force === true)) {\n",
       "      for (var i = 0; i < inline_js.length; i++) {\n",
       "        inline_js[i].call(root, root.Bokeh);\n",
       "      }if (force === true) {\n",
       "        display_loaded();\n",
       "      }} else if (Date.now() < root._bokeh_timeout) {\n",
       "      setTimeout(run_inline_js, 100);\n",
       "    } else if (!root._bokeh_failed_load) {\n",
       "      console.log(\"Bokeh: BokehJS failed to load within specified timeout.\");\n",
       "      root._bokeh_failed_load = true;\n",
       "    } else if (force !== true) {\n",
       "      var cell = $(document.getElementById(\"912ae332-18df-46b0-869c-411da2ab2419\")).parents('.cell').data().cell;\n",
       "      cell.output_area.append_execute_result(NB_LOAD_WARNING)\n",
       "    }\n",
       "\n",
       "  }\n",
       "\n",
       "  if (root._bokeh_is_loading === 0) {\n",
       "    console.log(\"Bokeh: BokehJS loaded, going straight to plotting\");\n",
       "    run_inline_js();\n",
       "  } else {\n",
       "    load_libs(js_urls, function() {\n",
       "      console.log(\"Bokeh: BokehJS plotting callback run at\", now());\n",
       "      run_inline_js();\n",
       "    });\n",
       "  }\n",
       "}(window));"
      ],
      "application/vnd.bokehjs_load.v0+json": "\n(function(root) {\n  function now() {\n    return new Date();\n  }\n\n  var force = true;\n\n  if (typeof (root._bokeh_onload_callbacks) === \"undefined\" || force === true) {\n    root._bokeh_onload_callbacks = [];\n    root._bokeh_is_loading = undefined;\n  }\n\n  \n\n  \n  if (typeof (root._bokeh_timeout) === \"undefined\" || force === true) {\n    root._bokeh_timeout = Date.now() + 5000;\n    root._bokeh_failed_load = false;\n  }\n\n  var NB_LOAD_WARNING = {'data': {'text/html':\n     \"<div style='background-color: #fdd'>\\n\"+\n     \"<p>\\n\"+\n     \"BokehJS does not appear to have successfully loaded. If loading BokehJS from CDN, this \\n\"+\n     \"may be due to a slow or bad network connection. Possible fixes:\\n\"+\n     \"</p>\\n\"+\n     \"<ul>\\n\"+\n     \"<li>re-rerun `output_notebook()` to attempt to load from CDN again, or</li>\\n\"+\n     \"<li>use INLINE resources instead, as so:</li>\\n\"+\n     \"</ul>\\n\"+\n     \"<code>\\n\"+\n     \"from bokeh.resources import INLINE\\n\"+\n     \"output_notebook(resources=INLINE)\\n\"+\n     \"</code>\\n\"+\n     \"</div>\"}};\n\n  function display_loaded() {\n    var el = document.getElementById(\"912ae332-18df-46b0-869c-411da2ab2419\");\n    if (el != null) {\n      el.textContent = \"BokehJS is loading...\";\n    }\n    if (root.Bokeh !== undefined) {\n      if (el != null) {\n        el.textContent = \"BokehJS \" + root.Bokeh.version + \" successfully loaded.\";\n      }\n    } else if (Date.now() < root._bokeh_timeout) {\n      setTimeout(display_loaded, 100)\n    }\n  }\n\n\n  function run_callbacks() {\n    try {\n      root._bokeh_onload_callbacks.forEach(function(callback) { callback() });\n    }\n    finally {\n      delete root._bokeh_onload_callbacks\n    }\n    console.info(\"Bokeh: all callbacks have finished\");\n  }\n\n  function load_libs(js_urls, callback) {\n    root._bokeh_onload_callbacks.push(callback);\n    if (root._bokeh_is_loading > 0) {\n      console.log(\"Bokeh: BokehJS is being loaded, scheduling callback at\", now());\n      return null;\n    }\n    if (js_urls == null || js_urls.length === 0) {\n      run_callbacks();\n      return null;\n    }\n    console.log(\"Bokeh: BokehJS not loaded, scheduling load and callback at\", now());\n    root._bokeh_is_loading = js_urls.length;\n    for (var i = 0; i < js_urls.length; i++) {\n      var url = js_urls[i];\n      var s = document.createElement('script');\n      s.src = url;\n      s.async = false;\n      s.onreadystatechange = s.onload = function() {\n        root._bokeh_is_loading--;\n        if (root._bokeh_is_loading === 0) {\n          console.log(\"Bokeh: all BokehJS libraries loaded\");\n          run_callbacks()\n        }\n      };\n      s.onerror = function() {\n        console.warn(\"failed to load library \" + url);\n      };\n      console.log(\"Bokeh: injecting script tag for BokehJS library: \", url);\n      document.getElementsByTagName(\"head\")[0].appendChild(s);\n    }\n  };var element = document.getElementById(\"912ae332-18df-46b0-869c-411da2ab2419\");\n  if (element == null) {\n    console.log(\"Bokeh: ERROR: autoload.js configured with elementid '912ae332-18df-46b0-869c-411da2ab2419' but no matching script tag was found. \")\n    return false;\n  }\n\n  var js_urls = [\"https://cdn.pydata.org/bokeh/release/bokeh-0.12.14.min.js\", \"https://cdn.pydata.org/bokeh/release/bokeh-widgets-0.12.14.min.js\", \"https://cdn.pydata.org/bokeh/release/bokeh-tables-0.12.14.min.js\", \"https://cdn.pydata.org/bokeh/release/bokeh-gl-0.12.14.min.js\"];\n\n  var inline_js = [\n    function(Bokeh) {\n      Bokeh.set_log_level(\"info\");\n    },\n    \n    function(Bokeh) {\n      \n    },\n    function(Bokeh) {\n      console.log(\"Bokeh: injecting CSS: https://cdn.pydata.org/bokeh/release/bokeh-0.12.14.min.css\");\n      Bokeh.embed.inject_css(\"https://cdn.pydata.org/bokeh/release/bokeh-0.12.14.min.css\");\n      console.log(\"Bokeh: injecting CSS: https://cdn.pydata.org/bokeh/release/bokeh-widgets-0.12.14.min.css\");\n      Bokeh.embed.inject_css(\"https://cdn.pydata.org/bokeh/release/bokeh-widgets-0.12.14.min.css\");\n      console.log(\"Bokeh: injecting CSS: https://cdn.pydata.org/bokeh/release/bokeh-tables-0.12.14.min.css\");\n      Bokeh.embed.inject_css(\"https://cdn.pydata.org/bokeh/release/bokeh-tables-0.12.14.min.css\");\n    }\n  ];\n\n  function run_inline_js() {\n    \n    if ((root.Bokeh !== undefined) || (force === true)) {\n      for (var i = 0; i < inline_js.length; i++) {\n        inline_js[i].call(root, root.Bokeh);\n      }if (force === true) {\n        display_loaded();\n      }} else if (Date.now() < root._bokeh_timeout) {\n      setTimeout(run_inline_js, 100);\n    } else if (!root._bokeh_failed_load) {\n      console.log(\"Bokeh: BokehJS failed to load within specified timeout.\");\n      root._bokeh_failed_load = true;\n    } else if (force !== true) {\n      var cell = $(document.getElementById(\"912ae332-18df-46b0-869c-411da2ab2419\")).parents('.cell').data().cell;\n      cell.output_area.append_execute_result(NB_LOAD_WARNING)\n    }\n\n  }\n\n  if (root._bokeh_is_loading === 0) {\n    console.log(\"Bokeh: BokehJS loaded, going straight to plotting\");\n    run_inline_js();\n  } else {\n    load_libs(js_urls, function() {\n      console.log(\"Bokeh: BokehJS plotting callback run at\", now());\n      run_inline_js();\n    });\n  }\n}(window));"
     },
     "metadata": {},
     "output_type": "display_data"
    },
    {
     "data": {
      "text/html": [
       "\n",
       "<div class=\"bk-root\">\n",
       "    <div class=\"bk-plotdiv\" id=\"da74b46f-6d4b-4495-a5fa-e296f5cdaa52\"></div>\n",
       "</div>"
      ]
     },
     "metadata": {},
     "output_type": "display_data"
    },
    {
     "data": {
      "application/javascript": [
       "(function(root) {\n",
       "  function embed_document(root) {\n",
       "    \n",
       "  var docs_json = {\"a8e9c1c2-ed30-4fb8-8f8d-f0faa3a66bc6\":{\"roots\":{\"references\":[{\"attributes\":{\"source\":{\"id\":\"e1f49594-fe40-4eac-904e-b73ca827cf0b\",\"type\":\"ColumnDataSource\"}},\"id\":\"9d47be60-28e6-46b6-b967-cebd804530c3\",\"type\":\"CDSView\"},{\"attributes\":{},\"id\":\"fc5eeb2d-0557-4a48-83b3-c0f2139429fe\",\"type\":\"ResetTool\"},{\"attributes\":{\"callback\":null},\"id\":\"6e36bbb7-74ac-459f-9aff-88c582919519\",\"type\":\"DataRange1d\"},{\"attributes\":{\"callback\":null},\"id\":\"ce31f06d-4648-472e-bbf1-b927dfbbef46\",\"type\":\"DataRange1d\"},{\"attributes\":{\"plot\":{\"id\":\"4e8709f4-fc93-42c7-95c9-e30a0912871a\",\"subtype\":\"Figure\",\"type\":\"Plot\"},\"ticker\":{\"id\":\"300c25bc-f7ad-4555-baaa-6053e97e01cc\",\"type\":\"BasicTicker\"}},\"id\":\"f8a85646-53bd-4062-ba0f-1f4e005c4f9a\",\"type\":\"Grid\"},{\"attributes\":{\"plot\":null,\"text\":\"\"},\"id\":\"95ef6cd2-6030-4620-8f7f-c39aad2d9b90\",\"type\":\"Title\"},{\"attributes\":{\"bottom\":{\"field\":\"bottom\"},\"fill_alpha\":{\"field\":\"fill_alpha\"},\"fill_color\":{\"value\":\"#d53e4f\"},\"left\":{\"field\":\"start_time\"},\"right\":{\"field\":\"end_time\"},\"top\":{\"field\":\"top\"}},\"id\":\"638df0e3-c08d-4404-9432-7f309dba5113\",\"type\":\"Quad\"},{\"attributes\":{\"overlay\":{\"id\":\"0f2302bc-95a5-4066-a851-b4fcd8f8d76d\",\"type\":\"BoxAnnotation\"}},\"id\":\"ddab30dc-5f7a-4b3d-a33a-d7d1c44a77f4\",\"type\":\"BoxZoomTool\"},{\"attributes\":{\"bottom_units\":\"screen\",\"fill_alpha\":{\"value\":0.5},\"fill_color\":{\"value\":\"lightgrey\"},\"left_units\":\"screen\",\"level\":\"overlay\",\"line_alpha\":{\"value\":1.0},\"line_color\":{\"value\":\"black\"},\"line_dash\":[4,4],\"line_width\":{\"value\":2},\"plot\":null,\"render_mode\":\"css\",\"right_units\":\"screen\",\"top_units\":\"screen\"},\"id\":\"0f2302bc-95a5-4066-a851-b4fcd8f8d76d\",\"type\":\"BoxAnnotation\"},{\"attributes\":{\"active_drag\":\"auto\",\"active_inspect\":\"auto\",\"active_scroll\":\"auto\",\"active_tap\":\"auto\",\"tools\":[{\"id\":\"851a146b-858b-4db5-a2cc-2ff955e4a177\",\"type\":\"HoverTool\"},{\"id\":\"09873c8a-6820-45e4-a417-4fc15c4bb35a\",\"type\":\"PanTool\"},{\"id\":\"ddab30dc-5f7a-4b3d-a33a-d7d1c44a77f4\",\"type\":\"BoxZoomTool\"},{\"id\":\"fc5eeb2d-0557-4a48-83b3-c0f2139429fe\",\"type\":\"ResetTool\"},{\"id\":\"4001340b-e61d-4f1e-90dc-0566c4a498e2\",\"type\":\"SaveTool\"}]},\"id\":\"3f85d6f2-f966-46b2-a4a8-2b92452c0fb2\",\"type\":\"Toolbar\"},{\"attributes\":{},\"id\":\"4001340b-e61d-4f1e-90dc-0566c4a498e2\",\"type\":\"SaveTool\"},{\"attributes\":{\"axis_label\":\"pitch (MIDI)\",\"formatter\":{\"id\":\"2aaa6714-f22c-49b1-a2d0-376b2c657ea4\",\"type\":\"BasicTickFormatter\"},\"plot\":{\"id\":\"4e8709f4-fc93-42c7-95c9-e30a0912871a\",\"subtype\":\"Figure\",\"type\":\"Plot\"},\"ticker\":{\"id\":\"9e7bd591-3859-4e4f-9bd5-9ae4bfc71528\",\"type\":\"SingleIntervalTicker\"}},\"id\":\"7a77640e-9590-468e-99b5-65f799b4ba39\",\"type\":\"LinearAxis\"},{\"attributes\":{},\"id\":\"7b802c07-7b09-4b22-a69b-5c43bcdda24a\",\"type\":\"BasicTickFormatter\"},{\"attributes\":{},\"id\":\"ec483868-c409-4d35-9853-1b1785b41c99\",\"type\":\"LinearScale\"},{\"attributes\":{\"below\":[{\"id\":\"a0666b3b-7b44-4b79-a477-87821064888a\",\"type\":\"LinearAxis\"}],\"left\":[{\"id\":\"7a77640e-9590-468e-99b5-65f799b4ba39\",\"type\":\"LinearAxis\"}],\"plot_height\":200,\"plot_width\":500,\"renderers\":[{\"id\":\"a0666b3b-7b44-4b79-a477-87821064888a\",\"type\":\"LinearAxis\"},{\"id\":\"f8a85646-53bd-4062-ba0f-1f4e005c4f9a\",\"type\":\"Grid\"},{\"id\":\"7a77640e-9590-468e-99b5-65f799b4ba39\",\"type\":\"LinearAxis\"},{\"id\":\"a24747a2-9cee-4c64-9821-469db7d64bd2\",\"type\":\"Grid\"},{\"id\":\"0f2302bc-95a5-4066-a851-b4fcd8f8d76d\",\"type\":\"BoxAnnotation\"},{\"id\":\"143046f6-f9d0-4e6c-99ed-bdbf1e762df0\",\"type\":\"GlyphRenderer\"}],\"title\":{\"id\":\"95ef6cd2-6030-4620-8f7f-c39aad2d9b90\",\"type\":\"Title\"},\"toolbar\":{\"id\":\"3f85d6f2-f966-46b2-a4a8-2b92452c0fb2\",\"type\":\"Toolbar\"},\"x_range\":{\"id\":\"6e36bbb7-74ac-459f-9aff-88c582919519\",\"type\":\"DataRange1d\"},\"x_scale\":{\"id\":\"ec483868-c409-4d35-9853-1b1785b41c99\",\"type\":\"LinearScale\"},\"y_range\":{\"id\":\"ce31f06d-4648-472e-bbf1-b927dfbbef46\",\"type\":\"DataRange1d\"},\"y_scale\":{\"id\":\"7c551d12-59e3-4835-a801-218c7ff8a4ca\",\"type\":\"LinearScale\"}},\"id\":\"4e8709f4-fc93-42c7-95c9-e30a0912871a\",\"subtype\":\"Figure\",\"type\":\"Plot\"},{\"attributes\":{\"data_source\":{\"id\":\"e1f49594-fe40-4eac-904e-b73ca827cf0b\",\"type\":\"ColumnDataSource\"},\"glyph\":{\"id\":\"638df0e3-c08d-4404-9432-7f309dba5113\",\"type\":\"Quad\"},\"hover_glyph\":null,\"muted_glyph\":null,\"nonselection_glyph\":{\"id\":\"5278d10c-a2c6-40c6-aa81-79d32b50cd0e\",\"type\":\"Quad\"},\"selection_glyph\":null,\"view\":{\"id\":\"9d47be60-28e6-46b6-b967-cebd804530c3\",\"type\":\"CDSView\"}},\"id\":\"143046f6-f9d0-4e6c-99ed-bdbf1e762df0\",\"type\":\"GlyphRenderer\"},{\"attributes\":{},\"id\":\"09873c8a-6820-45e4-a417-4fc15c4bb35a\",\"type\":\"PanTool\"},{\"attributes\":{\"axis_label\":\"time (sec)\",\"formatter\":{\"id\":\"7b802c07-7b09-4b22-a69b-5c43bcdda24a\",\"type\":\"BasicTickFormatter\"},\"plot\":{\"id\":\"4e8709f4-fc93-42c7-95c9-e30a0912871a\",\"subtype\":\"Figure\",\"type\":\"Plot\"},\"ticker\":{\"id\":\"300c25bc-f7ad-4555-baaa-6053e97e01cc\",\"type\":\"BasicTicker\"}},\"id\":\"a0666b3b-7b44-4b79-a477-87821064888a\",\"type\":\"LinearAxis\"},{\"attributes\":{\"bottom\":{\"field\":\"bottom\"},\"fill_alpha\":{\"value\":0.1},\"fill_color\":{\"value\":\"#1f77b4\"},\"left\":{\"field\":\"start_time\"},\"line_alpha\":{\"value\":0.1},\"line_color\":{\"value\":\"#1f77b4\"},\"right\":{\"field\":\"end_time\"},\"top\":{\"field\":\"top\"}},\"id\":\"5278d10c-a2c6-40c6-aa81-79d32b50cd0e\",\"type\":\"Quad\"},{\"attributes\":{\"callback\":null,\"tooltips\":[[\"pitch\",\"@pitch\"],[\"program\",\"@program\"],[\"velo\",\"@velocity\"],[\"duration\",\"@duration\"],[\"start_time\",\"@start_time\"],[\"end_time\",\"@end_time\"],[\"velocity\",\"@velocity\"],[\"fill_alpha\",\"@fill_alpha\"]]},\"id\":\"851a146b-858b-4db5-a2cc-2ff955e4a177\",\"type\":\"HoverTool\"},{\"attributes\":{\"interval\":12},\"id\":\"9e7bd591-3859-4e4f-9bd5-9ae4bfc71528\",\"type\":\"SingleIntervalTicker\"},{\"attributes\":{\"dimension\":1,\"plot\":{\"id\":\"4e8709f4-fc93-42c7-95c9-e30a0912871a\",\"subtype\":\"Figure\",\"type\":\"Plot\"},\"ticker\":{\"id\":\"a5f58df2-72b9-4aa2-bd17-a221d57146cb\",\"type\":\"SingleIntervalTicker\"}},\"id\":\"a24747a2-9cee-4c64-9821-469db7d64bd2\",\"type\":\"Grid\"},{\"attributes\":{},\"id\":\"2aaa6714-f22c-49b1-a2d0-376b2c657ea4\",\"type\":\"BasicTickFormatter\"},{\"attributes\":{\"callback\":null,\"column_names\":[\"bottom\",\"duration\",\"end_time\",\"fill_alpha\",\"instrument\",\"pitch\",\"program\",\"start_time\",\"top\",\"velocity\",\"index\"],\"data\":{\"bottom\":{\"__ndarray__\":\"ZmZmZmamUUBmZmZmZiZRQGZmZmZmJlFAZmZmZmZmUEBmZmZmZmZQQGZmZmZmJlFAZmZmZmZmUEDNzMzMzMxIQM3MzMzMzEpAzczMzMxMTEDNzMzMzMxPQM3MzMzMzE5AZmZmZmZmUEDNzMzMzMxIQM3MzMzMzEpAzczMzMxMTEBmZmZmZiZRQGZmZmZmplFAZmZmZmYmUUBmZmZmZiZRQGZmZmZmZlBAZmZmZmZmUEBmZmZmZiZRQGZmZmZmZlBAzczMzMzMSEDNzMzMzMxKQM3MzMzMTE1AzczMzMzMT0DNzMzMzMxOQM3MzMzMzE5AZmZmZmYmUUDNzMzMzMxIQM3MzMzMzEpAzczMzMxMTUBmZmZmZmZQQM3MzMzMzE5AZmZmZmYmUUBmZmZmZmZQQM3MzMzMzE5AZmZmZmYmUUDNzMzMzMxIQM3MzMzMTEtAzczMzMxMTUBmZmZmZmZQQGZmZmZmZlBAZmZmZmZmUEBmZmZmZmZQQM3MzMzMzE9AzczMzMzMTkDNzMzMzMxOQM3MzMzMzEhAzczMzMzMSUDNzMzMzExMQM3MzMzMzE5AZmZmZmamUUBmZmZmZiZRQGZmZmZmZlBAZmZmZmZmUEBmZmZmZiZRQGZmZmZmZlBAzczMzMzMSEDNzMzMzMxKQM3MzMzMTExAzczMzMzMT0DNzMzMzMxOQM3MzMzMzEhAzczMzMzMSkDNzMzMzExMQGZmZmZmZlBAzczMzMzMSUDNzMzMzExMQM3MzMzMTE5AZmZmZmYmUUBmZmZmZqZRQGZmZmZmplFAZmZmZmamUUBmZmZmZiZRQGZmZmZmZlBAZmZmZmYmUUBmZmZmZmZQQM3MzMzMzEhAzczMzMzMSkDNzMzMzExNQM3MzMzMzE9AzczMzMzMTkDNzMzMzMxOQGZmZmZmJlFAzczMzMzMSEDNzMzMzMxKQM3MzMzMTE1AZmZmZmZmUEDNzMzMzMxOQGZmZmZmJlFAZmZmZmZmUEDNzMzMzMxOQGZmZmZmJlFAzczMzMzMSEDNzMzMzExLQM3MzMzMTE1AZmZmZmZmUEBmZmZmZmZQQGZmZmZmZlBAZmZmZmZmUEDNzMzMzMxPQM3MzMzMzE5AzczMzMzMTkDNzMzMzMxIQM3MzMzMzElAzczMzMxMTEDNzMzMzMxOQM3MzMzMzEhAzczMzMzMSkDNzMzMzExMQM3MzMzMzEhAzczMzMzMSkDNzMzMzExMQM3MzMzMzElAzczMzMxMTEDNzMzMzExOQM3MzMzMzEhAzczMzMzMSkDNzMzMzExNQM3MzMzMzE5AZmZmZmYmUUDNzMzMzMxIQM3MzMzMzEpAzczMzMxMTUBmZmZmZmZQQM3MzMzMzE5AZmZmZmYmUUBmZmZmZmZQQM3MzMzMzE5AZmZmZmYmUUDNzMzMzMxIQM3MzMzMTEtAzczMzMxMTUBmZmZmZmZQQGZmZmZmZlBAZmZmZmZmUEDNzMzMzMxPQM3MzMzMzEhAzczMzMzMSUDNzMzMzExMQM3MzMzMzE5A\",\"dtype\":\"float64\",\"shape\":[144]},\"duration\":{\"__ndarray__\":\"AAAAAAAA0D8AAAAAAADQPwAAAAAAANA/AAAAAAAA0D8AAAAAAADQPwAAAAAAANA/AAAAAAAA0D8AAAAAAAAAQAAAAAAAAABAAAAAAAAAAEAAAAAAAADQPwAAAAAAAPA/AAAAAAAA0D8AAAAAAAAAQAAAAAAAAABAAAAAAAAAAEAAAAAAAADQPwAAAAAAANA/AAAAAAAA0D8AAAAAAADQPwAAAAAAANA/AAAAAAAA0D8AAAAAAADQPwAAAAAAANA/AAAAAAAAAEAAAAAAAAAAQAAAAAAAAABAAAAAAAAA0D8AAAAAAADwPwAAAAAAANA/AAAAAAAA0D8AAAAAAAAAQAAAAAAAAABAAAAAAAAAAEAAAAAAAADQPwAAAAAAANA/AAAAAAAA0D8AAAAAAADQPwAAAAAAANA/AAAAAAAA0D8AAAAAAAAAQAAAAAAAAABAAAAAAAAAAEAAAAAAAADQPwAAAAAAANA/AAAAAAAA0D8AAAAAAADQPwAAAAAAANA/AAAAAAAA0D8AAAAAAADQPwAAAAAAAABAAAAAAAAAAEAAAAAAAAAAQAAAAAAAANA/AAAAAAAA0D8AAAAAAADQPwAAAAAAANA/AAAAAAAA0D8AAAAAAADQPwAAAAAAANA/AAAAAAAAAEAAAAAAAAAAQAAAAAAAAABAAAAAAAAA0D8AAAAAAADwPwAAAAAAAPg/AAAAAAAA+D8AAAAAAAD4PwAAAAAAANA/AAAAAAAA4D8AAAAAAADgPwAAAAAAAOA/AAAAAAAA0D8AAAAAAADQPwAAAAAAANA/AAAAAAAA0D8AAAAAAADQPwAAAAAAANA/AAAAAAAA0D8AAAAAAADQPwAAAAAAAABAAAAAAAAAAEAAAAAAAAAAQAAAAAAAANA/AAAAAAAA8D8AAAAAAADQPwAAAAAAANA/AAAAAAAAAEAAAAAAAAAAQAAAAAAAAABAAAAAAAAA0D8AAAAAAADQPwAAAAAAANA/AAAAAAAA0D8AAAAAAADQPwAAAAAAANA/AAAAAAAAAEAAAAAAAAAAQAAAAAAAAABAAAAAAAAA0D8AAAAAAADQPwAAAAAAANA/AAAAAAAA0D8AAAAAAADQPwAAAAAAANA/AAAAAAAA0D8AAAAAAAAAQAAAAAAAAABAAAAAAAAAAEAAAAAAAADQPwAAAAAAAABAAAAAAAAAAEAAAAAAAAAAQAAAAAAAAPg/AAAAAAAA+D8AAAAAAAD4PwAAAAAAAOA/AAAAAAAA4D8AAAAAAADgPwAAAAAAAABAAAAAAAAAAEAAAAAAAAAAQAAAAAAAANA/AAAAAAAA0D8AAAAAAAAAQAAAAAAAAABAAAAAAAAAAEAAAAAAAADQPwAAAAAAANA/AAAAAAAA0D8AAAAAAADQPwAAAAAAANA/AAAAAAAA0D8AAAAAAAAAQAAAAAAAAABAAAAAAAAAAEAAAAAAAADQPwAAAAAAANA/AAAAAAAA4D8AAAAAAADQPwAAAAAAAABAAAAAAAAAAEAAAAAAAAAAQAAAAAAAANA/\",\"dtype\":\"float64\",\"shape\":[144]},\"end_time\":{\"__ndarray__\":\"AAAAAAAA0D8AAAAAAADgPwAAAAAAAOg/AAAAAAAA8D8AAAAAAAD0PwAAAAAAAPg/AAAAAAAA/D8AAAAAAAAAQAAAAAAAAABAAAAAAAAAAEAAAAAAAAAAQAAAAAAAAAhAAAAAAAAADkAAAAAAAAAQQAAAAAAAABBAAAAAAAAAEEAAAAAAAAAQQAAAAAAAABFAAAAAAAAAEkAAAAAAAAATQAAAAAAAABRAAAAAAAAAFUAAAAAAAAAWQAAAAAAAABdAAAAAAAAAGEAAAAAAAAAYQAAAAAAAABhAAAAAAAAAGEAAAAAAAAAcQAAAAAAAAB5AAAAAAAAAH0AAAAAAAAAgQAAAAAAAACBAAAAAAAAAIEAAAAAAAAAgQAAAAAAAACFAAAAAAACAIUAAAAAAAAAiQAAAAAAAACNAAAAAAACAI0AAAAAAAAAkQAAAAAAAACRAAAAAAAAAJEAAAAAAAAAkQAAAAAAAgCRAAAAAAAAAJUAAAAAAAIAlQAAAAAAAACZAAAAAAAAAJ0AAAAAAAIAnQAAAAAAAAChAAAAAAAAAKEAAAAAAAAAoQAAAAAAAAChAAAAAAAAAKUAAAAAAAIApQAAAAAAAACpAAAAAAACAKkAAAAAAAAArQAAAAAAAgCtAAAAAAAAALEAAAAAAAAAsQAAAAAAAACxAAAAAAAAALEAAAAAAAAAuQAAAAAAAAC9AAAAAAAAAL0AAAAAAAAAvQAAAAAAAgC9AAAAAAAAAMEAAAAAAAAAwQAAAAAAAADBAAAAAAAAAMEAAAAAAAEAwQAAAAAAAgDBAAAAAAADAMEAAAAAAAAAxQAAAAAAAQDFAAAAAAACAMUAAAAAAAMAxQAAAAAAAADJAAAAAAAAAMkAAAAAAAAAyQAAAAAAAADJAAAAAAAAAM0AAAAAAAIAzQAAAAAAAwDNAAAAAAAAANEAAAAAAAAA0QAAAAAAAADRAAAAAAAAANEAAAAAAAIA0QAAAAAAAwDRAAAAAAAAANUAAAAAAAIA1QAAAAAAAwDVAAAAAAAAANkAAAAAAAAA2QAAAAAAAADZAAAAAAAAANkAAAAAAAEA2QAAAAAAAgDZAAAAAAADANkAAAAAAAAA3QAAAAAAAgDdAAAAAAADAN0AAAAAAAAA4QAAAAAAAADhAAAAAAAAAOEAAAAAAAAA4QAAAAAAAADpAAAAAAAAAOkAAAAAAAAA6QAAAAAAAgDtAAAAAAACAO0AAAAAAAIA7QAAAAAAAADxAAAAAAAAAPEAAAAAAAAA8QAAAAAAAAD5AAAAAAAAAPkAAAAAAAAA+QAAAAAAAgD9AAAAAAADAP0AAAAAAAABAQAAAAAAAAEBAAAAAAAAAQEAAAAAAAABAQAAAAAAAQEBAAAAAAABgQEAAAAAAAIBAQAAAAAAAwEBAAAAAAADgQEAAAAAAAABBQAAAAAAAAEFAAAAAAAAAQUAAAAAAAABBQAAAAAAAIEFAAAAAAABgQUAAAAAAAIBBQAAAAAAAAEJAAAAAAAAAQkAAAAAAAABCQAAAAAAAAEJA\",\"dtype\":\"float64\",\"shape\":[144]},\"fill_alpha\":{\"__ndarray__\":\"AAAAAAAA8D8AAAAAAADwPwAAAAAAAPA/AAAAAAAA8D8AAAAAAADwPwAAAAAAAPA/AAAAAAAA8D8AAAAAAADwPwAAAAAAAPA/AAAAAAAA8D8AAAAAAADwPwAAAAAAAPA/AAAAAAAA8D8AAAAAAADwPwAAAAAAAPA/AAAAAAAA8D8AAAAAAADwPwAAAAAAAPA/AAAAAAAA8D8AAAAAAADwPwAAAAAAAPA/AAAAAAAA8D8AAAAAAADwPwAAAAAAAPA/AAAAAAAA8D8AAAAAAADwPwAAAAAAAPA/AAAAAAAA8D8AAAAAAADwPwAAAAAAAPA/AAAAAAAA8D8AAAAAAADwPwAAAAAAAPA/AAAAAAAA8D8AAAAAAADwPwAAAAAAAPA/AAAAAAAA8D8AAAAAAADwPwAAAAAAAPA/AAAAAAAA8D8AAAAAAADwPwAAAAAAAPA/AAAAAAAA8D8AAAAAAADwPwAAAAAAAPA/AAAAAAAA8D8AAAAAAADwPwAAAAAAAPA/AAAAAAAA8D8AAAAAAADwPwAAAAAAAPA/AAAAAAAA8D8AAAAAAADwPwAAAAAAAPA/AAAAAAAA8D8AAAAAAADwPwAAAAAAAPA/AAAAAAAA8D8AAAAAAADwPwAAAAAAAPA/AAAAAAAA8D8AAAAAAADwPwAAAAAAAPA/AAAAAAAA8D8AAAAAAADwPwAAAAAAAPA/AAAAAAAA8D8AAAAAAADwPwAAAAAAAPA/AAAAAAAA8D8AAAAAAADwPwAAAAAAAPA/AAAAAAAA8D8AAAAAAADwPwAAAAAAAPA/AAAAAAAA8D8AAAAAAADwPwAAAAAAAPA/AAAAAAAA8D8AAAAAAADwPwAAAAAAAPA/AAAAAAAA8D8AAAAAAADwPwAAAAAAAPA/AAAAAAAA8D8AAAAAAADwPwAAAAAAAPA/AAAAAAAA8D8AAAAAAADwPwAAAAAAAPA/AAAAAAAA8D8AAAAAAADwPwAAAAAAAPA/AAAAAAAA8D8AAAAAAADwPwAAAAAAAPA/AAAAAAAA8D8AAAAAAADwPwAAAAAAAPA/AAAAAAAA8D8AAAAAAADwPwAAAAAAAPA/AAAAAAAA8D8AAAAAAADwPwAAAAAAAPA/AAAAAAAA8D8AAAAAAADwPwAAAAAAAPA/AAAAAAAA8D8AAAAAAADwPwAAAAAAAPA/AAAAAAAA8D8AAAAAAADwPwAAAAAAAPA/AAAAAAAA8D8AAAAAAADwPwAAAAAAAPA/AAAAAAAA8D8AAAAAAADwPwAAAAAAAPA/AAAAAAAA8D8AAAAAAADwPwAAAAAAAPA/AAAAAAAA8D8AAAAAAADwPwAAAAAAAPA/AAAAAAAA8D8AAAAAAADwPwAAAAAAAPA/AAAAAAAA8D8AAAAAAADwPwAAAAAAAPA/AAAAAAAA8D8AAAAAAADwPwAAAAAAAPA/AAAAAAAA8D8AAAAAAADwPwAAAAAAAPA/AAAAAAAA8D8AAAAAAADwPwAAAAAAAPA/AAAAAAAA8D8AAAAAAADwPwAAAAAAAPA/\",\"dtype\":\"float64\",\"shape\":[144]},\"index\":[0,1,2,3,4,5,6,7,8,9,10,11,12,13,14,15,16,17,18,19,20,21,22,23,24,25,26,27,28,29,30,31,32,33,34,35,36,37,38,39,40,41,42,43,44,45,46,47,48,49,50,51,52,53,54,55,56,57,58,59,60,61,62,63,64,65,66,67,68,69,70,71,72,73,74,75,76,77,78,79,80,81,82,83,84,85,86,87,88,89,90,91,92,93,94,95,96,97,98,99,100,101,102,103,104,105,106,107,108,109,110,111,112,113,114,115,116,117,118,119,120,121,122,123,124,125,126,127,128,129,130,131,132,133,134,135,136,137,138,139,140,141,142,143],\"instrument\":[0,0,0,0,0,0,0,0,0,0,0,0,0,0,0,0,0,0,0,0,0,0,0,0,0,0,0,0,0,0,0,0,0,0,0,0,0,0,0,0,0,0,0,0,0,0,0,0,0,0,0,0,0,0,0,0,0,0,0,0,0,0,0,0,0,0,0,0,0,0,0,0,0,0,0,0,0,0,0,0,0,0,0,0,0,0,0,0,0,0,0,0,0,0,0,0,0,0,0,0,0,0,0,0,0,0,0,0,0,0,0,0,0,0,0,0,0,0,0,0,0,0,0,0,0,0,0,0,0,0,0,0,0,0,0,0,0,0,0,0,0,0,0,0],\"pitch\":[71,69,69,66,66,69,66,50,54,57,64,62,66,50,54,57,69,71,69,69,66,66,69,66,50,54,59,64,62,62,69,50,54,59,66,62,69,66,62,69,50,55,59,66,66,66,66,64,62,62,50,52,57,62,71,69,66,66,69,66,50,54,57,64,62,50,54,57,66,52,57,61,69,71,71,71,69,66,69,66,50,54,59,64,62,62,69,50,54,59,66,62,69,66,62,69,50,55,59,66,66,66,66,64,62,62,50,52,57,62,50,54,57,50,54,57,52,57,61,50,54,59,62,69,50,54,59,66,62,69,66,62,69,50,55,59,66,66,66,64,50,52,57,62],\"program\":[0,0,0,0,0,0,0,0,0,0,0,0,0,0,0,0,0,0,0,0,0,0,0,0,0,0,0,0,0,0,0,0,0,0,0,0,0,0,0,0,0,0,0,0,0,0,0,0,0,0,0,0,0,0,0,0,0,0,0,0,0,0,0,0,0,0,0,0,0,0,0,0,0,0,0,0,0,0,0,0,0,0,0,0,0,0,0,0,0,0,0,0,0,0,0,0,0,0,0,0,0,0,0,0,0,0,0,0,0,0,0,0,0,0,0,0,0,0,0,0,0,0,0,0,0,0,0,0,0,0,0,0,0,0,0,0,0,0,0,0,0,0,0,0],\"start_time\":{\"__ndarray__\":\"AAAAAAAAAAAAAAAAAADQPwAAAAAAAOA/AAAAAAAA6D8AAAAAAADwPwAAAAAAAPQ/AAAAAAAA+D8AAAAAAAAAAAAAAAAAAAAAAAAAAAAAAAAAAAAAAAD8PwAAAAAAAABAAAAAAAAADEAAAAAAAAAAQAAAAAAAAABAAAAAAAAAAEAAAAAAAAAOQAAAAAAAABBAAAAAAAAAEUAAAAAAAAASQAAAAAAAABNAAAAAAAAAFEAAAAAAAAAVQAAAAAAAABZAAAAAAAAAEEAAAAAAAAAQQAAAAAAAABBAAAAAAAAAF0AAAAAAAAAYQAAAAAAAAB1AAAAAAAAAHkAAAAAAAAAYQAAAAAAAABhAAAAAAAAAGEAAAAAAAAAfQAAAAAAAgCBAAAAAAAAAIUAAAAAAAIAhQAAAAAAAgCJAAAAAAAAAI0AAAAAAAAAgQAAAAAAAACBAAAAAAAAAIEAAAAAAAIAjQAAAAAAAACRAAAAAAACAJEAAAAAAAAAlQAAAAAAAgCVAAAAAAACAJkAAAAAAAAAnQAAAAAAAACRAAAAAAAAAJEAAAAAAAAAkQAAAAAAAgCdAAAAAAACAKEAAAAAAAAApQAAAAAAAgClAAAAAAAAAKkAAAAAAAIAqQAAAAAAAACtAAAAAAAAAKEAAAAAAAAAoQAAAAAAAAChAAAAAAACAK0AAAAAAAAAsQAAAAAAAACxAAAAAAAAALEAAAAAAAAAsQAAAAAAAAC9AAAAAAAAAL0AAAAAAAAAvQAAAAAAAAC9AAAAAAACAL0AAAAAAAAAwQAAAAAAAQDBAAAAAAACAMEAAAAAAAMAwQAAAAAAAADFAAAAAAABAMUAAAAAAAIAxQAAAAAAAADBAAAAAAAAAMEAAAAAAAAAwQAAAAAAAwDFAAAAAAAAAMkAAAAAAAEAzQAAAAAAAgDNAAAAAAAAAMkAAAAAAAAAyQAAAAAAAADJAAAAAAADAM0AAAAAAAEA0QAAAAAAAgDRAAAAAAADANEAAAAAAAEA1QAAAAAAAgDVAAAAAAAAANEAAAAAAAAA0QAAAAAAAADRAAAAAAADANUAAAAAAAAA2QAAAAAAAQDZAAAAAAACANkAAAAAAAMA2QAAAAAAAQDdAAAAAAACAN0AAAAAAAAA2QAAAAAAAADZAAAAAAAAANkAAAAAAAMA3QAAAAAAAADhAAAAAAAAAOEAAAAAAAAA4QAAAAAAAADpAAAAAAAAAOkAAAAAAAAA6QAAAAAAAgDtAAAAAAACAO0AAAAAAAIA7QAAAAAAAADxAAAAAAAAAPEAAAAAAAAA8QAAAAAAAQD9AAAAAAACAP0AAAAAAAAA+QAAAAAAAAD5AAAAAAAAAPkAAAAAAAMA/QAAAAAAAIEBAAAAAAABAQEAAAAAAAGBAQAAAAAAAoEBAAAAAAADAQEAAAAAAAABAQAAAAAAAAEBAAAAAAAAAQEAAAAAAAOBAQAAAAAAAAEFAAAAAAAAgQUAAAAAAAGBBQAAAAAAAAEFAAAAAAAAAQUAAAAAAAABBQAAAAAAA4EFA\",\"dtype\":\"float64\",\"shape\":[144]},\"top\":{\"__ndarray__\":\"mpmZmZnZUUCamZmZmVlRQJqZmZmZWVFAmpmZmZmZUECamZmZmZlQQJqZmZmZWVFAmpmZmZmZUEAzMzMzMzNJQDMzMzMzM0tAMzMzMzOzTECamZmZmRlQQDMzMzMzM09AmpmZmZmZUEAzMzMzMzNJQDMzMzMzM0tAMzMzMzOzTECamZmZmVlRQJqZmZmZ2VFAmpmZmZlZUUCamZmZmVlRQJqZmZmZmVBAmpmZmZmZUECamZmZmVlRQJqZmZmZmVBAMzMzMzMzSUAzMzMzMzNLQDMzMzMzs01AmpmZmZkZUEAzMzMzMzNPQDMzMzMzM09AmpmZmZlZUUAzMzMzMzNJQDMzMzMzM0tAMzMzMzOzTUCamZmZmZlQQDMzMzMzM09AmpmZmZlZUUCamZmZmZlQQDMzMzMzM09AmpmZmZlZUUAzMzMzMzNJQDMzMzMzs0tAMzMzMzOzTUCamZmZmZlQQJqZmZmZmVBAmpmZmZmZUECamZmZmZlQQJqZmZmZGVBAMzMzMzMzT0AzMzMzMzNPQDMzMzMzM0lAMzMzMzMzSkAzMzMzM7NMQDMzMzMzM09AmpmZmZnZUUCamZmZmVlRQJqZmZmZmVBAmpmZmZmZUECamZmZmVlRQJqZmZmZmVBAMzMzMzMzSUAzMzMzMzNLQDMzMzMzs0xAmpmZmZkZUEAzMzMzMzNPQDMzMzMzM0lAMzMzMzMzS0AzMzMzM7NMQJqZmZmZmVBAMzMzMzMzSkAzMzMzM7NMQDMzMzMzs05AmpmZmZlZUUCamZmZmdlRQJqZmZmZ2VFAmpmZmZnZUUCamZmZmVlRQJqZmZmZmVBAmpmZmZlZUUCamZmZmZlQQDMzMzMzM0lAMzMzMzMzS0AzMzMzM7NNQJqZmZmZGVBAMzMzMzMzT0AzMzMzMzNPQJqZmZmZWVFAMzMzMzMzSUAzMzMzMzNLQDMzMzMzs01AmpmZmZmZUEAzMzMzMzNPQJqZmZmZWVFAmpmZmZmZUEAzMzMzMzNPQJqZmZmZWVFAMzMzMzMzSUAzMzMzM7NLQDMzMzMzs01AmpmZmZmZUECamZmZmZlQQJqZmZmZmVBAmpmZmZmZUECamZmZmRlQQDMzMzMzM09AMzMzMzMzT0AzMzMzMzNJQDMzMzMzM0pAMzMzMzOzTEAzMzMzMzNPQDMzMzMzM0lAMzMzMzMzS0AzMzMzM7NMQDMzMzMzM0lAMzMzMzMzS0AzMzMzM7NMQDMzMzMzM0pAMzMzMzOzTEAzMzMzM7NOQDMzMzMzM0lAMzMzMzMzS0AzMzMzM7NNQDMzMzMzM09AmpmZmZlZUUAzMzMzMzNJQDMzMzMzM0tAMzMzMzOzTUCamZmZmZlQQDMzMzMzM09AmpmZmZlZUUCamZmZmZlQQDMzMzMzM09AmpmZmZlZUUAzMzMzMzNJQDMzMzMzs0tAMzMzMzOzTUCamZmZmZlQQJqZmZmZmVBAmpmZmZmZUECamZmZmRlQQDMzMzMzM0lAMzMzMzMzSkAzMzMzM7NMQDMzMzMzM09A\",\"dtype\":\"float64\",\"shape\":[144]},\"velocity\":[100,100,100,100,100,100,100,100,100,100,100,100,100,100,100,100,100,100,100,100,100,100,100,100,100,100,100,100,100,100,100,100,100,100,100,100,100,100,100,100,100,100,100,100,100,100,100,100,100,100,100,100,100,100,100,100,100,100,100,100,100,100,100,100,100,100,100,100,100,100,100,100,100,100,100,100,100,100,100,100,100,100,100,100,100,100,100,100,100,100,100,100,100,100,100,100,100,100,100,100,100,100,100,100,100,100,100,100,100,100,100,100,100,100,100,100,100,100,100,100,100,100,100,100,100,100,100,100,100,100,100,100,100,100,100,100,100,100,100,100,100,100,100,100]}},\"id\":\"e1f49594-fe40-4eac-904e-b73ca827cf0b\",\"type\":\"ColumnDataSource\"},{\"attributes\":{},\"id\":\"7c551d12-59e3-4835-a801-218c7ff8a4ca\",\"type\":\"LinearScale\"},{\"attributes\":{\"interval\":12},\"id\":\"a5f58df2-72b9-4aa2-bd17-a221d57146cb\",\"type\":\"SingleIntervalTicker\"},{\"attributes\":{},\"id\":\"300c25bc-f7ad-4555-baaa-6053e97e01cc\",\"type\":\"BasicTicker\"}],\"root_ids\":[\"4e8709f4-fc93-42c7-95c9-e30a0912871a\"]},\"title\":\"Bokeh Application\",\"version\":\"0.12.14\"}};\n",
       "  var render_items = [{\"docid\":\"a8e9c1c2-ed30-4fb8-8f8d-f0faa3a66bc6\",\"elementid\":\"da74b46f-6d4b-4495-a5fa-e296f5cdaa52\",\"modelid\":\"4e8709f4-fc93-42c7-95c9-e30a0912871a\"}];\n",
       "  root.Bokeh.embed.embed_items_notebook(docs_json, render_items);\n",
       "\n",
       "  }\n",
       "  if (root.Bokeh !== undefined) {\n",
       "    embed_document(root);\n",
       "  } else {\n",
       "    var attempts = 0;\n",
       "    var timer = setInterval(function(root) {\n",
       "      if (root.Bokeh !== undefined) {\n",
       "        embed_document(root);\n",
       "        clearInterval(timer);\n",
       "      }\n",
       "      attempts++;\n",
       "      if (attempts > 100) {\n",
       "        console.log(\"Bokeh: ERROR: Unable to run BokehJS code because BokehJS library is missing\")\n",
       "        clearInterval(timer);\n",
       "      }\n",
       "    }, 10, root)\n",
       "  }\n",
       "})(window);"
      ],
      "application/vnd.bokehjs_exec.v0+json": ""
     },
     "metadata": {
      "application/vnd.bokehjs_exec.v0+json": {
       "id": "4e8709f4-fc93-42c7-95c9-e30a0912871a"
      }
     },
     "output_type": "display_data"
    }
   ],
   "source": [
    "mm.plot_sequence(sequence)\n",
    "\n",
    "# Try line below if above doesn't work\n",
    "# mm.notebook_utils.plot_sequence(sequence)"
   ]
  },
  {
   "cell_type": "code",
   "execution_count": 18,
   "metadata": {},
   "outputs": [
    {
     "name": "stderr",
     "output_type": "stream",
     "text": [
      "IOPub data rate exceeded.\n",
      "The notebook server will temporarily stop sending output\n",
      "to the client in order to avoid crashing it.\n",
      "To change this limit, set the config variable\n",
      "`--NotebookApp.iopub_data_rate_limit`.\n"
     ]
    }
   ],
   "source": [
    "# mm.play_sequence(sequence, mm.midi_synth.fluidsynth,\n",
    "#                  sf2_path='./tmp/Yamaha-C5-Salamander-JNv5.1.sf2')\n",
    "\n",
    "\n",
    "# Synthesizes audio from a music_pb2.NoteSequence using a waveform.\n",
    "# mm.midi_synth(sequence)\n",
    "\n",
    "# Creates an interactive player for a synthesized note sequence.\n",
    "# Lower sound quality than `fluidsynth` with a good SoundFont.\n",
    "mm.notebook_utils.play_sequence(sequence)"
   ]
  },
  {
   "cell_type": "code",
   "execution_count": 17,
   "metadata": {},
   "outputs": [],
   "source": [
    "import fluidsynth\n",
    "fs = fluidsynth.Synth()"
   ]
  },
  {
   "cell_type": "code",
   "execution_count": null,
   "metadata": {
    "collapsed": true
   },
   "outputs": [],
   "source": []
  }
 ],
 "metadata": {
  "kernelspec": {
   "display_name": "Python 3",
   "language": "python",
   "name": "python3"
  },
  "language_info": {
   "codemirror_mode": {
    "name": "ipython",
    "version": 3
   },
   "file_extension": ".py",
   "mimetype": "text/x-python",
   "name": "python",
   "nbconvert_exporter": "python",
   "pygments_lexer": "ipython3",
   "version": "3.6.3"
  }
 },
 "nbformat": 4,
 "nbformat_minor": 2
}
