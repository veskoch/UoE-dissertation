{
 "cells": [
  {
   "cell_type": "markdown",
   "metadata": {},
   "source": [
    "This notebook holds interactive controls to explore inference models qualitatively, i.e. synthesize MIDI and look at pianoroll viz."
   ]
  },
  {
   "cell_type": "code",
   "execution_count": 2,
   "metadata": {},
   "outputs": [],
   "source": [
    "# Look at vizualizations of Sequential Neural Networks with Attention\n",
    "# https://github.com/HendrikStrobelt/Seq2Seq-Vis\n",
    "\n",
    "# Then look at Magenta for synthesizing audio, pianoroll viz, and Colab/Jupyter utils"
   ]
  },
  {
   "cell_type": "code",
   "execution_count": 1,
   "metadata": {},
   "outputs": [],
   "source": [
    "# Synthesizes audio from a music_pb2.NoteSequence using a waveform.\n",
    "from magenta.music import midi_synth"
   ]
  },
  {
   "cell_type": "raw",
   "metadata": {},
   "source": [
    "\n",
    "Output from seq2seq will be a sequence of events similar to magenta.music.Performance.\n",
    "\n",
    "We can invoke to_sequence() on a Performance which will convert it to NoteSequence Proto. magenta.music.sequence_proto_to_midi_file(generated_sequence, midi_path) can take a sequence proto and turn it into a MIDI.\n"
   ]
  },
  {
   "cell_type": "code",
   "execution_count": 68,
   "metadata": {},
   "outputs": [],
   "source": [
    "from magenta.music import notebook_utils"
   ]
  },
  {
   "cell_type": "raw",
   "metadata": {},
   "source": [
    "# Creates an HTML5 audio widget to play a sound in Colab.\n",
    "notebook_utils.colab_play()\n",
    "\n",
    "# Creates an interactive player for a synthesized note sequence.\n",
    "notebook_utils.play_sequence()\n",
    "\n",
    "# Creates an interactive pianoroll for a tensorflow.magenta.NoteSequence.\n",
    "notebook_utils.plot_sequence()"
   ]
  }
 ],
 "metadata": {
  "kernelspec": {
   "display_name": "Python 3",
   "language": "python",
   "name": "python3"
  },
  "language_info": {
   "codemirror_mode": {
    "name": "ipython",
    "version": 3
   },
   "file_extension": ".py",
   "mimetype": "text/x-python",
   "name": "python",
   "nbconvert_exporter": "python",
   "pygments_lexer": "ipython3",
   "version": "3.6.3"
  }
 },
 "nbformat": 4,
 "nbformat_minor": 2
}
