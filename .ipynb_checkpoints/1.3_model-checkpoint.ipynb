{
 "cells": [
  {
   "cell_type": "markdown",
   "metadata": {},
   "source": [
    "## Define Model\n",
    "\n",
    "Uses Open-NMT-tf:\n",
    "\n",
    "* [API refernce](http://opennmt.net/OpenNMT-tf/package/opennmt.html)\n",
    "* [GitHub](https://github.com/OpenNMT/OpenNMT-tf)"
   ]
  },
  {
   "cell_type": "code",
   "execution_count": 9,
   "metadata": {},
   "outputs": [],
   "source": [
    "import opennmt as onmt\n",
    "import tensorflow as tf"
   ]
  },
  {
   "cell_type": "code",
   "execution_count": 29,
   "metadata": {},
   "outputs": [],
   "source": [
    "def model():\n",
    "    \"\"\" \n",
    "    See https://github.com/OpenNMT/OpenNMT-tf/blob/master/opennmt/models/catalog.py\n",
    "    for examples how to define a model.\n",
    "    \"\"\"\n",
    "    return onmt.models.SequenceToSequence(\n",
    "        source_inputter = onmt.inputters.SequenceRecordInputter(),\n",
    "        target_inputter = onmt.inputters.SequenceRecordInputter(),\n",
    "        \n",
    "        encoder = onmt.encoders.BidirectionalRNNEncoder(\n",
    "            num_layers=4,\n",
    "            num_units=512,\n",
    "            reducer=onmt.layers.ConcatReducer(),\n",
    "            cell_class=tf.contrib.rnn.LSTMCell,\n",
    "            dropout=0.3,\n",
    "            residual_connections=False),\n",
    "        \n",
    "        decoder = onmt.decoders.AttentionalRNNDecoder(\n",
    "            num_layers=4,\n",
    "            num_units=512,\n",
    "            bridge=onmt.layers.CopyBridge(),\n",
    "            attention_mechanism_class=tf.contrib.seq2seq.LuongAttention,\n",
    "            cell_class=tf.contrib.rnn.LSTMCell,\n",
    "            dropout=0.3,\n",
    "            residual_connections=False)\n",
    "    )"
   ]
  },
  {
   "cell_type": "code",
   "execution_count": 28,
   "metadata": {},
   "outputs": [
    {
     "data": {
      "text/plain": [
       "<opennmt.models.sequence_to_sequence.SequenceToSequence at 0x1c1ba6a208>"
      ]
     },
     "execution_count": 28,
     "metadata": {},
     "output_type": "execute_result"
    }
   ],
   "source": [
    "model()"
   ]
  },
  {
   "cell_type": "code",
   "execution_count": null,
   "metadata": {},
   "outputs": [],
   "source": []
  },
  {
   "cell_type": "code",
   "execution_count": null,
   "metadata": {},
   "outputs": [],
   "source": []
  },
  {
   "cell_type": "code",
   "execution_count": null,
   "metadata": {},
   "outputs": [],
   "source": []
  }
 ],
 "metadata": {
  "kernelspec": {
   "display_name": "Python 3",
   "language": "python",
   "name": "python3"
  },
  "language_info": {
   "codemirror_mode": {
    "name": "ipython",
    "version": 3
   },
   "file_extension": ".py",
   "mimetype": "text/x-python",
   "name": "python",
   "nbconvert_exporter": "python",
   "pygments_lexer": "ipython3",
   "version": "3.6.3"
  }
 },
 "nbformat": 4,
 "nbformat_minor": 2
}
