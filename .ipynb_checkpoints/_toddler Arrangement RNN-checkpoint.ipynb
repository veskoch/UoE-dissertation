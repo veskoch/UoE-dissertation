{
 "cells": [
  {
   "cell_type": "code",
   "execution_count": 7,
   "metadata": {},
   "outputs": [],
   "source": [
    "# bazel build //magenta/models/melody_rnn:melody_rnn_generate\n",
    "# bazel run //magenta/models/melody_rnn:melody_rnn_generate -- --config=...\n"
   ]
  },
  {
   "cell_type": "markdown",
   "metadata": {},
   "source": [
    "# Arrangement RNN Model"
   ]
  },
  {
   "cell_type": "code",
   "execution_count": 8,
   "metadata": {},
   "outputs": [],
   "source": [
    "import collections\n",
    "import functools\n",
    "\n",
    "\n",
    "# internal imports\n",
    "\n",
    "import tensorflow as tf\n",
    "\n",
    "from magenta.models.shared import events_rnn_model\n",
    "from magenta.music.performance_lib import PerformanceEvent"
   ]
  },
  {
   "cell_type": "code",
   "execution_count": 37,
   "metadata": {},
   "outputs": [],
   "source": [
    "class ArrangementRnnModel(events_rnn_model.EventSequenceRnnModel):\n",
    "    def __init__():\n",
    "        pass\n",
    "    \n",
    "class ArrangementRnnConfig(events_rnn_model.EventSequenceRnnConfig):\n",
    "    \"\"\"Stores a configuration for a Arrangement RNN.\n",
    "\n",
    "    Attributes:\n",
    "        num_velocity_bins: Number of velocity bins to use. If 0, don't use velocity\n",
    "        at all.\n",
    "        control_signals: List of PerformanceControlSignal objects to use for\n",
    "        conditioning, or None if not conditioning on anything.\n",
    "        optional_conditioning: If True, conditioning can be disabled by setting a\n",
    "        flag as part of the conditioning input.\n",
    "    \"\"\"\n",
    "    def __init__(self, details, encoder_decoder, hparams, num_velocity_bins=0, \n",
    "                 control_signals=None, optional_conditioning=False):\n",
    "        \n",
    "        if control_signals is not None:\n",
    "            control_encoder = magenta.music.MultipleEventSequenceEncoder(\n",
    "                [control.encoder for control in control_signals])\n",
    "            if optional_conditioning:\n",
    "                control_encoder = magenta.music.OptionalEventSequenceEncoder(\n",
    "                    control_encoder)\n",
    "                encoder_decoder = magenta.music.ConditionalEventSequenceEncoderDecoder(\n",
    "                    control_encoder, encoder_decoder)\n",
    "        \n",
    "        super(ArrangementRnnConfig, self).__init__(\n",
    "            details, encoder_decoder, hparams)\n",
    "        self.num_velocity_bins = num_velocity_bins\n",
    "        self.control_signals = control_signals\n",
    "        self.optional_conditioning = optional_conditioning"
   ]
  },
  {
   "cell_type": "code",
   "execution_count": 35,
   "metadata": {},
   "outputs": [],
   "source": [
    "default_configs = {\n",
    "    'baseline': ArrangementRnnConfig(\n",
    "        magenta.protobuf.generator_pb2.GeneratorDetails(\n",
    "            id='baseline',\n",
    "            description='The baseline model for Arrangement RNN.'),\n",
    "        magenta.music.OneHotEventSequenceEncoderDecoder(\n",
    "            magenta.music.PerformanceOneHotEncoding()),\n",
    "        tf.contrib.training.HParams(\n",
    "            batch_size=64,\n",
    "            rnn_layer_sizes=[512, 512, 512],\n",
    "            dropout_keep_prob=1.0,\n",
    "            clip_norm=3,\n",
    "            learning_rate=0.001)),\n",
    "}"
   ]
  },
  {
   "cell_type": "markdown",
   "metadata": {},
   "source": [
    "# Train"
   ]
  },
  {
   "cell_type": "code",
   "execution_count": 15,
   "metadata": {},
   "outputs": [],
   "source": [
    "import os\n",
    "import tensorflow as tf\n",
    "from magenta.models.shared import events_rnn_graph\n",
    "from magenta.models.shared import events_rnn_train"
   ]
  },
  {
   "cell_type": "code",
   "execution_count": 6,
   "metadata": {},
   "outputs": [],
   "source": [
    "# Path to the directory where checkpoints and\n",
    "# summary events will be saved during training and\n",
    "# evaluation. Separate subdirectories for training\n",
    "# events and eval events will be created within\n",
    "# `run_dir`. Multiple runs can be stored within the\n",
    "# parent directory of `run_dir`. Point TensorBoard\n",
    "# to the parent directory of `run_dir` to see all\n",
    "# your runs.\n",
    "RUN_DIR = './tmp/run_logs/'\n",
    "\n",
    "CONFIG = 'baseline'\n",
    "\n",
    "# Path to TFRecord file containing \n",
    "# tf.SequenceExample records for training or \n",
    "# evaluation.\n",
    "SEQUENCE_EXAMPLE_FILE = './tmp/sequence_examples/training_performances.tfrecord'\n",
    "\n",
    "# The the number of global training steps your\n",
    "# model should take before exiting training.\n",
    "# Leave as 0 to run until terminated manually.\n",
    "NUM_TRAINING_STEPS = 0\n",
    "\n",
    "# The number of evaluation examples your model\n",
    "# should process for each evaluation step.\n",
    "# Leave as 0 to use the entire evaluation set.\n",
    "NUM_EVAL_EXAMPLES = 0\n",
    "\n",
    "# A summary statement will be logged every\n",
    "# `summary_frequency` steps during training or\n",
    "# every `summary_frequency` seconds during\n",
    "# evaluation.\n",
    "SUMMARY_FREQUENCY = 10\n",
    "\n",
    "# The number of most recent checkpoints to keep in\n",
    "# the training directory. Keeps all if 0.\n",
    "NUM_CHECKPOINTS = 10\n",
    "\n",
    "# If True, this process only evaluates the model\n",
    "# and does not update weights.\n",
    "EVAL = False\n",
    "\n",
    "# The threshold for what messages will be logged\n",
    "# DEBUG, INFO, WARN, ERROR, or FATAL.\n",
    "LOG = 'INFO'\n",
    "\n",
    "# Comma-separated list of `name=value` pairs. For\n",
    "# each pair, the value of the hyperparameter named\n",
    "# `name` is set to `value`. This mapping is merged\n",
    "# with the default hyperparameters.\n",
    "HPARAMS = ''"
   ]
  },
  {
   "cell_type": "code",
   "execution_count": 49,
   "metadata": {},
   "outputs": [],
   "source": [
    "def train():\n",
    "    tf.logging.set_verbosity(LOG)\n",
    "\n",
    "    if not RUN_DIR:\n",
    "        tf.logging.fatal('RUN_DIR required')\n",
    "        return\n",
    "    if not SEQUENCE_EXAMPLE_FILE:\n",
    "        tf.logging.fatal('SEQUENCE_EXAMPLE_FILE required')\n",
    "        return\n",
    "\n",
    "    sequence_example_file_paths = tf.gfile.Glob(\n",
    "          os.path.expanduser(SEQUENCE_EXAMPLE_FILE))\n",
    "\n",
    "    run_dir = os.path.expanduser(RUN_DIR)\n",
    "\n",
    "    config = default_configs[CONFIG]\n",
    "    config.hparams.parse(HPARAMS)\n",
    "\n",
    "    mode = 'eval' if EVAL else 'train'\n",
    "\n",
    "    # A lot of things are happening here\n",
    "    #\n",
    "    # events_rnn_graph.build_graph_fn returns a function \n",
    "    # which builds the TF ops when called. That function is later\n",
    "    # invoked from inside events_rnn_train\n",
    "    #\n",
    "    #\n",
    "    # events_rnn_graph makes a call to \n",
    "    # magenta.common.sequence_example_lib.get_padded_batch\n",
    "    # which reads batches of SequenceExamples from TFRecords and\n",
    "    # pads them to the length of the longest sequence.\n",
    "    # get_padded_batch returns tf.train.batch with\n",
    "    #     inputs:  A tensor of shape [batch_size, num_steps, input_size] of floats32s.\n",
    "    #     labels:  A tensor of shape [batch_size, num_steps] of int64s.\n",
    "    #     lengths: A tensor of shape [batch_size] of int32s. The lengths of each\n",
    "    #              SequenceExample before padding.\n",
    "    #\n",
    "    #     batch_size and input_size are arguments. input_size is the size of \n",
    "    #     each input vector.\n",
    "    #\n",
    "    build_graph_fn = events_rnn_graph.get_build_graph_fn(\n",
    "        mode, config, sequence_example_file_paths)\n",
    "\n",
    "    train_dir = os.path.join(RUN_DIR, 'train')\n",
    "    tf.gfile.MakeDirs(train_dir)\n",
    "    tf.logging.info('Train dir: %s', train_dir)\n",
    "    \n",
    "    \n",
    "    if EVAL: # Evaluate only\n",
    "        eval_dir = os.path.join(run_dir, 'eval')\n",
    "        tf.gfile.MakeDirs(eval_dir)\n",
    "        tf.logging.info('Eval dir: %s', eval_dir)\n",
    "        num_batches = (\n",
    "            (NUM_EVAL_EXAMPLES if NUM_EVAL_EXAMPLES else\n",
    "            magenta.common.count_records(sequence_example_file_paths)) //\n",
    "            config.hparams.batch_size)\n",
    "        events_rnn_train.run_eval(build_graph_fn, train_dir, eval_dir, num_batches)\n",
    "    \n",
    "    else: # Update weights & Evaluate\n",
    "        events_rnn_train.run_training(build_graph_fn, train_dir,\n",
    "                                        NUM_TRAINING_STEPS,\n",
    "                                        SUMMARY_FREQUENCY,\n",
    "                                        checkpoints_to_keep=NUM_CHECKPOINTS)"
   ]
  },
  {
   "cell_type": "code",
   "execution_count": 48,
   "metadata": {},
   "outputs": [
    {
     "name": "stdout",
     "output_type": "stream",
     "text": [
      "INFO:tensorflow:hparams = {'batch_size': 64, 'rnn_layer_sizes': [512, 512, 512], 'dropout_keep_prob': 1.0, 'clip_norm': 3, 'learning_rate': 0.001}\n",
      "INFO:tensorflow:Train dir: ./tmp/run_logs/train\n",
      "INFO:tensorflow:Counting records in ./tmp/sequence_examples/training_performances.tfrecord.\n",
      "INFO:tensorflow:Number of records is at least 100.\n",
      "INFO:tensorflow:[<tf.Tensor 'random_shuffle_queue_Dequeue:0' shape=(?, 356) dtype=float32>, <tf.Tensor 'random_shuffle_queue_Dequeue:1' shape=(?,) dtype=int64>, <tf.Tensor 'random_shuffle_queue_Dequeue:2' shape=() dtype=int32>]\n",
      "INFO:tensorflow:Starting training loop...\n",
      "INFO:tensorflow:Create CheckpointSaverHook.\n",
      "INFO:tensorflow:Graph was finalized.\n",
      "INFO:tensorflow:Restoring parameters from ./tmp/run_logs/train/model.ckpt-5\n",
      "INFO:tensorflow:Running local_init_op.\n",
      "INFO:tensorflow:Done running local_init_op.\n",
      "INFO:tensorflow:Saving checkpoints for 6 into ./tmp/run_logs/train/model.ckpt.\n",
      "INFO:tensorflow:Global Step = 6, Loss = 4.82739, Perplexity = 124.884, Accuracy = 0.00378679\n",
      "INFO:tensorflow:Saving checkpoints for 8 into ./tmp/run_logs/train/model.ckpt.\n",
      "INFO:tensorflow:Saving checkpoints for 10 into ./tmp/run_logs/train/model.ckpt.\n",
      "INFO:tensorflow:Saving checkpoints for 12 into ./tmp/run_logs/train/model.ckpt.\n",
      "INFO:tensorflow:Saving checkpoints for 14 into ./tmp/run_logs/train/model.ckpt.\n",
      "INFO:tensorflow:Saving checkpoints for 16 into ./tmp/run_logs/train/model.ckpt.\n",
      "INFO:tensorflow:Global Step = 16, Loss = 4.49515, Perplexity = 89.5817, Accuracy = 0.0686596 (450.924 sec)\n",
      "INFO:tensorflow:global_step/sec: 0.0221765\n",
      "INFO:tensorflow:Saving checkpoints for 17 into ./tmp/run_logs/train/model.ckpt.\n",
      "INFO:tensorflow:Saving checkpoints for 18 into ./tmp/run_logs/train/model.ckpt.\n",
      "INFO:tensorflow:Saving checkpoints for 20 into ./tmp/run_logs/train/model.ckpt.\n",
      "INFO:tensorflow:Saving checkpoints for 22 into ./tmp/run_logs/train/model.ckpt.\n",
      "INFO:tensorflow:Saving checkpoints for 24 into ./tmp/run_logs/train/model.ckpt.\n",
      "INFO:tensorflow:Saving checkpoints for 26 into ./tmp/run_logs/train/model.ckpt.\n",
      "INFO:tensorflow:Global Step = 26, Loss = 4.47241, Perplexity = 87.5676, Accuracy = 0.0648415 (552.370 sec)\n",
      "INFO:tensorflow:global_step/sec: 0.018104\n",
      "INFO:tensorflow:Saving checkpoints for 28 into ./tmp/run_logs/train/model.ckpt.\n"
     ]
    },
    {
     "ename": "KeyboardInterrupt",
     "evalue": "",
     "output_type": "error",
     "traceback": [
      "\u001b[0;31m---------------------------------------------------------------------------\u001b[0m",
      "\u001b[0;31mKeyboardInterrupt\u001b[0m                         Traceback (most recent call last)",
      "\u001b[0;32m<ipython-input-48-93fd337a0d5c>\u001b[0m in \u001b[0;36m<module>\u001b[0;34m()\u001b[0m\n\u001b[0;32m----> 1\u001b[0;31m \u001b[0mtrain\u001b[0m\u001b[0;34m(\u001b[0m\u001b[0;34m)\u001b[0m\u001b[0;34m\u001b[0m\u001b[0m\n\u001b[0m",
      "\u001b[0;32m<ipython-input-47-dd4d25197948>\u001b[0m in \u001b[0;36mtrain\u001b[0;34m()\u001b[0m\n\u001b[1;32m     40\u001b[0m                                         \u001b[0mNUM_TRAINING_STEPS\u001b[0m\u001b[0;34m,\u001b[0m\u001b[0;34m\u001b[0m\u001b[0m\n\u001b[1;32m     41\u001b[0m                                         \u001b[0mSUMMARY_FREQUENCY\u001b[0m\u001b[0;34m,\u001b[0m\u001b[0;34m\u001b[0m\u001b[0m\n\u001b[0;32m---> 42\u001b[0;31m                                         checkpoints_to_keep=NUM_CHECKPOINTS)\n\u001b[0m",
      "\u001b[0;32m~/anaconda3/envs/jupyter/lib/python3.6/site-packages/magenta/models/shared/events_rnn_train.py\u001b[0m in \u001b[0;36mrun_training\u001b[0;34m(build_graph_fn, train_dir, num_training_steps, summary_frequency, save_checkpoint_secs, checkpoints_to_keep, keep_checkpoint_every_n_hours, master, task, num_ps_tasks)\u001b[0m\n\u001b[1;32m     82\u001b[0m           \u001b[0msave_summaries_steps\u001b[0m\u001b[0;34m=\u001b[0m\u001b[0msummary_frequency\u001b[0m\u001b[0;34m,\u001b[0m\u001b[0;34m\u001b[0m\u001b[0m\n\u001b[1;32m     83\u001b[0m           \u001b[0mmaster\u001b[0m\u001b[0;34m=\u001b[0m\u001b[0mmaster\u001b[0m\u001b[0;34m,\u001b[0m\u001b[0;34m\u001b[0m\u001b[0m\n\u001b[0;32m---> 84\u001b[0;31m           is_chief=task == 0)\n\u001b[0m\u001b[1;32m     85\u001b[0m       \u001b[0mtf\u001b[0m\u001b[0;34m.\u001b[0m\u001b[0mlogging\u001b[0m\u001b[0;34m.\u001b[0m\u001b[0minfo\u001b[0m\u001b[0;34m(\u001b[0m\u001b[0;34m'Training complete.'\u001b[0m\u001b[0;34m)\u001b[0m\u001b[0;34m\u001b[0m\u001b[0m\n\u001b[1;32m     86\u001b[0m \u001b[0;34m\u001b[0m\u001b[0m\n",
      "\u001b[0;32m~/anaconda3/envs/jupyter/lib/python3.6/site-packages/tensorflow/contrib/training/python/training/training.py\u001b[0m in \u001b[0;36mtrain\u001b[0;34m(train_op, logdir, master, is_chief, scaffold, hooks, chief_only_hooks, save_checkpoint_secs, save_summaries_steps, config, max_wait_secs)\u001b[0m\n\u001b[1;32m    542\u001b[0m     \u001b[0mloss\u001b[0m \u001b[0;34m=\u001b[0m \u001b[0;32mNone\u001b[0m\u001b[0;34m\u001b[0m\u001b[0m\n\u001b[1;32m    543\u001b[0m     \u001b[0;32mwhile\u001b[0m \u001b[0;32mnot\u001b[0m \u001b[0msession\u001b[0m\u001b[0;34m.\u001b[0m\u001b[0mshould_stop\u001b[0m\u001b[0;34m(\u001b[0m\u001b[0;34m)\u001b[0m\u001b[0;34m:\u001b[0m\u001b[0;34m\u001b[0m\u001b[0m\n\u001b[0;32m--> 544\u001b[0;31m       \u001b[0mloss\u001b[0m \u001b[0;34m=\u001b[0m \u001b[0msession\u001b[0m\u001b[0;34m.\u001b[0m\u001b[0mrun\u001b[0m\u001b[0;34m(\u001b[0m\u001b[0mtrain_op\u001b[0m\u001b[0;34m)\u001b[0m\u001b[0;34m\u001b[0m\u001b[0m\n\u001b[0m\u001b[1;32m    545\u001b[0m   \u001b[0;32mreturn\u001b[0m \u001b[0mloss\u001b[0m\u001b[0;34m\u001b[0m\u001b[0m\n",
      "\u001b[0;32m~/anaconda3/envs/jupyter/lib/python3.6/site-packages/tensorflow/python/training/monitored_session.py\u001b[0m in \u001b[0;36mrun\u001b[0;34m(self, fetches, feed_dict, options, run_metadata)\u001b[0m\n\u001b[1;32m    565\u001b[0m                           \u001b[0mfeed_dict\u001b[0m\u001b[0;34m=\u001b[0m\u001b[0mfeed_dict\u001b[0m\u001b[0;34m,\u001b[0m\u001b[0;34m\u001b[0m\u001b[0m\n\u001b[1;32m    566\u001b[0m                           \u001b[0moptions\u001b[0m\u001b[0;34m=\u001b[0m\u001b[0moptions\u001b[0m\u001b[0;34m,\u001b[0m\u001b[0;34m\u001b[0m\u001b[0m\n\u001b[0;32m--> 567\u001b[0;31m                           run_metadata=run_metadata)\n\u001b[0m\u001b[1;32m    568\u001b[0m \u001b[0;34m\u001b[0m\u001b[0m\n\u001b[1;32m    569\u001b[0m   \u001b[0;32mdef\u001b[0m \u001b[0mrun_step_fn\u001b[0m\u001b[0;34m(\u001b[0m\u001b[0mself\u001b[0m\u001b[0;34m,\u001b[0m \u001b[0mstep_fn\u001b[0m\u001b[0;34m)\u001b[0m\u001b[0;34m:\u001b[0m\u001b[0;34m\u001b[0m\u001b[0m\n",
      "\u001b[0;32m~/anaconda3/envs/jupyter/lib/python3.6/site-packages/tensorflow/python/training/monitored_session.py\u001b[0m in \u001b[0;36mrun\u001b[0;34m(self, fetches, feed_dict, options, run_metadata)\u001b[0m\n\u001b[1;32m   1041\u001b[0m                               \u001b[0mfeed_dict\u001b[0m\u001b[0;34m=\u001b[0m\u001b[0mfeed_dict\u001b[0m\u001b[0;34m,\u001b[0m\u001b[0;34m\u001b[0m\u001b[0m\n\u001b[1;32m   1042\u001b[0m                               \u001b[0moptions\u001b[0m\u001b[0;34m=\u001b[0m\u001b[0moptions\u001b[0m\u001b[0;34m,\u001b[0m\u001b[0;34m\u001b[0m\u001b[0m\n\u001b[0;32m-> 1043\u001b[0;31m                               run_metadata=run_metadata)\n\u001b[0m\u001b[1;32m   1044\u001b[0m       \u001b[0;32mexcept\u001b[0m \u001b[0m_PREEMPTION_ERRORS\u001b[0m \u001b[0;32mas\u001b[0m \u001b[0me\u001b[0m\u001b[0;34m:\u001b[0m\u001b[0;34m\u001b[0m\u001b[0m\n\u001b[1;32m   1045\u001b[0m         logging.info('An error was raised. This may be due to a preemption in '\n",
      "\u001b[0;32m~/anaconda3/envs/jupyter/lib/python3.6/site-packages/tensorflow/python/training/monitored_session.py\u001b[0m in \u001b[0;36mrun\u001b[0;34m(self, *args, **kwargs)\u001b[0m\n\u001b[1;32m   1117\u001b[0m   \u001b[0;32mdef\u001b[0m \u001b[0mrun\u001b[0m\u001b[0;34m(\u001b[0m\u001b[0mself\u001b[0m\u001b[0;34m,\u001b[0m \u001b[0;34m*\u001b[0m\u001b[0margs\u001b[0m\u001b[0;34m,\u001b[0m \u001b[0;34m**\u001b[0m\u001b[0mkwargs\u001b[0m\u001b[0;34m)\u001b[0m\u001b[0;34m:\u001b[0m\u001b[0;34m\u001b[0m\u001b[0m\n\u001b[1;32m   1118\u001b[0m     \u001b[0;32mtry\u001b[0m\u001b[0;34m:\u001b[0m\u001b[0;34m\u001b[0m\u001b[0m\n\u001b[0;32m-> 1119\u001b[0;31m       \u001b[0;32mreturn\u001b[0m \u001b[0mself\u001b[0m\u001b[0;34m.\u001b[0m\u001b[0m_sess\u001b[0m\u001b[0;34m.\u001b[0m\u001b[0mrun\u001b[0m\u001b[0;34m(\u001b[0m\u001b[0;34m*\u001b[0m\u001b[0margs\u001b[0m\u001b[0;34m,\u001b[0m \u001b[0;34m**\u001b[0m\u001b[0mkwargs\u001b[0m\u001b[0;34m)\u001b[0m\u001b[0;34m\u001b[0m\u001b[0m\n\u001b[0m\u001b[1;32m   1120\u001b[0m     \u001b[0;32mexcept\u001b[0m \u001b[0m_PREEMPTION_ERRORS\u001b[0m\u001b[0;34m:\u001b[0m\u001b[0;34m\u001b[0m\u001b[0m\n\u001b[1;32m   1121\u001b[0m       \u001b[0;32mraise\u001b[0m\u001b[0;34m\u001b[0m\u001b[0m\n",
      "\u001b[0;32m~/anaconda3/envs/jupyter/lib/python3.6/site-packages/tensorflow/python/training/monitored_session.py\u001b[0m in \u001b[0;36mrun\u001b[0;34m(self, fetches, feed_dict, options, run_metadata)\u001b[0m\n\u001b[1;32m   1189\u001b[0m                                   \u001b[0mfeed_dict\u001b[0m\u001b[0;34m=\u001b[0m\u001b[0mfeed_dict\u001b[0m\u001b[0;34m,\u001b[0m\u001b[0;34m\u001b[0m\u001b[0m\n\u001b[1;32m   1190\u001b[0m                                   \u001b[0moptions\u001b[0m\u001b[0;34m=\u001b[0m\u001b[0moptions\u001b[0m\u001b[0;34m,\u001b[0m\u001b[0;34m\u001b[0m\u001b[0m\n\u001b[0;32m-> 1191\u001b[0;31m                                   run_metadata=run_metadata)\n\u001b[0m\u001b[1;32m   1192\u001b[0m \u001b[0;34m\u001b[0m\u001b[0m\n\u001b[1;32m   1193\u001b[0m     \u001b[0;32mfor\u001b[0m \u001b[0mhook\u001b[0m \u001b[0;32min\u001b[0m \u001b[0mself\u001b[0m\u001b[0;34m.\u001b[0m\u001b[0m_hooks\u001b[0m\u001b[0;34m:\u001b[0m\u001b[0;34m\u001b[0m\u001b[0m\n",
      "\u001b[0;32m~/anaconda3/envs/jupyter/lib/python3.6/site-packages/tensorflow/python/training/monitored_session.py\u001b[0m in \u001b[0;36mrun\u001b[0;34m(self, *args, **kwargs)\u001b[0m\n\u001b[1;32m    969\u001b[0m \u001b[0;34m\u001b[0m\u001b[0m\n\u001b[1;32m    970\u001b[0m   \u001b[0;32mdef\u001b[0m \u001b[0mrun\u001b[0m\u001b[0;34m(\u001b[0m\u001b[0mself\u001b[0m\u001b[0;34m,\u001b[0m \u001b[0;34m*\u001b[0m\u001b[0margs\u001b[0m\u001b[0;34m,\u001b[0m \u001b[0;34m**\u001b[0m\u001b[0mkwargs\u001b[0m\u001b[0;34m)\u001b[0m\u001b[0;34m:\u001b[0m\u001b[0;34m\u001b[0m\u001b[0m\n\u001b[0;32m--> 971\u001b[0;31m     \u001b[0;32mreturn\u001b[0m \u001b[0mself\u001b[0m\u001b[0;34m.\u001b[0m\u001b[0m_sess\u001b[0m\u001b[0;34m.\u001b[0m\u001b[0mrun\u001b[0m\u001b[0;34m(\u001b[0m\u001b[0;34m*\u001b[0m\u001b[0margs\u001b[0m\u001b[0;34m,\u001b[0m \u001b[0;34m**\u001b[0m\u001b[0mkwargs\u001b[0m\u001b[0;34m)\u001b[0m\u001b[0;34m\u001b[0m\u001b[0m\n\u001b[0m\u001b[1;32m    972\u001b[0m \u001b[0;34m\u001b[0m\u001b[0m\n\u001b[1;32m    973\u001b[0m   \u001b[0;32mdef\u001b[0m \u001b[0mrun_step_fn\u001b[0m\u001b[0;34m(\u001b[0m\u001b[0mself\u001b[0m\u001b[0;34m,\u001b[0m \u001b[0mstep_fn\u001b[0m\u001b[0;34m,\u001b[0m \u001b[0mraw_session\u001b[0m\u001b[0;34m,\u001b[0m \u001b[0mrun_with_hooks\u001b[0m\u001b[0;34m)\u001b[0m\u001b[0;34m:\u001b[0m\u001b[0;34m\u001b[0m\u001b[0m\n",
      "\u001b[0;32m~/anaconda3/envs/jupyter/lib/python3.6/site-packages/tensorflow/python/client/session.py\u001b[0m in \u001b[0;36mrun\u001b[0;34m(self, fetches, feed_dict, options, run_metadata)\u001b[0m\n\u001b[1;32m    898\u001b[0m     \u001b[0;32mtry\u001b[0m\u001b[0;34m:\u001b[0m\u001b[0;34m\u001b[0m\u001b[0m\n\u001b[1;32m    899\u001b[0m       result = self._run(None, fetches, feed_dict, options_ptr,\n\u001b[0;32m--> 900\u001b[0;31m                          run_metadata_ptr)\n\u001b[0m\u001b[1;32m    901\u001b[0m       \u001b[0;32mif\u001b[0m \u001b[0mrun_metadata\u001b[0m\u001b[0;34m:\u001b[0m\u001b[0;34m\u001b[0m\u001b[0m\n\u001b[1;32m    902\u001b[0m         \u001b[0mproto_data\u001b[0m \u001b[0;34m=\u001b[0m \u001b[0mtf_session\u001b[0m\u001b[0;34m.\u001b[0m\u001b[0mTF_GetBuffer\u001b[0m\u001b[0;34m(\u001b[0m\u001b[0mrun_metadata_ptr\u001b[0m\u001b[0;34m)\u001b[0m\u001b[0;34m\u001b[0m\u001b[0m\n",
      "\u001b[0;32m~/anaconda3/envs/jupyter/lib/python3.6/site-packages/tensorflow/python/client/session.py\u001b[0m in \u001b[0;36m_run\u001b[0;34m(self, handle, fetches, feed_dict, options, run_metadata)\u001b[0m\n\u001b[1;32m   1133\u001b[0m     \u001b[0;32mif\u001b[0m \u001b[0mfinal_fetches\u001b[0m \u001b[0;32mor\u001b[0m \u001b[0mfinal_targets\u001b[0m \u001b[0;32mor\u001b[0m \u001b[0;34m(\u001b[0m\u001b[0mhandle\u001b[0m \u001b[0;32mand\u001b[0m \u001b[0mfeed_dict_tensor\u001b[0m\u001b[0;34m)\u001b[0m\u001b[0;34m:\u001b[0m\u001b[0;34m\u001b[0m\u001b[0m\n\u001b[1;32m   1134\u001b[0m       results = self._do_run(handle, final_targets, final_fetches,\n\u001b[0;32m-> 1135\u001b[0;31m                              feed_dict_tensor, options, run_metadata)\n\u001b[0m\u001b[1;32m   1136\u001b[0m     \u001b[0;32melse\u001b[0m\u001b[0;34m:\u001b[0m\u001b[0;34m\u001b[0m\u001b[0m\n\u001b[1;32m   1137\u001b[0m       \u001b[0mresults\u001b[0m \u001b[0;34m=\u001b[0m \u001b[0;34m[\u001b[0m\u001b[0;34m]\u001b[0m\u001b[0;34m\u001b[0m\u001b[0m\n",
      "\u001b[0;32m~/anaconda3/envs/jupyter/lib/python3.6/site-packages/tensorflow/python/client/session.py\u001b[0m in \u001b[0;36m_do_run\u001b[0;34m(self, handle, target_list, fetch_list, feed_dict, options, run_metadata)\u001b[0m\n\u001b[1;32m   1314\u001b[0m     \u001b[0;32mif\u001b[0m \u001b[0mhandle\u001b[0m \u001b[0;32mis\u001b[0m \u001b[0;32mNone\u001b[0m\u001b[0;34m:\u001b[0m\u001b[0;34m\u001b[0m\u001b[0m\n\u001b[1;32m   1315\u001b[0m       return self._do_call(_run_fn, feeds, fetches, targets, options,\n\u001b[0;32m-> 1316\u001b[0;31m                            run_metadata)\n\u001b[0m\u001b[1;32m   1317\u001b[0m     \u001b[0;32melse\u001b[0m\u001b[0;34m:\u001b[0m\u001b[0;34m\u001b[0m\u001b[0m\n\u001b[1;32m   1318\u001b[0m       \u001b[0;32mreturn\u001b[0m \u001b[0mself\u001b[0m\u001b[0;34m.\u001b[0m\u001b[0m_do_call\u001b[0m\u001b[0;34m(\u001b[0m\u001b[0m_prun_fn\u001b[0m\u001b[0;34m,\u001b[0m \u001b[0mhandle\u001b[0m\u001b[0;34m,\u001b[0m \u001b[0mfeeds\u001b[0m\u001b[0;34m,\u001b[0m \u001b[0mfetches\u001b[0m\u001b[0;34m)\u001b[0m\u001b[0;34m\u001b[0m\u001b[0m\n",
      "\u001b[0;32m~/anaconda3/envs/jupyter/lib/python3.6/site-packages/tensorflow/python/client/session.py\u001b[0m in \u001b[0;36m_do_call\u001b[0;34m(self, fn, *args)\u001b[0m\n\u001b[1;32m   1320\u001b[0m   \u001b[0;32mdef\u001b[0m \u001b[0m_do_call\u001b[0m\u001b[0;34m(\u001b[0m\u001b[0mself\u001b[0m\u001b[0;34m,\u001b[0m \u001b[0mfn\u001b[0m\u001b[0;34m,\u001b[0m \u001b[0;34m*\u001b[0m\u001b[0margs\u001b[0m\u001b[0;34m)\u001b[0m\u001b[0;34m:\u001b[0m\u001b[0;34m\u001b[0m\u001b[0m\n\u001b[1;32m   1321\u001b[0m     \u001b[0;32mtry\u001b[0m\u001b[0;34m:\u001b[0m\u001b[0;34m\u001b[0m\u001b[0m\n\u001b[0;32m-> 1322\u001b[0;31m       \u001b[0;32mreturn\u001b[0m \u001b[0mfn\u001b[0m\u001b[0;34m(\u001b[0m\u001b[0;34m*\u001b[0m\u001b[0margs\u001b[0m\u001b[0;34m)\u001b[0m\u001b[0;34m\u001b[0m\u001b[0m\n\u001b[0m\u001b[1;32m   1323\u001b[0m     \u001b[0;32mexcept\u001b[0m \u001b[0merrors\u001b[0m\u001b[0;34m.\u001b[0m\u001b[0mOpError\u001b[0m \u001b[0;32mas\u001b[0m \u001b[0me\u001b[0m\u001b[0;34m:\u001b[0m\u001b[0;34m\u001b[0m\u001b[0m\n\u001b[1;32m   1324\u001b[0m       \u001b[0mmessage\u001b[0m \u001b[0;34m=\u001b[0m \u001b[0mcompat\u001b[0m\u001b[0;34m.\u001b[0m\u001b[0mas_text\u001b[0m\u001b[0;34m(\u001b[0m\u001b[0me\u001b[0m\u001b[0;34m.\u001b[0m\u001b[0mmessage\u001b[0m\u001b[0;34m)\u001b[0m\u001b[0;34m\u001b[0m\u001b[0m\n",
      "\u001b[0;32m~/anaconda3/envs/jupyter/lib/python3.6/site-packages/tensorflow/python/client/session.py\u001b[0m in \u001b[0;36m_run_fn\u001b[0;34m(feed_dict, fetch_list, target_list, options, run_metadata)\u001b[0m\n\u001b[1;32m   1305\u001b[0m       \u001b[0mself\u001b[0m\u001b[0;34m.\u001b[0m\u001b[0m_extend_graph\u001b[0m\u001b[0;34m(\u001b[0m\u001b[0;34m)\u001b[0m\u001b[0;34m\u001b[0m\u001b[0m\n\u001b[1;32m   1306\u001b[0m       return self._call_tf_sessionrun(\n\u001b[0;32m-> 1307\u001b[0;31m           options, feed_dict, fetch_list, target_list, run_metadata)\n\u001b[0m\u001b[1;32m   1308\u001b[0m \u001b[0;34m\u001b[0m\u001b[0m\n\u001b[1;32m   1309\u001b[0m     \u001b[0;32mdef\u001b[0m \u001b[0m_prun_fn\u001b[0m\u001b[0;34m(\u001b[0m\u001b[0mhandle\u001b[0m\u001b[0;34m,\u001b[0m \u001b[0mfeed_dict\u001b[0m\u001b[0;34m,\u001b[0m \u001b[0mfetch_list\u001b[0m\u001b[0;34m)\u001b[0m\u001b[0;34m:\u001b[0m\u001b[0;34m\u001b[0m\u001b[0m\n",
      "\u001b[0;32m~/anaconda3/envs/jupyter/lib/python3.6/site-packages/tensorflow/python/client/session.py\u001b[0m in \u001b[0;36m_call_tf_sessionrun\u001b[0;34m(self, options, feed_dict, fetch_list, target_list, run_metadata)\u001b[0m\n\u001b[1;32m   1407\u001b[0m       return tf_session.TF_SessionRun_wrapper(\n\u001b[1;32m   1408\u001b[0m           \u001b[0mself\u001b[0m\u001b[0;34m.\u001b[0m\u001b[0m_session\u001b[0m\u001b[0;34m,\u001b[0m \u001b[0moptions\u001b[0m\u001b[0;34m,\u001b[0m \u001b[0mfeed_dict\u001b[0m\u001b[0;34m,\u001b[0m \u001b[0mfetch_list\u001b[0m\u001b[0;34m,\u001b[0m \u001b[0mtarget_list\u001b[0m\u001b[0;34m,\u001b[0m\u001b[0;34m\u001b[0m\u001b[0m\n\u001b[0;32m-> 1409\u001b[0;31m           run_metadata)\n\u001b[0m\u001b[1;32m   1410\u001b[0m     \u001b[0;32melse\u001b[0m\u001b[0;34m:\u001b[0m\u001b[0;34m\u001b[0m\u001b[0m\n\u001b[1;32m   1411\u001b[0m       \u001b[0;32mwith\u001b[0m \u001b[0merrors\u001b[0m\u001b[0;34m.\u001b[0m\u001b[0mraise_exception_on_not_ok_status\u001b[0m\u001b[0;34m(\u001b[0m\u001b[0;34m)\u001b[0m \u001b[0;32mas\u001b[0m \u001b[0mstatus\u001b[0m\u001b[0;34m:\u001b[0m\u001b[0;34m\u001b[0m\u001b[0m\n",
      "\u001b[0;31mKeyboardInterrupt\u001b[0m: "
     ]
    }
   ],
   "source": [
    "train()"
   ]
  },
  {
   "cell_type": "code",
   "execution_count": null,
   "metadata": {},
   "outputs": [],
   "source": [
    "sess = tf.InteractiveSession()"
   ]
  },
  {
   "cell_type": "code",
   "execution_count": null,
   "metadata": {},
   "outputs": [],
   "source": [
    "from magenta.common import get_padded_batch\n",
    "import tensorflow as tf\n",
    "import os\n",
    "\n",
    "sequence_example_file_paths = tf.gfile.Glob(\n",
    "      os.path.expanduser(SEQUENCE_EXAMPLE_FILE))\n",
    "    \n",
    "    \n",
    "inputs, labels, lengths = get_padded_batch(sequence_example_file_paths, 5, 10)"
   ]
  },
  {
   "cell_type": "code",
   "execution_count": null,
   "metadata": {},
   "outputs": [],
   "source": [
    "inputs"
   ]
  },
  {
   "cell_type": "code",
   "execution_count": null,
   "metadata": {},
   "outputs": [],
   "source": []
  }
 ],
 "metadata": {
  "kernelspec": {
   "display_name": "Python 3",
   "language": "python",
   "name": "python3"
  },
  "language_info": {
   "codemirror_mode": {
    "name": "ipython",
    "version": 3
   },
   "file_extension": ".py",
   "mimetype": "text/x-python",
   "name": "python",
   "nbconvert_exporter": "python",
   "pygments_lexer": "ipython3",
   "version": "3.6.3"
  }
 },
 "nbformat": 4,
 "nbformat_minor": 2
}
