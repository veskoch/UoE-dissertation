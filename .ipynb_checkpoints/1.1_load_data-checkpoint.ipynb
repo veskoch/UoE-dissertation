{
 "cells": [
  {
   "cell_type": "code",
   "execution_count": 6,
   "metadata": {},
   "outputs": [],
   "source": [
    "from magenta.scripts import convert_dir_to_note_sequences"
   ]
  },
  {
   "cell_type": "code",
   "execution_count": 8,
   "metadata": {},
   "outputs": [],
   "source": [
    "INPUT_DIR = \"./tmp/raw_xml/\"\n",
    "TFRECORD_FILE = \"./tmp/test.tfrecord\"\n",
    "OUTPUT_DIR = \"./tmp/sequence_examples/\"\n",
    "EVAL_RATIO = float()"
   ]
  },
  {
   "cell_type": "markdown",
   "metadata": {},
   "source": [
    "### 1. Load XMLs to TFRecord\n",
    "\n",
    "This will take the `.xml` files from the `INPUT_DIR` and convert them to a single `.tfrecord` file, which is a collection of `NoteSequence` protos."
   ]
  },
  {
   "cell_type": "code",
   "execution_count": 52,
   "metadata": {},
   "outputs": [
    {
     "name": "stdout",
     "output_type": "stream",
     "text": [
      "INFO:tensorflow:Converting files in './'.\n",
      "WARNING:tensorflow:Unable to find a converter for file ./.DS_Store\n",
      "WARNING:tensorflow:Unable to find a converter for file ./Ben_demographics.csv\n",
      "WARNING:tensorflow:Unable to find a converter for file ./TF Playground.ipynb\n",
      "WARNING:tensorflow:Unable to find a converter for file ./Ben_all.csv\n",
      "WARNING:tensorflow:Unable to find a converter for file ./PCA Ben.ipynb\n",
      "WARNING:tensorflow:Unable to find a converter for file ./Ben_Likart.csv\n",
      "WARNING:tensorflow:Unable to find a converter for file ./.gitmodules\n",
      "INFO:tensorflow:Converted MusicXML file ./sevenyears_adv-wholeSong-bh.xml.\n",
      "WARNING:tensorflow:Unable to find a converter for file ./README.md\n",
      "WARNING:tensorflow:Unable to find a converter for file ./Pytorch seq2seq_translation_tutorial.ipynb\n",
      "WARNING:tensorflow:Unable to find a converter for file ./Pytorch.ipynb\n",
      "WARNING:tensorflow:Unable to find a converter for file ./Survey data.csv\n",
      "WARNING:tensorflow:Unable to find a converter for file ./.ipynb_checkpoints\n",
      "WARNING:tensorflow:Unable to find a converter for file ./.git\n",
      "INFO:tensorflow:Converted MusicXML file ./sevenyears_adv-intro-bh.xml.\n",
      "WARNING:tensorflow:Unable to find a converter for file ./data\n",
      "WARNING:tensorflow:Unable to find a converter for file ./1_data_processing.ipynb\n",
      "WARNING:tensorflow:Unable to find a converter for file ./test.tfrecord\n"
     ]
    }
   ],
   "source": [
    "convert_dir_to_note_sequences.convert_directory(INPUT_DIR, TFRECORD_FILE, recursive=False)"
   ]
  },
  {
   "cell_type": "markdown",
   "metadata": {},
   "source": [
    "### 2. Useful scripts for reading"
   ]
  },
  {
   "cell_type": "markdown",
   "metadata": {},
   "source": [
    "We can read the contents of the TFRecord file holding NoteSequence records like this:"
   ]
  },
  {
   "cell_type": "raw",
   "metadata": {},
   "source": [
    "from magenta.music import note_sequence_io\n",
    "\n",
    "for record in note_sequence_io.note_sequence_record_iterator(TFRECORD_FILE):\n",
    "    note_sequence = record\n",
    "note_sequence"
   ]
  },
  {
   "cell_type": "markdown",
   "metadata": {},
   "source": [
    "The following is a more general record iterator, which accepts as a second argument the protocol buffer class to be used for deserialization. Yields a generator."
   ]
  },
  {
   "cell_type": "raw",
   "metadata": {},
   "source": [
    "from magenta.protobuf import music_pb2\n",
    "from magenta.pipelines import pipeline\n",
    "\n",
    "for record in pipeline.tf_record_iterator(TFRECORD_FILE, music_pb2.NoteSequence):\n",
    "    note_sequence = record\n",
    "note_sequence"
   ]
  },
  {
   "cell_type": "code",
   "execution_count": null,
   "metadata": {},
   "outputs": [],
   "source": []
  }
 ],
 "metadata": {
  "kernelspec": {
   "display_name": "Python 3",
   "language": "python",
   "name": "python3"
  },
  "language_info": {
   "codemirror_mode": {
    "name": "ipython",
    "version": 3
   },
   "file_extension": ".py",
   "mimetype": "text/x-python",
   "name": "python",
   "nbconvert_exporter": "python",
   "pygments_lexer": "ipython3",
   "version": "3.6.3"
  }
 },
 "nbformat": 4,
 "nbformat_minor": 2
}
