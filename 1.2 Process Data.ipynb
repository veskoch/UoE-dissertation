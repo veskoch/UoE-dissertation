{
 "cells": [
  {
   "cell_type": "markdown",
   "metadata": {},
   "source": [
    "This notebook will help you define and run pipelines to process your data. This includes data augmentation, slicing, stretching and encoding among others. If you want to use this notebook, you are expected to have already collated your original `.xml` with the help of `1.1. Collate Files.ipynb`.\n",
    "\n",
    "Pipelines are a data processing module which transforms input data types to output data types. The idea as well as bits & pieces are borrowed [the Magenta project](https://github.com/tensorflow/magenta/tree/master/magenta/pipelines).\n",
    "\n",
    "\n",
    "**INSTRUCTIONS**\n",
    " \n",
    "First, adjust the definition of the pipelines inside `pipeline_graph_def`. Then run `build_dataset`. This will create 4 files, two sets of train and evaluate. The first set is the inputs, and the second set is the targets."
   ]
  },
  {
   "cell_type": "markdown",
   "metadata": {},
   "source": [
    "**DEPENDENCIES**"
   ]
  },
  {
   "cell_type": "code",
   "execution_count": 1,
   "metadata": {},
   "outputs": [],
   "source": [
    "import data_process\n",
    "from data_process import PerformanceExtractor, PerformanceParser, TranspositionPipeline\n",
    "\n",
    "from magenta.protobuf import music_pb2\n",
    "from magenta.pipelines import pipelines_common, dag_pipeline, note_sequence_pipelines\n",
    "\n",
    "import os"
   ]
  },
  {
   "cell_type": "markdown",
   "metadata": {},
   "source": [
    "**PARAMETERS**"
   ]
  },
  {
   "cell_type": "code",
   "execution_count": 2,
   "metadata": {},
   "outputs": [],
   "source": [
    "pipeline_config = dict()\n",
    "\n",
    "pipeline_config['mode'] = \"train\"\n",
    "\n",
    "pipeline_config['data_source_dir'] = \"./data/collated/A/\"\n",
    "pipeline_config['data_target_dir'] = \"./data/processed/heron/\"\n",
    "\n",
    "# How many steps per quarter note\n",
    "pipeline_config['steps_per_quarter'] = 4\n",
    "\n",
    "pipeline_config['min_events'] = 1\n",
    "\n",
    "pipeline_config['max_events'] = 10000\n",
    "\n",
    "# Inclusive.\n",
    "pipeline_config['MIN_MIDI_PITCH'] = 0\n",
    "\n",
    "# Inclusive.\n",
    "pipeline_config['MAX_MIDI_PITCH'] = 127"
   ]
  },
  {
   "cell_type": "markdown",
   "metadata": {},
   "source": [
    "**DEFINITIONS**"
   ]
  },
  {
   "cell_type": "code",
   "execution_count": 3,
   "metadata": {},
   "outputs": [],
   "source": [
    "def pipeline_graph_def(collection_name,\n",
    "                       config):\n",
    "    \"\"\"Returns the Pipeline instance which creates the RNN dataset.\n",
    "\n",
    "    Args:\n",
    "        collection_name:\n",
    "        config: dict() with configuration settings\n",
    "\n",
    "    Returns:\n",
    "        A pipeline.Pipeline instance.\n",
    "    \"\"\"\n",
    "    \n",
    "    # Transpose no more than a major third.\n",
    "    transposition_range = range(-12, 12)\n",
    "\n",
    "    mode = pipeline_config['mode']\n",
    "    key = 'arrangement' + '_' + collection_name\n",
    "\n",
    "    quantizer = note_sequence_pipelines.Quantizer(\n",
    "        steps_per_quarter=pipeline_config['steps_per_quarter'], \n",
    "        name='Quantizer_' + key)\n",
    "        # input_type=music_pb2.NoteSequence\n",
    "        # output_type=music_pb2.NoteSequence\n",
    "\n",
    "    transposer = TranspositionPipeline(\n",
    "        transposition_range if mode == 'train' else [0],\n",
    "        min_pitch = pipeline_config['MIN_MIDI_PITCH'],\n",
    "        max_pitch = pipeline_config['MAX_MIDI_PITCH'],\n",
    "        name='Transposer_' + key)\n",
    "        # input_type=music_pb2.NoteSequence\n",
    "        # output_type=music_pb2.NoteSequence\n",
    "\n",
    "    perf_extractor = PerformanceExtractor(\n",
    "        min_events=pipeline_config['min_events'],\n",
    "        max_events=pipeline_config['max_events'],\n",
    "        num_velocity_bins=0,\n",
    "        name='PerformanceExtractor_' + key)\n",
    "        # input_type = music_pb2.NoteSequence\n",
    "        # output_type = magenta.music.MetricPerformance\n",
    "\n",
    "    perf_parser = PerformanceParser(\n",
    "        name='PerformanceParser_' + key)\n",
    "        # input_type = magenta.music.MetricPerformance\n",
    "        # output_type = str\n",
    "\n",
    "    # Reverse\n",
    "    # Meter\n",
    "    \n",
    "    dag = {}\n",
    "    dag[quantizer] = dag_pipeline.DagInput(music_pb2.NoteSequence)\n",
    "    dag[transposer] = quantizer\n",
    "    dag[perf_extractor] = transposer\n",
    "    dag[perf_parser] = perf_extractor\n",
    "    dag[dag_pipeline.DagOutput(key)] = perf_parser\n",
    "        \n",
    "    return dag_pipeline.DAGPipeline(dag)"
   ]
  },
  {
   "cell_type": "markdown",
   "metadata": {},
   "source": [
    "# Build Dataset"
   ]
  },
  {
   "cell_type": "code",
   "execution_count": 5,
   "metadata": {},
   "outputs": [
    {
     "name": "stdout",
     "output_type": "stream",
     "text": [
      "INFO: Transposition pipeline ignores Key Signatures, Pitch Names and Chord Symbols.\n",
      "INFO:tensorflow:\n",
      "\n",
      "Completed.\n",
      "\n",
      "INFO:tensorflow:Processed 99 inputs total. Produced 2376 outputs.\n",
      "INFO:tensorflow:DAGPipeline_PerformanceExtractor_arrangement_inputs_performance_lengths_in_bars:\n",
      "  [1,10): 744\n",
      "  [10,20): 696\n",
      "  [20,30): 576\n",
      "  [30,40): 264\n",
      "  [40,50): 96\n",
      "INFO:tensorflow:DAGPipeline_PerformanceExtractor_arrangement_inputs_performances_discarded_more_than_1_program: 0\n",
      "INFO:tensorflow:DAGPipeline_PerformanceExtractor_arrangement_inputs_performances_discarded_too_short: 0\n",
      "INFO:tensorflow:DAGPipeline_PerformanceExtractor_arrangement_inputs_performances_truncated: 0\n",
      "INFO:tensorflow:DAGPipeline_PerformanceExtractor_arrangement_inputs_performances_truncated_timewise: 0\n",
      "INFO:tensorflow:DAGPipeline_Transposer_arrangement_inputs_skipped_due_to_range_exceeded: 0\n",
      "INFO:tensorflow:DAGPipeline_Transposer_arrangement_inputs_transpositions_generated: 2376\n",
      "INFO: Transposition pipeline ignores Key Signatures, Pitch Names and Chord Symbols.\n",
      "INFO:tensorflow:\n",
      "\n",
      "Completed.\n",
      "\n",
      "INFO:tensorflow:Processed 99 inputs total. Produced 2376 outputs.\n",
      "INFO:tensorflow:DAGPipeline_PerformanceExtractor_arrangement_targets_performance_lengths_in_bars:\n",
      "  [1,10): 936\n",
      "  [10,20): 936\n",
      "  [20,30): 432\n",
      "  [30,40): 72\n",
      "INFO:tensorflow:DAGPipeline_PerformanceExtractor_arrangement_targets_performances_discarded_more_than_1_program: 0\n",
      "INFO:tensorflow:DAGPipeline_PerformanceExtractor_arrangement_targets_performances_discarded_too_short: 0\n",
      "INFO:tensorflow:DAGPipeline_PerformanceExtractor_arrangement_targets_performances_truncated: 0\n",
      "INFO:tensorflow:DAGPipeline_PerformanceExtractor_arrangement_targets_performances_truncated_timewise: 0\n",
      "INFO:tensorflow:DAGPipeline_Transposer_arrangement_targets_skipped_due_to_range_exceeded: 0\n",
      "INFO:tensorflow:DAGPipeline_Transposer_arrangement_targets_transpositions_generated: 2376\n"
     ]
    }
   ],
   "source": [
    "data_process.build_dataset(pipeline_config, pipeline_graph_def)"
   ]
  },
  {
   "cell_type": "markdown",
   "metadata": {},
   "source": [
    "# Build Vocabulary"
   ]
  },
  {
   "cell_type": "code",
   "execution_count": 7,
   "metadata": {},
   "outputs": [
    {
     "name": "stdout",
     "output_type": "stream",
     "text": [
      "INFO: Vocabulary built.\n"
     ]
    }
   ],
   "source": [
    "data_process.build_vocab(pipeline_config)"
   ]
  },
  {
   "cell_type": "code",
   "execution_count": null,
   "metadata": {},
   "outputs": [],
   "source": []
  }
 ],
 "metadata": {
  "kernelspec": {
   "display_name": "Python 3",
   "language": "python",
   "name": "python3"
  },
  "language_info": {
   "codemirror_mode": {
    "name": "ipython",
    "version": 3
   },
   "file_extension": ".py",
   "mimetype": "text/x-python",
   "name": "python",
   "nbconvert_exporter": "python",
   "pygments_lexer": "ipython3",
   "version": "3.6.3"
  }
 },
 "nbformat": 4,
 "nbformat_minor": 2
}
