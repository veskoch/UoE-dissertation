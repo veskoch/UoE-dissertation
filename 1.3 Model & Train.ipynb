{
 "cells": [
  {
   "cell_type": "code",
   "execution_count": 1,
   "metadata": {},
   "outputs": [],
   "source": [
    "import opennmt as onmt\n",
    "\n",
    "import inspect\n",
    "\n",
    "import catalog\n",
    "import model_main"
   ]
  },
  {
   "cell_type": "markdown",
   "metadata": {},
   "source": [
    "# Model"
   ]
  },
  {
   "cell_type": "markdown",
   "metadata": {},
   "source": [
    "Configurations for this model are stored in 3 places. In order of hierarchy those are:\n",
    "* **Execution Parameters** Highest-level of settings for a particular run. Here we choose, for example, whether to train, evaluate or infer.\n",
    "    * The `onmt_config` dictionary in this Notebook\n",
    "* **Models** A list of classes which define the model architectures which will be constructed and used at runtime.\n",
    "    * `catalog.py`\n",
    "* **Model Hyperparameters** The hyperparameters (i.e. optimizer, learning rate, beam width) for use in the models defined above.\n",
    "    * `onmt_config_main.yml` \n",
    "    \n",
    "    \n",
    "Another important thing to know is that this model is based on Open-NMT-tf: [API Refernce](http://opennmt.net/OpenNMT-tf/package/opennmt.html) | [GitHub](https://github.com/OpenNMT/OpenNMT-tf). Most of the core is untouched. Think of this Jupyter Notebook as a think wrapper serving as a control panel.\n"
   ]
  },
  {
   "cell_type": "markdown",
   "metadata": {},
   "source": [
    "### Execution Parameters"
   ]
  },
  {
   "cell_type": "code",
   "execution_count": 5,
   "metadata": {},
   "outputs": [],
   "source": [
    "onmt_config = {}\n",
    "\n",
    "# One of \"train_and_eval\", \"train\", \"eval\", \"infer\", \"export\", \"score\".\n",
    "onmt_config['run'] = 'train'\n",
    "\n",
    "# List of configuration files.\n",
    "# Accepts multiples so that some parts can be made reusable.\n",
    "onmt_config['config'] = ['onmt_config_main.yml']\n",
    "\n",
    "# Model type from the catalog.\n",
    "onmt_config['model_type'] = list(classes_in_module(catalog))\n",
    "\n",
    "# Custom model configuration file\n",
    "onmt_config['model'] = ''\n",
    "\n",
    "# If set, model_dir will be created relative to this location.\n",
    "onmt_config['run_dir'] = ''\n",
    "\n",
    "# If set, data files are expected to be relative to this location.\n",
    "onmt_config['data_dir'] = ''\n",
    "\n",
    "# Run inference on this file.\n",
    "onmt_config['features_file'] = []\n",
    "\n",
    "# File used to save predictions. If not set, predictions are printed\n",
    "# on the standard output.\n",
    "onmt_config['predictions_file'] = ''\n",
    "\n",
    "# Logs some prediction time metrics.\n",
    "onmt_config['log_prediction_time'] = False\n",
    "\n",
    "# Checkpoint or directory to use for inference or export \n",
    "# when a directory is set, the latest checkpoint is used\n",
    "onmt_config['checkpoint_path'] = None\n",
    "\n",
    "# Number of GPUs to use for in-graph replication.\n",
    "onmt_config['num_gpus'] = 1\n",
    "\n",
    "# hostname:port of the chief worker (for distributed training).\n",
    "onmt_config['chief_host'] = ''\n",
    "\n",
    "# Comma-separated list of hostname:port of workers\n",
    "# for distributed training).\"\n",
    "onmt_config['worker_hosts'] = ''\n",
    "\n",
    "# Comma-separated list of hostname:port of parameter servers\n",
    "# (for distributed training).\n",
    "onmt_config['ps_hosts'] = ''\n",
    "\n",
    "# Type of the task to run (for distributed training).\n",
    "# One of \"chief\", \"worker\", \"ps\", \"evaluator\"\n",
    "onmt_config['task_type'] = 'chief'\n",
    "\n",
    "# ID of the task (for distributed training).\n",
    "onmt_config['task_index'] = 0\n",
    "\n",
    "# One of \"DEBUG\", \"ERROR\", \"FATAL\", \"INFO\", \"WARN\"\n",
    "onmt_config['log_level'] = 'INFO'\n",
    "\n",
    "# Random seed.\n",
    "onmt_config['seed'] = None\n",
    "\n",
    "# Allocate GPU memory dynamically.\n",
    "onmt_config['gpu_allow_growth'] = False\n",
    "\n",
    "# Number of intra op threads (0 means the system picks\n",
    "# an appropriate number).\n",
    "onmt_config['intra_op_parallelism_threads'] = 0\n",
    "\n",
    "# Number of inter op threads (0 means the system picks\n",
    "# an appropriate number).\n",
    "onmt_config['inter_op_parallelism_threads'] = 0\n"
   ]
  },
  {
   "cell_type": "markdown",
   "metadata": {},
   "source": [
    "### Helper functions"
   ]
  },
  {
   "cell_type": "code",
   "execution_count": 4,
   "metadata": {},
   "outputs": [],
   "source": [
    "def classes_in_module(module):\n",
    "    \"\"\"Returns a generator over the classes defined in :obj:`module`.\"\"\"\n",
    "    return (symbol for symbol in dir(module) if inspect.isclass(getattr(module, symbol)))"
   ]
  },
  {
   "cell_type": "markdown",
   "metadata": {},
   "source": [
    "# A Big Red Button\n",
    "\n",
    "Execute cell bellow to run."
   ]
  },
  {
   "cell_type": "code",
   "execution_count": 6,
   "metadata": {},
   "outputs": [
    {
     "name": "stdout",
     "output_type": "stream",
     "text": [
      "INFO:tensorflow:Creating model directory toy-ende\n"
     ]
    },
    {
     "ename": "TypeError",
     "evalue": "getattr(): attribute name must be string",
     "output_type": "error",
     "traceback": [
      "\u001b[0;31m---------------------------------------------------------------------------\u001b[0m",
      "\u001b[0;31mTypeError\u001b[0m                                 Traceback (most recent call last)",
      "\u001b[0;32m<ipython-input-6-1fa6b67aea2a>\u001b[0m in \u001b[0;36m<module>\u001b[0;34m()\u001b[0m\n\u001b[0;32m----> 1\u001b[0;31m \u001b[0mmodel_main\u001b[0m\u001b[0;34m.\u001b[0m\u001b[0mmain\u001b[0m\u001b[0;34m(\u001b[0m\u001b[0monmt_config\u001b[0m\u001b[0;34m)\u001b[0m\u001b[0;34m\u001b[0m\u001b[0m\n\u001b[0m",
      "\u001b[0;32m~/GitHub/UoE-dissertation/model_main.py\u001b[0m in \u001b[0;36mmain\u001b[0;34m(args)\u001b[0m\n\u001b[1;32m     66\u001b[0m     \u001b[0mos\u001b[0m\u001b[0;34m.\u001b[0m\u001b[0mmakedirs\u001b[0m\u001b[0;34m(\u001b[0m\u001b[0mconfig\u001b[0m\u001b[0;34m[\u001b[0m\u001b[0;34m\"model_dir\"\u001b[0m\u001b[0;34m]\u001b[0m\u001b[0;34m)\u001b[0m\u001b[0;34m\u001b[0m\u001b[0m\n\u001b[1;32m     67\u001b[0m \u001b[0;34m\u001b[0m\u001b[0m\n\u001b[0;32m---> 68\u001b[0;31m   \u001b[0mmodel\u001b[0m \u001b[0;34m=\u001b[0m \u001b[0mload_model\u001b[0m\u001b[0;34m(\u001b[0m\u001b[0mconfig\u001b[0m\u001b[0;34m[\u001b[0m\u001b[0;34m\"model_dir\"\u001b[0m\u001b[0;34m]\u001b[0m\u001b[0;34m,\u001b[0m \u001b[0mmodel_file\u001b[0m\u001b[0;34m=\u001b[0m\u001b[0margs\u001b[0m\u001b[0;34m.\u001b[0m\u001b[0mmodel\u001b[0m\u001b[0;34m,\u001b[0m \u001b[0mmodel_name\u001b[0m\u001b[0;34m=\u001b[0m\u001b[0margs\u001b[0m\u001b[0;34m.\u001b[0m\u001b[0mmodel_type\u001b[0m\u001b[0;34m)\u001b[0m\u001b[0;34m\u001b[0m\u001b[0m\n\u001b[0m\u001b[1;32m     69\u001b[0m   session_config = tf.ConfigProto(\n\u001b[1;32m     70\u001b[0m       \u001b[0mintra_op_parallelism_threads\u001b[0m\u001b[0;34m=\u001b[0m\u001b[0margs\u001b[0m\u001b[0;34m.\u001b[0m\u001b[0mintra_op_parallelism_threads\u001b[0m\u001b[0;34m,\u001b[0m\u001b[0;34m\u001b[0m\u001b[0m\n",
      "\u001b[0;32m~/anaconda3/envs/jupyter/lib/python3.6/site-packages/opennmt/config.py\u001b[0m in \u001b[0;36mload_model\u001b[0;34m(model_dir, model_file, model_name)\u001b[0m\n\u001b[1;32m     79\u001b[0m       \u001b[0mmodel\u001b[0m \u001b[0;34m=\u001b[0m \u001b[0mmodel_config\u001b[0m\u001b[0;34m.\u001b[0m\u001b[0mmodel\u001b[0m\u001b[0;34m(\u001b[0m\u001b[0;34m)\u001b[0m\u001b[0;34m\u001b[0m\u001b[0m\n\u001b[1;32m     80\u001b[0m     \u001b[0;32melif\u001b[0m \u001b[0mmodel_name\u001b[0m\u001b[0;34m:\u001b[0m\u001b[0;34m\u001b[0m\u001b[0m\n\u001b[0;32m---> 81\u001b[0;31m       \u001b[0mmodel\u001b[0m \u001b[0;34m=\u001b[0m \u001b[0mload_model_from_catalog\u001b[0m\u001b[0;34m(\u001b[0m\u001b[0mmodel_name\u001b[0m\u001b[0;34m)\u001b[0m\u001b[0;34m\u001b[0m\u001b[0m\n\u001b[0m\u001b[1;32m     82\u001b[0m \u001b[0;34m\u001b[0m\u001b[0m\n\u001b[1;32m     83\u001b[0m     \u001b[0;32mwith\u001b[0m \u001b[0mopen\u001b[0m\u001b[0;34m(\u001b[0m\u001b[0mserial_model_file\u001b[0m\u001b[0;34m,\u001b[0m \u001b[0;34m\"wb\"\u001b[0m\u001b[0;34m)\u001b[0m \u001b[0;32mas\u001b[0m \u001b[0mserial_model\u001b[0m\u001b[0;34m:\u001b[0m\u001b[0;34m\u001b[0m\u001b[0m\n",
      "\u001b[0;32m~/anaconda3/envs/jupyter/lib/python3.6/site-packages/opennmt/config.py\u001b[0m in \u001b[0;36mload_model_from_catalog\u001b[0;34m(name)\u001b[0m\n\u001b[1;32m     41\u001b[0m     \u001b[0mA\u001b[0m \u001b[0;34m:\u001b[0m\u001b[0;32mclass\u001b[0m\u001b[0;34m:\u001b[0m\u001b[0;31m`\u001b[0m\u001b[0mopennmt\u001b[0m\u001b[0;34m.\u001b[0m\u001b[0mmodels\u001b[0m\u001b[0;34m.\u001b[0m\u001b[0mmodel\u001b[0m\u001b[0;34m.\u001b[0m\u001b[0mModel\u001b[0m\u001b[0;31m`\u001b[0m \u001b[0minstance\u001b[0m\u001b[0;34m.\u001b[0m\u001b[0;34m\u001b[0m\u001b[0m\n\u001b[1;32m     42\u001b[0m   \"\"\"\n\u001b[0;32m---> 43\u001b[0;31m   \u001b[0;32mreturn\u001b[0m \u001b[0mgetattr\u001b[0m\u001b[0;34m(\u001b[0m\u001b[0mcatalog\u001b[0m\u001b[0;34m,\u001b[0m \u001b[0mname\u001b[0m\u001b[0;34m)\u001b[0m\u001b[0;34m(\u001b[0m\u001b[0;34m)\u001b[0m\u001b[0;34m\u001b[0m\u001b[0m\n\u001b[0m\u001b[1;32m     44\u001b[0m \u001b[0;34m\u001b[0m\u001b[0m\n\u001b[1;32m     45\u001b[0m \u001b[0;32mdef\u001b[0m \u001b[0mload_model\u001b[0m\u001b[0;34m(\u001b[0m\u001b[0mmodel_dir\u001b[0m\u001b[0;34m,\u001b[0m \u001b[0mmodel_file\u001b[0m\u001b[0;34m=\u001b[0m\u001b[0;32mNone\u001b[0m\u001b[0;34m,\u001b[0m \u001b[0mmodel_name\u001b[0m\u001b[0;34m=\u001b[0m\u001b[0;32mNone\u001b[0m\u001b[0;34m)\u001b[0m\u001b[0;34m:\u001b[0m\u001b[0;34m\u001b[0m\u001b[0m\n",
      "\u001b[0;31mTypeError\u001b[0m: getattr(): attribute name must be string"
     ]
    }
   ],
   "source": [
    "model_main.main(onmt_config)"
   ]
  },
  {
   "cell_type": "code",
   "execution_count": null,
   "metadata": {},
   "outputs": [],
   "source": []
  },
  {
   "cell_type": "code",
   "execution_count": null,
   "metadata": {},
   "outputs": [],
   "source": []
  }
 ],
 "metadata": {
  "kernelspec": {
   "display_name": "Python 3",
   "language": "python",
   "name": "python3"
  },
  "language_info": {
   "codemirror_mode": {
    "name": "ipython",
    "version": 3
   },
   "file_extension": ".py",
   "mimetype": "text/x-python",
   "name": "python",
   "nbconvert_exporter": "python",
   "pygments_lexer": "ipython3",
   "version": "3.6.3"
  }
 },
 "nbformat": 4,
 "nbformat_minor": 2
}
